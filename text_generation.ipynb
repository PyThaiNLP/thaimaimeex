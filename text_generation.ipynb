{
  "nbformat": 4,
  "nbformat_minor": 0,
  "metadata": {
    "accelerator": "GPU",
    "colab": {
      "name": "text_generation.ipynb",
      "provenance": [],
      "include_colab_link": true
    },
    "kernelspec": {
      "display_name": "Python 3",
      "language": "python",
      "name": "python3"
    },
    "language_info": {
      "codemirror_mode": {
        "name": "ipython",
        "version": 3
      },
      "file_extension": ".py",
      "mimetype": "text/x-python",
      "name": "python",
      "nbconvert_exporter": "python",
      "pygments_lexer": "ipython3",
      "version": "3.6.8"
    }
  },
  "cells": [
    {
      "cell_type": "markdown",
      "metadata": {
        "id": "view-in-github",
        "colab_type": "text"
      },
      "source": [
        "<a href=\"https://colab.research.google.com/github/PyThaiNLP/thaimaimeex/blob/master/text_generation.ipynb\" target=\"_parent\"><img src=\"https://colab.research.google.com/assets/colab-badge.svg\" alt=\"Open In Colab\"/></a>"
      ]
    },
    {
      "cell_type": "markdown",
      "metadata": {
        "colab_type": "text",
        "id": "vfD07MBXKROC"
      },
      "source": [
        "# ThaiME Project Name Generation"
      ]
    },
    {
      "cell_type": "markdown",
      "metadata": {
        "colab_type": "text",
        "id": "BunBriX0KROF"
      },
      "source": [
        "This notebook allows you to generate ThaiME project names based on the language model trained on over 30,000 ThaiME project names. You can also try naming your own project and have it estimated by a LinearSVC model trained on the [thaimaimeex](https://github.com/PyThaiNLP/thaimaimeex) dataset."
      ]
    },
    {
      "cell_type": "markdown",
      "metadata": {
        "id": "q9Z5urfluzvH",
        "colab_type": "text"
      },
      "source": [
        "## Setups"
      ]
    },
    {
      "cell_type": "markdown",
      "metadata": {
        "id": "2db5PGbW0pqy",
        "colab_type": "text"
      },
      "source": [
        "Run all cells to prepare."
      ]
    },
    {
      "cell_type": "code",
      "metadata": {
        "colab_type": "code",
        "id": "O8IVDoE9KROG",
        "colab": {
          "base_uri": "https://localhost:8080/",
          "height": 295
        },
        "cellView": "both",
        "outputId": "903f636f-f021-430f-f1ef-97e293651af2"
      },
      "source": [
        "#@title\n",
        "#download and installs for colab\n",
        "!npx degit pythainlp/thaimaimeex -f\n",
        "!pip install emoji\n",
        "!pip install pythainlp -q"
      ],
      "execution_count": 1,
      "outputs": [
        {
          "output_type": "stream",
          "text": [
            "\u001b[K\u001b[?25hnpx: installed 1 in 3.414s\n",
            "\u001b[36m> destination directory is not empty. Using --force, continuing\u001b[39m\n",
            "\u001b[36m> cloned \u001b[1mpythainlp/thaimaimeex\u001b[22m#\u001b[1mmaster\u001b[22m\u001b[39m\n",
            "Collecting emoji\n",
            "\u001b[?25l  Downloading https://files.pythonhosted.org/packages/40/8d/521be7f0091fe0f2ae690cc044faf43e3445e0ff33c574eae752dd7e39fa/emoji-0.5.4.tar.gz (43kB)\n",
            "\u001b[K     |████████████████████████████████| 51kB 2.0MB/s \n",
            "\u001b[?25hBuilding wheels for collected packages: emoji\n",
            "  Building wheel for emoji (setup.py) ... \u001b[?25l\u001b[?25hdone\n",
            "  Created wheel for emoji: filename=emoji-0.5.4-cp36-none-any.whl size=42176 sha256=5d1bda41d568f30aa73ea121dd1d8994e1f21c9d1efee0c8c4c946a6e400d9e5\n",
            "  Stored in directory: /root/.cache/pip/wheels/2a/a9/0a/4f8e8cce8074232aba240caca3fade315bb49fac68808d1a9c\n",
            "Successfully built emoji\n",
            "Installing collected packages: emoji\n",
            "Successfully installed emoji-0.5.4\n",
            "\u001b[K     |████████████████████████████████| 11.1MB 235kB/s \n",
            "\u001b[K     |████████████████████████████████| 1.4MB 37.3MB/s \n",
            "\u001b[?25h  Building wheel for nltk (setup.py) ... \u001b[?25l\u001b[?25hdone\n"
          ],
          "name": "stdout"
        }
      ]
    },
    {
      "cell_type": "code",
      "metadata": {
        "colab_type": "code",
        "id": "DvwUYZGmKROK",
        "colab": {}
      },
      "source": [
        "import pandas as pd\n",
        "import numpy as np\n",
        "from ast import literal_eval\n",
        "from tqdm import tqdm_notebook\n",
        "from collections import Counter\n",
        "from joblib import dump, load\n",
        "import re\n",
        "\n",
        "#viz\n",
        "import matplotlib.pyplot as plt\n",
        "import seaborn as sns\n",
        "\n",
        "#fastai\n",
        "import fastai\n",
        "from fastai.text import *\n",
        "from fastai.callbacks import CSVLogger\n",
        "\n",
        "#pythainlp\n",
        "from pythainlp.ulmfit import *"
      ],
      "execution_count": 0,
      "outputs": []
    },
    {
      "cell_type": "code",
      "metadata": {
        "id": "lgZAWj78rDoX",
        "colab_type": "code",
        "colab": {}
      },
      "source": [
        "# #budget estimator\n",
        "# !wget https://github.com/PyThaiNLP/pythainlp-corpus/releases/download/thaime_lm_lstm-v.01/thaime_clf.joblib\n",
        "# #lm data\n",
        "# !wget https://github.com/PyThaiNLP/pythainlp-corpus/releases/download/thaime_lm_lstm-v.01/thaime_lm.pkl\n",
        "# #lm model"
      ],
      "execution_count": 0,
      "outputs": []
    },
    {
      "cell_type": "code",
      "metadata": {
        "id": "-bAl_O87ZKwh",
        "colab_type": "code",
        "colab": {
          "base_uri": "https://localhost:8080/",
          "height": 35
        },
        "outputId": "1c5c6a40-e6ae-400e-b0db-4a6e76aaff14"
      },
      "source": [
        "clf = load('thaime_clf.joblib') \n",
        "np.exp(clf.predict(['โครงการพัฒนาผลิตภัณฑ์ชุมชน']))"
      ],
      "execution_count": 26,
      "outputs": [
        {
          "output_type": "execute_result",
          "data": {
            "text/plain": [
              "array([2124051.585378])"
            ]
          },
          "metadata": {
            "tags": []
          },
          "execution_count": 26
        }
      ]
    },
    {
      "cell_type": "code",
      "metadata": {
        "id": "R5oNZ7nexrSp",
        "colab_type": "code",
        "colab": {}
      },
      "source": [
        "data_lm = load_data('','thaime_lm.pkl')\n",
        "data_lm.sanity_check()\n",
        "\n",
        "#check vocab size\n",
        "len(data_lm.vocab.itos)\n",
        "\n",
        "config = dict(emb_sz=400, n_hid=1550, n_layers=4, pad_token=1, qrnn=False, tie_weights=True, out_bias=True,\n",
        "             output_p=0.25, hidden_p=0.1, input_p=0.2, embed_p=0.02, weight_p=0.15)\n",
        "trn_args = dict(drop_mult=0.9, clip=0.12, alpha=2, beta=1)\n",
        "\n",
        "learn = language_model_learner(data_lm, AWD_LSTM, config=config, pretrained=False, **trn_args)\n",
        "\n",
        "#load pretrained models\n",
        "learn.load('thaime_lm')"
      ],
      "execution_count": 0,
      "outputs": []
    },
    {
      "cell_type": "markdown",
      "metadata": {
        "id": "-XuZ2qbYxwwc",
        "colab_type": "text"
      },
      "source": [
        "## Generate Project Names"
      ]
    },
    {
      "cell_type": "markdown",
      "metadata": {
        "id": "yPcYQc6OxyXr",
        "colab_type": "text"
      },
      "source": [
        "Generate project names with some parameters."
      ]
    },
    {
      "cell_type": "code",
      "metadata": {
        "id": "h8_dHUkzxnNX",
        "colab_type": "code",
        "colab": {
          "base_uri": "https://localhost:8080/",
          "height": 364
        },
        "cellView": "form",
        "outputId": "3252b4b5-44f2-452f-d95d-f81bad066268"
      },
      "source": [
        "#@title {run: \"auto\"}\n",
        "Length = 20 #@param {type:\"slider\", min:10, max:200, step:1}\n",
        "Temperature = 0.8 #@param {type:\"slider\", min:0.1, max:1.5, step:0.1}\n",
        "Seed_Word = 'โครงการ' #@param {type:\"string\"}\n",
        "nb_ = 20\n",
        "\n",
        "for i in range(nb_):\n",
        "    t = learn.predict(Seed_Word, \n",
        "                      Length, \n",
        "                      temperature=Temperature, \n",
        "                      min_p=0.005, sep = '')\n",
        "    est = np.round(np.exp(clf.predict([t])[0])/1e6,2)\n",
        "    print(f'{t} ราคา:{est}M')"
      ],
      "execution_count": 59,
      "outputs": [
        {
          "output_type": "stream",
          "text": [
            "โครงการก่อสร้างถนนคอนกรีตเสริมเหล็ก สายบ้านกุดสิมโคก หมู่ที่ 6 (สายทางถนน ราคา:0.57M\n",
            "โครงการเสริมผิวลาดยางแอสฟัลท์ติกคอนกรีต (สายบ้านนายบุญคง - ราคา:1.11M\n",
            "โครงการก่อสร้างถนนคอนกรีตเสริมเหล็กสายบ้านนายบุญเกิด หมู่ที่ 6 - หมู่ที่ 3 ราคา:1.03M\n",
            "โครงการ ติดตั้งระบบ โซล่าเซลล์ เพื่อพัฒนาโครงสร้างพื้นฐานและโครงสร้างพื้นฐาน ทางหลวงชนบท หมายเลข 004 ราคา:12.64M\n",
            "โครงการซ่อมสร้างผิวทางแอสฟัลท์ติกคอนกรีต สาย ยส.ถ.1- ถ. ราคา:4.71M\n",
            "โครงการก่อสร้างถนนคอนกรีตเสริมเหล็ก สายซอยถนน 2 หมู่ที่ 4 บ้านหัวหิน ตำบล ราคา:1.35M\n",
            "โครงการก่อสร้างถนนแอสฟัลท์ติกคอนกรีต ซอย 8 หมู่ที่ 10 บ้าน ราคา:1.99M\n",
            "โครงการก่อสร้างถนนคอนกรีตเสริมเหล็ก สายหนอง นา ม.11 บ้านท่าหิน หมู่ที่ 1 ราคา:0.85M\n",
            "โครงการก่อสร้างถนนคอนกรีตเสริมเหล็ก สายบ้านกุดเชียงหมี หมู่ที่ 9 - บ้านทุ่งกลาง ราคา:2.02M\n",
            "โครงการก่อสร้างถนนคอนกรีตเสริมเหล็ก หมู่ที่ 3 บ้านบางอ้อ ต.บางใหญ่ อ.บางสะพาน ราคา:2.52M\n",
            "โครงการก่อสร้างถนนคอนกรีตเสริมเหล็ก สายบ้านคลอง - ห้วยหนองบอน หมู่ที่ 8 บ้าน ราคา:1.14M\n",
            "โครงการเสริมผิวจราจรแอสฟัลท์คอนกรีต สาย ยส.ถ.1- บ้านหนองบัว - บ้าน ราคา:2.11M\n",
            "โครงการขยายเขตระบบประปาหมู่บ้าน บ้านห้วยแก้ว บ้านวังยาง หมู่ที่ 9 ตำบล ราคา:0.93M\n",
            "โครงการก่อสร้างถนนคอนกรีตเสริมเหล็ก สายซอย 1xxbos โครงการขุดลอกคลองห้วยบอน (ตอนบน ราคา:0.85M\n",
            "โครงการก่อสร้างถนนคอนกรีตเสริมเหล็ก สายทางถนน คสล. หมู่ที่ 7 บ้านดอนสว่าง  ราคา:0.52M\n",
            "โครงการติดตั้งไฟฟ้าแสงสว่าง สาย ยส.ถ.1- บ.บ้านวังโป่ง ต.วังสว่าง  ราคา:0.53M\n",
            "โครงการก่อสร้างถนนคอนกรีตเสริมเหล็ก สายบ้านคำแก้ว หมู่ที่ 5 ตำบลกุดเชียงหมี อำเภอ ราคา:0.91M\n",
            "โครงการก่อสร้างถนนคอนกรีตเสริมเหล็กภายในหมู่บ้าน หมู่ที่ 6 บ้านโคก ตำบลห้วยผึ้ง อำเภอบ้าน ราคา:0.86M\n",
            "โครงการส่งเสริมการปลูกผักแบบผสมผสานเพื่อการแปรรูปสู่ผู้ประกอบการในท้องถิ่น โดยการแปรรูปสินค้าเกษตรและ ราคา:1.35M\n",
            "โครงการก่อสร้างถนนคอนกรีตเสริมเหล็ก ถนนสายบ้านห้วยขาม หมู่ที่ 4 บ้านห้วยผึ้งxxbos  ราคา:0.95M\n"
          ],
          "name": "stdout"
        }
      ]
    },
    {
      "cell_type": "markdown",
      "metadata": {
        "id": "cMxYehxs0e_w",
        "colab_type": "text"
      },
      "source": [
        "## DIY Project Names"
      ]
    },
    {
      "cell_type": "markdown",
      "metadata": {
        "id": "3h0phogs0heX",
        "colab_type": "text"
      },
      "source": [
        "Enter your own project names and see how much budget it would have."
      ]
    },
    {
      "cell_type": "code",
      "metadata": {
        "id": "qlAxCXzVvgj2",
        "colab_type": "code",
        "colab": {
          "base_uri": "https://localhost:8080/",
          "height": 35
        },
        "cellView": "form",
        "outputId": "b9144a51-335a-4266-9783-c4914b092320"
      },
      "source": [
        "Project_Name = 'โครงการอะไรสักอย่าง' #@param {type:\"string\"}\n",
        "cost = round(np.exp(clf.predict([Project_Name])[0])/1e6,2)\n",
        "print(f'{cost}M THB')"
      ],
      "execution_count": 62,
      "outputs": [
        {
          "output_type": "stream",
          "text": [
            "4.38M THB\n"
          ],
          "name": "stdout"
        }
      ]
    }
  ]
}