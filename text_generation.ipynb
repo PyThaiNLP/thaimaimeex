{
  "nbformat": 4,
  "nbformat_minor": 0,
  "metadata": {
    "accelerator": "GPU",
    "colab": {
      "name": "text_generation.ipynb",
      "provenance": [],
      "toc_visible": true,
      "include_colab_link": true
    },
    "kernelspec": {
      "display_name": "Python 3",
      "language": "python",
      "name": "python3"
    },
    "language_info": {
      "codemirror_mode": {
        "name": "ipython",
        "version": 3
      },
      "file_extension": ".py",
      "mimetype": "text/x-python",
      "name": "python",
      "nbconvert_exporter": "python",
      "pygments_lexer": "ipython3",
      "version": "3.6.8"
    }
  },
  "cells": [
    {
      "cell_type": "markdown",
      "metadata": {
        "id": "view-in-github",
        "colab_type": "text"
      },
      "source": [
        "<a href=\"https://colab.research.google.com/github/PyThaiNLP/thaimaimeex/blob/master/text_generation.ipynb\" target=\"_parent\"><img src=\"https://colab.research.google.com/assets/colab-badge.svg\" alt=\"Open In Colab\"/></a>"
      ]
    },
    {
      "cell_type": "markdown",
      "metadata": {
        "colab_type": "text",
        "id": "vfD07MBXKROC"
      },
      "source": [
        "# ThaiME Project Name Generation"
      ]
    },
    {
      "cell_type": "markdown",
      "metadata": {
        "colab_type": "text",
        "id": "BunBriX0KROF"
      },
      "source": [
        "This notebook allows you to generate ThaiME project names based on the language model trained on over 30,000 ThaiME project names. You can also try naming your own project and have it estimated by a LinearSVR model trained on the [thaimaimeex](https://github.com/PyThaiNLP/thaimaimeex) dataset."
      ]
    },
    {
      "cell_type": "markdown",
      "metadata": {
        "id": "q9Z5urfluzvH",
        "colab_type": "text"
      },
      "source": [
        "## Run Below to Prepare"
      ]
    },
    {
      "cell_type": "code",
      "metadata": {
        "colab_type": "code",
        "id": "O8IVDoE9KROG",
        "cellView": "both",
        "colab": {}
      },
      "source": [
        "#download and installs for colab\n",
        "!npx degit pythainlp/thaimaimeex -f\n",
        "!pip install pythainlp -q\n",
        "!pip install emoji\n",
        "\n",
        "#download files\n",
        "#budget estimator\n",
        "!wget https://github.com/PyThaiNLP/pythainlp-corpus/releases/download/thaime_lm_lstm-v.01/thaime_clf.joblib\n",
        "#lm data\n",
        "!wget https://github.com/PyThaiNLP/pythainlp-corpus/releases/download/thaime_lm_lstm-v.01/thaime_lm.pkl\n",
        "#lm model\n",
        "!wget https://github.com/PyThaiNLP/pythainlp-corpus/releases/download/thaime_lm_lstm-v.01/thaime_lm.pth\n",
        "!mkdir models; mv thaime_lm.pth models\n",
        "\n",
        "#imports\n",
        "import numpy as np\n",
        "from joblib import dump, load\n",
        "\n",
        "#fastai\n",
        "import fastai\n",
        "from fastai.text import *\n",
        "\n",
        "#classification model\n",
        "clf = load('thaime_clf.joblib') \n",
        "\n",
        "#generation model\n",
        "data_lm = load_data('','thaime_lm.pkl')\n",
        "data_lm.sanity_check()\n",
        "\n",
        "#check vocab size\n",
        "len(data_lm.vocab.itos)\n",
        "\n",
        "config = dict(emb_sz=400, n_hid=1550, n_layers=4, pad_token=1, qrnn=False, tie_weights=True, out_bias=True,\n",
        "             output_p=0.25, hidden_p=0.1, input_p=0.2, embed_p=0.02, weight_p=0.15)\n",
        "trn_args = dict(drop_mult=0.9, clip=0.12, alpha=2, beta=1)\n",
        "\n",
        "learn = language_model_learner(data_lm, AWD_LSTM, config=config, pretrained=False, **trn_args)\n",
        "\n",
        "#load pretrained models\n",
        "learn.load('thaime_lm');"
      ],
      "execution_count": 0,
      "outputs": []
    },
    {
      "cell_type": "markdown",
      "metadata": {
        "id": "-XuZ2qbYxwwc",
        "colab_type": "text"
      },
      "source": [
        "## Generate Project Names"
      ]
    },
    {
      "cell_type": "markdown",
      "metadata": {
        "id": "yPcYQc6OxyXr",
        "colab_type": "text"
      },
      "source": [
        "Generate project names with some parameters."
      ]
    },
    {
      "cell_type": "code",
      "metadata": {
        "id": "h8_dHUkzxnNX",
        "colab_type": "code",
        "cellView": "form",
        "outputId": "f654be82-3cf2-411d-cdd4-6824b8cb31b3",
        "colab": {
          "base_uri": "https://localhost:8080/",
          "height": 384
        }
      },
      "source": [
        "#@title {run: \"auto\"}\n",
        "Length = 25 #@param {type:\"slider\", min:10, max:200, step:1}\n",
        "Temperature = 0.8 #@param {type:\"slider\", min:0.1, max:1.5, step:0.1}\n",
        "Seed_Word = 'โครงการ' #@param {type:\"string\"}\n",
        "nb_ = 20\n",
        "\n",
        "for i in range(nb_):\n",
        "    t = learn.predict(Seed_Word, \n",
        "                      Length, \n",
        "                      temperature=Temperature, \n",
        "                      min_p=0.005, sep = '')\n",
        "    est = np.round(np.exp(clf.predict([t])[0])/1e6,2)\n",
        "    print(f'{t.replace(\"xxbos\",\"\")} ราคา:{est}M')"
      ],
      "execution_count": 11,
      "outputs": [
        {
          "output_type": "stream",
          "text": [
            "โครงการเสริมผิวทางหินคลุกสายทางการเกษตรดงนาคำ-นาคู โครงการก่อสร้างถนนคอนกรีตเสริมเหล็ก หมู่ที่ 3 ราคา:0.37M\n",
            "โครงการก่อสร้างถนน คสล. สายบ้านนายทวี ถึงบ้านนายสมจิตร สุขแก้ว หมู่ที่ 12  ราคา:0.91M\n",
            "โครงการก่อสร้างถนนคอนกรีตเสริมเหล็ก สายข้างวัดพระแท่น - วัดเนินน้ำ ตำบลห้วยโป่ง อำเภอเมืองพัทลุง จังหวัด ราคา:1.27M\n",
            "โครงการก่อสร้างถนนคอนกรีตเสริมเหล็ก สายคลองหาด หมู่ที่ 4 บ้านคลองตา ตำบลบางรัก อำเภอคลองหลวง  ราคา:1.16M\n",
            "โครงการก่อสร้างถนนคอนกรีตเสริมเหล็ก หมู่ 4 บ้านท่าช้าง โครงการก่อสร้าง ผิวจราจรแบบ asphaltic concrete สายทาง ราคา:2.64M\n",
            "โครงการก่อสร้างถนน คสล. สายทางเข้าห้วยยางทอง บ้านนาห้วยใหญ่ หมู่ที่ 1 ตำบลน้ำอ้อม ราคา:1.11M\n",
            "โครงการขุดลอกคลอง หมู่ที่ 6 บ้านหนองตะเคียน ก่อสร้างถนนคอนกรีตเสริมเหล็ก สายหนองหลวง หมู่ 1 ราคา:0.37M\n",
            "โครงการยกระดับผลิตภัณฑ์และการบริการทางการตลาดและการตลาดเพื่อเพิ่มมูลค่าให้แก่ตลาดสินค้าเกษตรและการตลาด โครงการพัฒนาเส้นทางขนส่ง ราคา:5.13M\n",
            "โครงการก่อสร้างถนนคอนกรีตเสริมเหล็ก / สายบ้านนางสุรี - หนองนา บ้านท่าไม้ หมู่ที่ 12 ราคา:0.59M\n",
            "โครงการก่อสร้างถนนคอนกรีตเสริมเหล็ก สายนานายสมนึก หมู่ที่ 2 บ้านโนนนาม่วง ตำบลนายาง อำเภอ ราคา:1.32M\n",
            "โครงการก่อสร้างถนน คสล. จากวัดโคกม่วง ถึงบ้านนางสมจิตร คำใหญ่ ตำบลบางบัวทอง  ราคา:1.58M\n",
            "โครงการก่อสร้างถนนคอนกรีตเสริมเหล็ก สายห้วยน้ำสวย-บ้านกลาง หมู่ที่ 11 โครงการขุดลอกคลองตา บ้าน ราคา:0.71M\n",
            "โครงการก่อสร้างถนน คสล.สายบ้านทุ่งคา - บ้านทุ่งกลาง โครงการก่อสร้างผิวจราจร คสล. ซอย ราคา:3.69M\n",
            "โครงการก่อสร้างถนนคอนกรีต สายทาง ม.8 บ้านหนองจิก - บ้านหนองบัว ตำบลหนองบัว อำเภอ ราคา:2.96M\n",
            "โครงการก่อสร้างถนนคอนกรีตเสริมเหล็กภายในหมู่บ้าน บ้านแม่วะ หมู่ที่ 2 ตำบลแม่ลาน้อย อำเภอปางมะผ้า  ราคา:0.23M\n",
            "โครงการก่อสร้างถนนคอนกรีตเสริมเหล็ก สายบ้านแม่ลาน้อย หมู่ที่ 2 ตำบลเขาแก้ว อำเภอบ้านฉาง จังหวัดลำพูน ราคา:0.45M\n",
            "โครงการก่อสร้างถนนคอนกรีตเสริมเหล็ก สายบ้านนางสุรัตน์ แก้วบัวสาย หมู่ที่ 1 ตำบลหนองบัว อำเภอหนอง ราคา:0.73M\n",
            "โครงการก่อสร้างถนนคอนกรีตเสริมเหล็ก สายบ้านหนองบัว-บ้านหนองแวง หมู่ที่ 1 ตำบลบึงคำ อำเภอคำเขื่อน ราคา:1.41M\n",
            "โครงการก่อสร้างถนนคอนกรีตเสริมเหล็กบริเวณซอย 3 หมู่ 5 ตำบลบ้านหมี่ อำเภอเมืองอ่างทอง จังหวัดอ่างทอง โครงการ ราคา:0.44M\n",
            "โครงการก่อสร้างถนนคอนกรีตเสริมเหล็ก สายบ้านวังบัว - บ้านคลองทราย หมู่ที่ 1 ตำบลบางสะพาน อำเภอ ราคา:2.31M\n"
          ],
          "name": "stdout"
        }
      ]
    },
    {
      "cell_type": "markdown",
      "metadata": {
        "id": "cMxYehxs0e_w",
        "colab_type": "text"
      },
      "source": [
        "## DIY Project Names"
      ]
    },
    {
      "cell_type": "markdown",
      "metadata": {
        "id": "3h0phogs0heX",
        "colab_type": "text"
      },
      "source": [
        "Enter your own project names and see how much budget it would have."
      ]
    },
    {
      "cell_type": "code",
      "metadata": {
        "id": "qlAxCXzVvgj2",
        "colab_type": "code",
        "cellView": "form",
        "outputId": "c71326e9-66ce-4935-9e4d-a7e6e3834adf",
        "colab": {
          "base_uri": "https://localhost:8080/",
          "height": 35
        }
      },
      "source": [
        "#@title {run: \"auto\"}\n",
        "Project_Name = '\\u0E42\\u0E04\\u0E23\\u0E07\\u0E01\\u0E32\\u0E23 blockhain AI Iot \\u0E2D\\u0E30\\u0E44\\u0E23\\u0E2A\\u0E31\\u0E01\\u0E2D\\u0E22\\u0E48\\u0E32\\u0E07' #@param {type:\"string\"}\n",
        "cost = round(np.exp(clf.predict([Project_Name])[0])/1e6,2)\n",
        "print(f'{cost}M THB')"
      ],
      "execution_count": 24,
      "outputs": [
        {
          "output_type": "stream",
          "text": [
            "5.39M THB\n"
          ],
          "name": "stdout"
        }
      ]
    },
    {
      "cell_type": "code",
      "metadata": {
        "id": "N8xW3xvmJTKJ",
        "colab_type": "code",
        "colab": {}
      },
      "source": [
        ""
      ],
      "execution_count": 0,
      "outputs": []
    }
  ]
}