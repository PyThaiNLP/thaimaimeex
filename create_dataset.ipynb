{
 "cells": [
  {
   "cell_type": "markdown",
   "metadata": {},
   "source": [
    "# Create `thaimaimeex` dataset for Text Classification and Regression"
   ]
  },
  {
   "cell_type": "code",
   "execution_count": null,
   "metadata": {},
   "outputs": [],
   "source": [
    "import numpy as np\n",
    "import pandas as pd\n",
    "from tqdm.notebook import tqdm\n",
    "import jenkspy\n",
    "from utils import *\n",
    "\n",
    "import warnings\n",
    "warnings.filterwarnings('ignore')"
   ]
  },
  {
   "cell_type": "code",
   "execution_count": 2,
   "metadata": {},
   "outputs": [],
   "source": [
    "# #from https://gist.github.com/korakot/01d181229b21411b0a20784e0ca20d3d\n",
    "# !wget https://github.com/Phonbopit/sarabun-webfont/raw/master/fonts/thsarabunnew-webfont.ttf\n",
    "# !pip install -U --pre matplotlib  \n",
    "import matplotlib.font_manager as matfont\n",
    "matfont.fontManager.addfont('thsarabunnew-webfont.ttf') # 3.2+\n",
    "from plotnine import *\n",
    "from mizani import *\n",
    "theme_set(theme_minimal(14, 'TH Sarabun New'))\n",
    "\n",
    "# #for mac\n",
    "# import matplotlib\n",
    "# matplotlib.rc('font', family='Ayuthaya')"
   ]
  },
  {
   "cell_type": "markdown",
   "metadata": {},
   "source": [
    "## Create Targets\n",
    "\n",
    "Possible targets `unit`, `ministry` and `budget`. For `budget`, we tried 2 alternatives for target creation: classification and regression."
   ]
  },
  {
   "cell_type": "code",
   "execution_count": 3,
   "metadata": {},
   "outputs": [],
   "source": [
    "thaime = pd.read_csv('data/thaimaimee.csv')[['project_name','budget','unit','ministry']].dropna()"
   ]
  },
  {
   "cell_type": "markdown",
   "metadata": {},
   "source": [
    "### Jenks Natural Breaks for `budget_class` as Classification Target"
   ]
  },
  {
   "cell_type": "markdown",
   "metadata": {},
   "source": [
    "We use Jenks natural breaks with optimal breaks found by elbow of [goodness-of-variance-fit](https://stats.stackexchange.com/questions/143974/jenks-natural-breaks-in-python-how-to-find-the-optimum-number-of-breaks) (breaks=4) for `budget_class`. The problem is most projects are under 7 billion baht meaning this will not be a balanced target."
   ]
  },
  {
   "cell_type": "code",
   "execution_count": 4,
   "metadata": {},
   "outputs": [
    {
     "data": {
      "application/vnd.jupyter.widget-view+json": {
       "model_id": "47be11a47fc84040af51c89e1b8192cb",
       "version_major": 2,
       "version_minor": 0
      },
      "text/plain": [
       "HBox(children=(FloatProgress(value=0.0, max=9.0), HTML(value='')))"
      ]
     },
     "metadata": {},
     "output_type": "display_data"
    },
    {
     "name": "stdout",
     "output_type": "stream",
     "text": [
      "\n"
     ]
    },
    {
     "data": {
      "text/html": [
       "<div>\n",
       "<style scoped>\n",
       "    .dataframe tbody tr th:only-of-type {\n",
       "        vertical-align: middle;\n",
       "    }\n",
       "\n",
       "    .dataframe tbody tr th {\n",
       "        vertical-align: top;\n",
       "    }\n",
       "\n",
       "    .dataframe thead th {\n",
       "        text-align: right;\n",
       "    }\n",
       "</style>\n",
       "<table border=\"1\" class=\"dataframe\">\n",
       "  <thead>\n",
       "    <tr style=\"text-align: right;\">\n",
       "      <th></th>\n",
       "      <th>breaks</th>\n",
       "      <th>gvf</th>\n",
       "    </tr>\n",
       "  </thead>\n",
       "  <tbody>\n",
       "    <tr>\n",
       "      <th>0</th>\n",
       "      <td>2</td>\n",
       "      <td>0.732031</td>\n",
       "    </tr>\n",
       "    <tr>\n",
       "      <th>1</th>\n",
       "      <td>3</td>\n",
       "      <td>0.849961</td>\n",
       "    </tr>\n",
       "    <tr>\n",
       "      <th>2</th>\n",
       "      <td>4</td>\n",
       "      <td>0.916972</td>\n",
       "    </tr>\n",
       "    <tr>\n",
       "      <th>3</th>\n",
       "      <td>5</td>\n",
       "      <td>0.923420</td>\n",
       "    </tr>\n",
       "    <tr>\n",
       "      <th>4</th>\n",
       "      <td>6</td>\n",
       "      <td>0.932452</td>\n",
       "    </tr>\n",
       "    <tr>\n",
       "      <th>5</th>\n",
       "      <td>7</td>\n",
       "      <td>0.940033</td>\n",
       "    </tr>\n",
       "    <tr>\n",
       "      <th>6</th>\n",
       "      <td>8</td>\n",
       "      <td>0.943193</td>\n",
       "    </tr>\n",
       "    <tr>\n",
       "      <th>7</th>\n",
       "      <td>9</td>\n",
       "      <td>0.944208</td>\n",
       "    </tr>\n",
       "    <tr>\n",
       "      <th>8</th>\n",
       "      <td>10</td>\n",
       "      <td>0.945510</td>\n",
       "    </tr>\n",
       "  </tbody>\n",
       "</table>\n",
       "</div>"
      ],
      "text/plain": [
       "   breaks       gvf\n",
       "0       2  0.732031\n",
       "1       3  0.849961\n",
       "2       4  0.916972\n",
       "3       5  0.923420\n",
       "4       6  0.932452\n",
       "5       7  0.940033\n",
       "6       8  0.943193\n",
       "7       9  0.944208\n",
       "8      10  0.945510"
      ]
     },
     "execution_count": 4,
     "metadata": {},
     "output_type": "execute_result"
    }
   ],
   "source": [
    "budgets = np.array(thaime.budget)\n",
    "gvfs = []\n",
    "for i in tqdm(range(2,11)):\n",
    "    gvfs.append(goodness_of_variance_fit(budgets,i))\n",
    "elbow = pd.DataFrame({'breaks':range(2,11),'gvf':gvfs})\n",
    "elbow"
   ]
  },
  {
   "cell_type": "code",
   "execution_count": 5,
   "metadata": {},
   "outputs": [
    {
     "data": {
      "image/png": "[encoded data removed]",
      "text/plain": [
       "<Figure size 640x480 with 1 Axes>"
      ]
     },
     "metadata": {
      "needs_background": "light"
     },
     "output_type": "display_data"
    },
    {
     "data": {
      "text/plain": [
       "<ggplot: (8767725357204)>"
      ]
     },
     "execution_count": 5,
     "metadata": {},
     "output_type": "execute_result"
    }
   ],
   "source": [
    "g = (ggplot(elbow, aes(x='breaks',y='gvf',group=1)) + geom_line() +\n",
    "    xlab('Number of Breaks') + ylab('Goodness of Variance Fit (0 to 1)'))\n",
    "g"
   ]
  },
  {
   "cell_type": "code",
   "execution_count": 6,
   "metadata": {},
   "outputs": [
    {
     "data": {
      "text/plain": [
       "[8.7e-06, 7.8, 26.2021344, 55.0, 100.0]"
      ]
     },
     "execution_count": 6,
     "metadata": {},
     "output_type": "execute_result"
    }
   ],
   "source": [
    "opt_breaks = jenkspy.jenks_breaks(budgets,4)\n",
    "[i/1e9 for i in opt_breaks]"
   ]
  },
  {
   "cell_type": "markdown",
   "metadata": {},
   "source": [
    "### `log_budget` as Regression Target"
   ]
  },
  {
   "cell_type": "markdown",
   "metadata": {},
   "source": [
    "Another alternative is to frame it as a regression table but perform Box-cox transformation to make the budget distribution more normal. We can see that the coefficient of boxcox plot peaked at labmda = 0, meaning a log transformation is optimal for transforming budget to be more normal."
   ]
  },
  {
   "cell_type": "code",
   "execution_count": 8,
   "metadata": {},
   "outputs": [
    {
     "data": {
      "image/png": "[encoded data removed]",
      "text/plain": [
       "<Figure size 640x480 with 1 Axes>"
      ]
     },
     "metadata": {
      "needs_background": "light"
     },
     "output_type": "display_data"
    },
    {
     "data": {
      "text/plain": [
       "<ggplot: (8767725894092)>"
      ]
     },
     "execution_count": 8,
     "metadata": {},
     "output_type": "execute_result"
    }
   ],
   "source": [
    "boxcox_plot(thaime,'budget')"
   ]
  },
  {
   "cell_type": "code",
   "execution_count": 19,
   "metadata": {},
   "outputs": [
    {
     "data": {
      "text/plain": [
       "<matplotlib.axes._subplots.AxesSubplot at 0x7f9652fbbb00>"
      ]
     },
     "execution_count": 19,
     "metadata": {},
     "output_type": "execute_result"
    },
    {
     "data": {
      "image/png": "[encoded data removed]",
      "text/plain": [
       "<Figure size 432x288 with 1 Axes>"
      ]
     },
     "metadata": {
      "needs_background": "light"
     },
     "output_type": "display_data"
    }
   ],
   "source": [
    "thaime['log_budget'] = boxcox(thaime.budget,0)\n",
    "thaime = thaime.drop('budget',1)\n",
    "thaime.log_budget.hist()"
   ]
  },
  {
   "cell_type": "code",
   "execution_count": 20,
   "metadata": {},
   "outputs": [
    {
     "data": {
      "text/plain": [
       "2.626345322336116"
      ]
     },
     "execution_count": 20,
     "metadata": {},
     "output_type": "execute_result"
    }
   ],
   "source": [
    "#MSE when predicting mean\n",
    "np.mean((thaime.log_budget - thaime.log_budget.mean())**2)"
   ]
  },
  {
   "cell_type": "code",
   "execution_count": 39,
   "metadata": {},
   "outputs": [
    {
     "data": {
      "text/html": [
       "<div>\n",
       "<style scoped>\n",
       "    .dataframe tbody tr th:only-of-type {\n",
       "        vertical-align: middle;\n",
       "    }\n",
       "\n",
       "    .dataframe tbody tr th {\n",
       "        vertical-align: top;\n",
       "    }\n",
       "\n",
       "    .dataframe thead th {\n",
       "        text-align: right;\n",
       "    }\n",
       "</style>\n",
       "<table border=\"1\" class=\"dataframe\">\n",
       "  <thead>\n",
       "    <tr style=\"text-align: right;\">\n",
       "      <th></th>\n",
       "      <th>project_name</th>\n",
       "      <th>unit</th>\n",
       "      <th>ministry</th>\n",
       "      <th>log_budget</th>\n",
       "      <th>test_flag</th>\n",
       "    </tr>\n",
       "  </thead>\n",
       "  <tbody>\n",
       "    <tr>\n",
       "      <th>0</th>\n",
       "      <td>โครงการพื้นที่ท่องที่ยวปลอดภัยส าหรับนักท่องเท...</td>\n",
       "      <td>กรมการท่องเที่ยว</td>\n",
       "      <td>การท่องเที่ยวและกีฬา</td>\n",
       "      <td>16.117225</td>\n",
       "      <td>1</td>\n",
       "    </tr>\n",
       "    <tr>\n",
       "      <th>1</th>\n",
       "      <td>พัฒนาระบบโครงสร้างพื้นฐานด้านการท่องเที่ยวเพื่...</td>\n",
       "      <td>องค์การสวนพฤกษศาสตร์</td>\n",
       "      <td>ทรัพยากรธรรมชาติและสิ่งแวดล้อม</td>\n",
       "      <td>16.995134</td>\n",
       "      <td>1</td>\n",
       "    </tr>\n",
       "    <tr>\n",
       "      <th>2</th>\n",
       "      <td>การแปลงเครื่องจักรเป็นทุนโดยการบำรุงรักษาเครื่...</td>\n",
       "      <td>กรมโรงงานอุตสาหกรรม</td>\n",
       "      <td>อุตสาหกรรม</td>\n",
       "      <td>17.504173</td>\n",
       "      <td>0</td>\n",
       "    </tr>\n",
       "    <tr>\n",
       "      <th>3</th>\n",
       "      <td>การแปลงเครื่องจักรเป็นทุนโดยการบำรุงรักษาเครื่...</td>\n",
       "      <td>กรมโรงงานอุตสาหกรรม</td>\n",
       "      <td>อุตสาหกรรม</td>\n",
       "      <td>17.504173</td>\n",
       "      <td>0</td>\n",
       "    </tr>\n",
       "    <tr>\n",
       "      <th>4</th>\n",
       "      <td>โครงการกำหนดแนวทางการออกแบบ \"เมืองท่องเที่ยว\" ...</td>\n",
       "      <td>กรมการท่องเที่ยว</td>\n",
       "      <td>การท่องเที่ยวและกีฬา</td>\n",
       "      <td>17.727360</td>\n",
       "      <td>0</td>\n",
       "    </tr>\n",
       "    <tr>\n",
       "      <th>...</th>\n",
       "      <td>...</td>\n",
       "      <td>...</td>\n",
       "      <td>...</td>\n",
       "      <td>...</td>\n",
       "      <td>...</td>\n",
       "    </tr>\n",
       "    <tr>\n",
       "      <th>33685</th>\n",
       "      <td>โครงการ พัฒนาป่าไม้ สร้างงาน สร้างรายได้ เพื่อ...</td>\n",
       "      <td>กรมป่าไม้</td>\n",
       "      <td>ทรัพยากรธรรมชาติและสิ่งแวดล้อม</td>\n",
       "      <td>20.224815</td>\n",
       "      <td>0</td>\n",
       "    </tr>\n",
       "    <tr>\n",
       "      <th>33686</th>\n",
       "      <td>โครงการ 1 ตำบล 1 กลุ่มเกษตรทฤษฎีใหม่</td>\n",
       "      <td>สำนักงานปลัดกระทรวงเกษตรและสหกรณ์ และกรมชลประทาน</td>\n",
       "      <td>เกษตรและสหกรณ์</td>\n",
       "      <td>23.384631</td>\n",
       "      <td>0</td>\n",
       "    </tr>\n",
       "    <tr>\n",
       "      <th>33687</th>\n",
       "      <td>โครงการเฝ้าระวังสร้างแนวกันไฟสร้างรายได้ชุมชน</td>\n",
       "      <td>กรมอุทยานแห่งชาติ สัตว์ป่า และพันธุ์พืช</td>\n",
       "      <td>ทรัพยากรธรรมชาติและสิ่งแวดล้อม</td>\n",
       "      <td>19.323644</td>\n",
       "      <td>0</td>\n",
       "    </tr>\n",
       "    <tr>\n",
       "      <th>33688</th>\n",
       "      <td>โครงการพัฒนาพื้นที่ต้นแบบการพัฒนาคุณภาพชีวิตตา...</td>\n",
       "      <td>กรมการพัฒนาชุมชน</td>\n",
       "      <td>มหาดไทย</td>\n",
       "      <td>22.458806</td>\n",
       "      <td>0</td>\n",
       "    </tr>\n",
       "    <tr>\n",
       "      <th>33689</th>\n",
       "      <td>ยกระดับเศรษฐกิจและสังคมรายตำบลแบบบูรณาการ (1 ต...</td>\n",
       "      <td>กระทรวงการอุดมศึกษา วิทยาศาสตร์ วิจัยและนวัตกรรม</td>\n",
       "      <td>การอุดมศึกษา วิทยาศาสตร์ วิจัยและนวัตกรรม</td>\n",
       "      <td>23.325955</td>\n",
       "      <td>0</td>\n",
       "    </tr>\n",
       "  </tbody>\n",
       "</table>\n",
       "<p>33690 rows × 5 columns</p>\n",
       "</div>"
      ],
      "text/plain": [
       "                                            project_name  \\\n",
       "0      โครงการพื้นที่ท่องที่ยวปลอดภัยส าหรับนักท่องเท...   \n",
       "1      พัฒนาระบบโครงสร้างพื้นฐานด้านการท่องเที่ยวเพื่...   \n",
       "2      การแปลงเครื่องจักรเป็นทุนโดยการบำรุงรักษาเครื่...   \n",
       "3      การแปลงเครื่องจักรเป็นทุนโดยการบำรุงรักษาเครื่...   \n",
       "4      โครงการกำหนดแนวทางการออกแบบ \"เมืองท่องเที่ยว\" ...   \n",
       "...                                                  ...   \n",
       "33685  โครงการ พัฒนาป่าไม้ สร้างงาน สร้างรายได้ เพื่อ...   \n",
       "33686               โครงการ 1 ตำบล 1 กลุ่มเกษตรทฤษฎีใหม่   \n",
       "33687      โครงการเฝ้าระวังสร้างแนวกันไฟสร้างรายได้ชุมชน   \n",
       "33688  โครงการพัฒนาพื้นที่ต้นแบบการพัฒนาคุณภาพชีวิตตา...   \n",
       "33689  ยกระดับเศรษฐกิจและสังคมรายตำบลแบบบูรณาการ (1 ต...   \n",
       "\n",
       "                                                   unit  \\\n",
       "0                                      กรมการท่องเที่ยว   \n",
       "1                                  องค์การสวนพฤกษศาสตร์   \n",
       "2                                   กรมโรงงานอุตสาหกรรม   \n",
       "3                                   กรมโรงงานอุตสาหกรรม   \n",
       "4                                      กรมการท่องเที่ยว   \n",
       "...                                                 ...   \n",
       "33685                                         กรมป่าไม้   \n",
       "33686  สำนักงานปลัดกระทรวงเกษตรและสหกรณ์ และกรมชลประทาน   \n",
       "33687           กรมอุทยานแห่งชาติ สัตว์ป่า และพันธุ์พืช   \n",
       "33688                                  กรมการพัฒนาชุมชน   \n",
       "33689  กระทรวงการอุดมศึกษา วิทยาศาสตร์ วิจัยและนวัตกรรม   \n",
       "\n",
       "                                        ministry  log_budget  test_flag  \n",
       "0                           การท่องเที่ยวและกีฬา   16.117225          1  \n",
       "1                 ทรัพยากรธรรมชาติและสิ่งแวดล้อม   16.995134          1  \n",
       "2                                     อุตสาหกรรม   17.504173          0  \n",
       "3                                     อุตสาหกรรม   17.504173          0  \n",
       "4                           การท่องเที่ยวและกีฬา   17.727360          0  \n",
       "...                                          ...         ...        ...  \n",
       "33685             ทรัพยากรธรรมชาติและสิ่งแวดล้อม   20.224815          0  \n",
       "33686                             เกษตรและสหกรณ์   23.384631          0  \n",
       "33687             ทรัพยากรธรรมชาติและสิ่งแวดล้อม   19.323644          0  \n",
       "33688                                    มหาดไทย   22.458806          0  \n",
       "33689  การอุดมศึกษา วิทยาศาสตร์ วิจัยและนวัตกรรม   23.325955          0  \n",
       "\n",
       "[33690 rows x 5 columns]"
      ]
     },
     "execution_count": 39,
     "metadata": {},
     "output_type": "execute_result"
    }
   ],
   "source": [
    "thaime = thaime.reset_index(drop=True)\n",
    "thaime"
   ]
  },
  {
   "cell_type": "markdown",
   "metadata": {},
   "source": [
    "## Train-test split"
   ]
  },
  {
   "cell_type": "markdown",
   "metadata": {},
   "source": [
    "We perform 85/15 split for train (and dev) set and test set. The benchmark is calculated by mean squared error of the test set (codes must be shown to avoid overfitting test set). Seed is 1412."
   ]
  },
  {
   "cell_type": "code",
   "execution_count": 40,
   "metadata": {},
   "outputs": [
    {
     "data": {
      "text/plain": [
       "0    28637\n",
       "1     5053\n",
       "Name: test_flag, dtype: int64"
      ]
     },
     "execution_count": 40,
     "metadata": {},
     "output_type": "execute_result"
    }
   ],
   "source": [
    "np.random.seed(1412)\n",
    "test_idx = np.random.choice(thaime.index,size=int(thaime.shape[0]*0.15), replace=False)\n",
    "thaime['test_flag'] = 0\n",
    "thaime.iloc[test_idx,4] = 1\n",
    "thaime.test_flag.value_counts()"
   ]
  },
  {
   "cell_type": "code",
   "execution_count": 42,
   "metadata": {},
   "outputs": [
    {
     "data": {
      "text/html": [
       "<div>\n",
       "<style scoped>\n",
       "    .dataframe tbody tr th:only-of-type {\n",
       "        vertical-align: middle;\n",
       "    }\n",
       "\n",
       "    .dataframe tbody tr th {\n",
       "        vertical-align: top;\n",
       "    }\n",
       "\n",
       "    .dataframe thead th {\n",
       "        text-align: right;\n",
       "    }\n",
       "</style>\n",
       "<table border=\"1\" class=\"dataframe\">\n",
       "  <thead>\n",
       "    <tr style=\"text-align: right;\">\n",
       "      <th></th>\n",
       "      <th>count</th>\n",
       "      <th>mean</th>\n",
       "      <th>std</th>\n",
       "      <th>min</th>\n",
       "      <th>25%</th>\n",
       "      <th>50%</th>\n",
       "      <th>75%</th>\n",
       "      <th>max</th>\n",
       "    </tr>\n",
       "    <tr>\n",
       "      <th>test_flag</th>\n",
       "      <th></th>\n",
       "      <th></th>\n",
       "      <th></th>\n",
       "      <th></th>\n",
       "      <th></th>\n",
       "      <th></th>\n",
       "      <th></th>\n",
       "      <th></th>\n",
       "    </tr>\n",
       "  </thead>\n",
       "  <tbody>\n",
       "    <tr>\n",
       "      <th>0</th>\n",
       "      <td>28637.0</td>\n",
       "      <td>14.274049</td>\n",
       "      <td>1.621978</td>\n",
       "      <td>0.000000</td>\n",
       "      <td>13.090462</td>\n",
       "      <td>13.987193</td>\n",
       "      <td>15.408677</td>\n",
       "      <td>24.730599</td>\n",
       "    </tr>\n",
       "    <tr>\n",
       "      <th>1</th>\n",
       "      <td>5053.0</td>\n",
       "      <td>14.264001</td>\n",
       "      <td>1.613065</td>\n",
       "      <td>7.170888</td>\n",
       "      <td>13.092525</td>\n",
       "      <td>13.947679</td>\n",
       "      <td>15.394757</td>\n",
       "      <td>25.328436</td>\n",
       "    </tr>\n",
       "  </tbody>\n",
       "</table>\n",
       "</div>"
      ],
      "text/plain": [
       "             count       mean       std       min        25%        50%  \\\n",
       "test_flag                                                                 \n",
       "0          28637.0  14.274049  1.621978  0.000000  13.090462  13.987193   \n",
       "1           5053.0  14.264001  1.613065  7.170888  13.092525  13.947679   \n",
       "\n",
       "                 75%        max  \n",
       "test_flag                        \n",
       "0          15.408677  24.730599  \n",
       "1          15.394757  25.328436  "
      ]
     },
     "execution_count": 42,
     "metadata": {},
     "output_type": "execute_result"
    }
   ],
   "source": [
    "#check stats\n",
    "thaime.groupby('test_flag').log_budget.describe()"
   ]
  },
  {
   "cell_type": "code",
   "execution_count": 44,
   "metadata": {},
   "outputs": [],
   "source": [
    "thaime.to_csv('data/thaimaimeex.csv',index=False)"
   ]
  },
  {
   "cell_type": "code",
   "execution_count": null,
   "metadata": {},
   "outputs": [],
   "source": []
  }
 ],
 "metadata": {
  "kernelspec": {
   "display_name": "Python 3",
   "language": "python",
   "name": "python3"
  },
  "language_info": {
   "codemirror_mode": {
    "name": "ipython",
    "version": 3
   },
   "file_extension": ".py",
   "mimetype": "text/x-python",
   "name": "python",
   "nbconvert_exporter": "python",
   "pygments_lexer": "ipython3",
   "version": "3.6.9"
  }
 },
 "nbformat": 4,
 "nbformat_minor": 2
}
