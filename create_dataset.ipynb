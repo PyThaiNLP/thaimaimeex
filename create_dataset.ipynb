{
 "cells": [
  {
   "cell_type": "markdown",
   "metadata": {},
   "source": [
    "# Create `thaimaimeex` dataset for Text Classification and Regression"
   ]
  },
  {
   "cell_type": "code",
   "execution_count": 48,
   "metadata": {},
   "outputs": [],
   "source": [
    "import numpy as np\n",
    "import pandas as pd\n",
    "from tqdm.notebook import tqdm\n",
    "import jenkspy\n",
    "from utils import *\n",
    "\n",
    "import warnings\n",
    "warnings.filterwarnings('ignore')"
   ]
  },
  {
   "cell_type": "code",
   "execution_count": 49,
   "metadata": {},
   "outputs": [
    {
     "data": {
      "text/plain": [
       "<plotnine.themes.theme_minimal.theme_minimal at 0x7f9653e7b940>"
      ]
     },
     "execution_count": 49,
     "metadata": {},
     "output_type": "execute_result"
    }
   ],
   "source": [
    "# #from https://gist.github.com/korakot/01d181229b21411b0a20784e0ca20d3d\n",
    "# !wget https://github.com/Phonbopit/sarabun-webfont/raw/master/fonts/thsarabunnew-webfont.ttf\n",
    "# !pip install -U --pre matplotlib  \n",
    "import matplotlib.font_manager as matfont\n",
    "matfont.fontManager.addfont('thsarabunnew-webfont.ttf') # 3.2+\n",
    "from plotnine import *\n",
    "from mizani import *\n",
    "theme_set(theme_minimal(14, 'TH Sarabun New'))\n",
    "\n",
    "# #for mac\n",
    "# import matplotlib\n",
    "# matplotlib.rc('font', family='Ayuthaya')"
   ]
  },
  {
   "cell_type": "markdown",
   "metadata": {},
   "source": [
    "## Create Targets\n",
    "\n",
    "Possible targets `unit`, `ministry` and `budget`. For `budget`, we tried 2 alternatives for target creation: classification and regression."
   ]
  },
  {
   "cell_type": "code",
   "execution_count": 78,
   "metadata": {},
   "outputs": [
    {
     "data": {
      "text/plain": [
       "(32827, 4)"
      ]
     },
     "execution_count": 78,
     "metadata": {},
     "output_type": "execute_result"
    }
   ],
   "source": [
    "thaime = pd.read_csv('data/thaimaimee.csv')[['project_name','budget','unit','ministry']].dropna()\\\n",
    "    .drop_duplicates().reset_index(drop=True)\n",
    "thaime.shape"
   ]
  },
  {
   "cell_type": "code",
   "execution_count": 79,
   "metadata": {},
   "outputs": [
    {
     "data": {
      "text/html": [
       "<div>\n",
       "<style scoped>\n",
       "    .dataframe tbody tr th:only-of-type {\n",
       "        vertical-align: middle;\n",
       "    }\n",
       "\n",
       "    .dataframe tbody tr th {\n",
       "        vertical-align: top;\n",
       "    }\n",
       "\n",
       "    .dataframe thead th {\n",
       "        text-align: right;\n",
       "    }\n",
       "</style>\n",
       "<table border=\"1\" class=\"dataframe\">\n",
       "  <thead>\n",
       "    <tr style=\"text-align: right;\">\n",
       "      <th></th>\n",
       "      <th>project_name</th>\n",
       "      <th>budget</th>\n",
       "      <th>unit</th>\n",
       "      <th>ministry</th>\n",
       "    </tr>\n",
       "  </thead>\n",
       "  <tbody>\n",
       "    <tr>\n",
       "      <th>31496</th>\n",
       "      <td>“ผ่องานศิลป์ กินของยวน” ครบรอบ ๑๒ ปี ตลาดต้าน้...</td>\n",
       "      <td>1250000.0</td>\n",
       "      <td>สำนักงานปลัดกระทรวงการท่องเที่ยวและกีฬา</td>\n",
       "      <td>การท่องเที่ยวและกีฬา</td>\n",
       "    </tr>\n",
       "    <tr>\n",
       "      <th>31497</th>\n",
       "      <td>“มหกรรมลูกทุ่งซ่าส์ พัทยาแซ่บ”  งาน “เทศกาลลูก...</td>\n",
       "      <td>30000000.0</td>\n",
       "      <td>เมืองพัทยา</td>\n",
       "      <td>มหาดไทย</td>\n",
       "    </tr>\n",
       "    <tr>\n",
       "      <th>31498</th>\n",
       "      <td>“สืบชะตาต้นยางนา ณ กาดฮิมน้ำ พระยาทด”</td>\n",
       "      <td>700000.0</td>\n",
       "      <td>สำนักงานปลัดกระทรวงการท่องเที่ยวและกีฬา</td>\n",
       "      <td>การท่องเที่ยวและกีฬา</td>\n",
       "    </tr>\n",
       "    <tr>\n",
       "      <th>31499</th>\n",
       "      <td>“สืบศิลป์ ถิ่นลาวเวียง”</td>\n",
       "      <td>500000.0</td>\n",
       "      <td>สำนักงานปลัดกระทรวงการท่องเที่ยวและกีฬา</td>\n",
       "      <td>การท่องเที่ยวและกีฬา</td>\n",
       "    </tr>\n",
       "    <tr>\n",
       "      <th>31500</th>\n",
       "      <td>“แพร่ในวันวาน” ชุมชนสืบสาน สู่การท่องเที่ยวสร้...</td>\n",
       "      <td>12000000.0</td>\n",
       "      <td>จังหวัดแพร่</td>\n",
       "      <td>มหาดไทย</td>\n",
       "    </tr>\n",
       "  </tbody>\n",
       "</table>\n",
       "</div>"
      ],
      "text/plain": [
       "                                            project_name      budget  \\\n",
       "31496  “ผ่องานศิลป์ กินของยวน” ครบรอบ ๑๒ ปี ตลาดต้าน้...   1250000.0   \n",
       "31497  “มหกรรมลูกทุ่งซ่าส์ พัทยาแซ่บ”  งาน “เทศกาลลูก...  30000000.0   \n",
       "31498              “สืบชะตาต้นยางนา ณ กาดฮิมน้ำ พระยาทด”    700000.0   \n",
       "31499                            “สืบศิลป์ ถิ่นลาวเวียง”    500000.0   \n",
       "31500  “แพร่ในวันวาน” ชุมชนสืบสาน สู่การท่องเที่ยวสร้...  12000000.0   \n",
       "\n",
       "                                          unit              ministry  \n",
       "31496  สำนักงานปลัดกระทรวงการท่องเที่ยวและกีฬา  การท่องเที่ยวและกีฬา  \n",
       "31497                               เมืองพัทยา               มหาดไทย  \n",
       "31498  สำนักงานปลัดกระทรวงการท่องเที่ยวและกีฬา  การท่องเที่ยวและกีฬา  \n",
       "31499  สำนักงานปลัดกระทรวงการท่องเที่ยวและกีฬา  การท่องเที่ยวและกีฬา  \n",
       "31500                              จังหวัดแพร่               มหาดไทย  "
      ]
     },
     "execution_count": 79,
     "metadata": {},
     "output_type": "execute_result"
    }
   ],
   "source": [
    "#use median budget for duplicate project names\n",
    "thaime = thaime.groupby('project_name').agg({'budget': lambda x: np.percentile(x,50),'unit':max,'ministry':max}).reset_index()\n",
    "thaime.tail()"
   ]
  },
  {
   "cell_type": "code",
   "execution_count": 80,
   "metadata": {},
   "outputs": [
    {
     "data": {
      "text/plain": [
       "31501"
      ]
     },
     "execution_count": 80,
     "metadata": {},
     "output_type": "execute_result"
    }
   ],
   "source": [
    "thaime.project_name.nunique()"
   ]
  },
  {
   "cell_type": "markdown",
   "metadata": {},
   "source": [
    "### Jenks Natural Breaks for `budget_class` as Classification Target"
   ]
  },
  {
   "cell_type": "markdown",
   "metadata": {},
   "source": [
    "We use Jenks natural breaks with optimal breaks found by elbow of [goodness-of-variance-fit](https://stats.stackexchange.com/questions/143974/jenks-natural-breaks-in-python-how-to-find-the-optimum-number-of-breaks) (breaks=4) for `budget_class`. The problem is most projects are under 7 billion baht meaning this will not be a balanced target."
   ]
  },
  {
   "cell_type": "code",
   "execution_count": 62,
   "metadata": {},
   "outputs": [
    {
     "data": {
      "application/vnd.jupyter.widget-view+json": {
       "model_id": "c8140d39960d478aa06792328f6731ee",
       "version_major": 2,
       "version_minor": 0
      },
      "text/plain": [
       "HBox(children=(FloatProgress(value=0.0, max=9.0), HTML(value='')))"
      ]
     },
     "metadata": {},
     "output_type": "display_data"
    },
    {
     "name": "stdout",
     "output_type": "stream",
     "text": [
      "\n"
     ]
    },
    {
     "data": {
      "text/html": [
       "<div>\n",
       "<style scoped>\n",
       "    .dataframe tbody tr th:only-of-type {\n",
       "        vertical-align: middle;\n",
       "    }\n",
       "\n",
       "    .dataframe tbody tr th {\n",
       "        vertical-align: top;\n",
       "    }\n",
       "\n",
       "    .dataframe thead th {\n",
       "        text-align: right;\n",
       "    }\n",
       "</style>\n",
       "<table border=\"1\" class=\"dataframe\">\n",
       "  <thead>\n",
       "    <tr style=\"text-align: right;\">\n",
       "      <th></th>\n",
       "      <th>breaks</th>\n",
       "      <th>gvf</th>\n",
       "    </tr>\n",
       "  </thead>\n",
       "  <tbody>\n",
       "    <tr>\n",
       "      <th>0</th>\n",
       "      <td>2</td>\n",
       "      <td>0.739821</td>\n",
       "    </tr>\n",
       "    <tr>\n",
       "      <th>1</th>\n",
       "      <td>3</td>\n",
       "      <td>0.859010</td>\n",
       "    </tr>\n",
       "    <tr>\n",
       "      <th>2</th>\n",
       "      <td>4</td>\n",
       "      <td>0.918611</td>\n",
       "    </tr>\n",
       "    <tr>\n",
       "      <th>3</th>\n",
       "      <td>5</td>\n",
       "      <td>0.925350</td>\n",
       "    </tr>\n",
       "    <tr>\n",
       "      <th>4</th>\n",
       "      <td>6</td>\n",
       "      <td>0.933050</td>\n",
       "    </tr>\n",
       "    <tr>\n",
       "      <th>5</th>\n",
       "      <td>7</td>\n",
       "      <td>0.940711</td>\n",
       "    </tr>\n",
       "    <tr>\n",
       "      <th>6</th>\n",
       "      <td>8</td>\n",
       "      <td>0.943150</td>\n",
       "    </tr>\n",
       "    <tr>\n",
       "      <th>7</th>\n",
       "      <td>9</td>\n",
       "      <td>0.944466</td>\n",
       "    </tr>\n",
       "    <tr>\n",
       "      <th>8</th>\n",
       "      <td>10</td>\n",
       "      <td>0.945306</td>\n",
       "    </tr>\n",
       "  </tbody>\n",
       "</table>\n",
       "</div>"
      ],
      "text/plain": [
       "   breaks       gvf\n",
       "0       2  0.739821\n",
       "1       3  0.859010\n",
       "2       4  0.918611\n",
       "3       5  0.925350\n",
       "4       6  0.933050\n",
       "5       7  0.940711\n",
       "6       8  0.943150\n",
       "7       9  0.944466\n",
       "8      10  0.945306"
      ]
     },
     "execution_count": 62,
     "metadata": {},
     "output_type": "execute_result"
    }
   ],
   "source": [
    "budgets = np.array(thaime.budget)\n",
    "gvfs = []\n",
    "for i in tqdm(range(2,11)):\n",
    "    gvfs.append(goodness_of_variance_fit(budgets,i))\n",
    "elbow = pd.DataFrame({'breaks':range(2,11),'gvf':gvfs})\n",
    "elbow"
   ]
  },
  {
   "cell_type": "code",
   "execution_count": 63,
   "metadata": {},
   "outputs": [
    {
     "data": {
      "image/png": "[encoded data removed]",
      "text/plain": [
       "<Figure size 640x480 with 1 Axes>"
      ]
     },
     "metadata": {
      "needs_background": "light"
     },
     "output_type": "display_data"
    },
    {
     "data": {
      "text/plain": [
       "<ggplot: (-9223363269154898053)>"
      ]
     },
     "execution_count": 63,
     "metadata": {},
     "output_type": "execute_result"
    }
   ],
   "source": [
    "g = (ggplot(elbow, aes(x='breaks',y='gvf',group=1)) + geom_line() +\n",
    "    xlab('Number of Breaks') + ylab('Goodness of Variance Fit (0 to 1)'))\n",
    "g"
   ]
  },
  {
   "cell_type": "code",
   "execution_count": 64,
   "metadata": {},
   "outputs": [
    {
     "data": {
      "text/plain": [
       "[8.7e-06, 7.8, 26.2021344, 55.0, 100.0]"
      ]
     },
     "execution_count": 64,
     "metadata": {},
     "output_type": "execute_result"
    }
   ],
   "source": [
    "opt_breaks = jenkspy.jenks_breaks(budgets,4)\n",
    "[i/1e9 for i in opt_breaks]"
   ]
  },
  {
   "cell_type": "markdown",
   "metadata": {},
   "source": [
    "### `log_budget` as Regression Target"
   ]
  },
  {
   "cell_type": "markdown",
   "metadata": {},
   "source": [
    "Another alternative is to frame it as a regression table but perform Box-cox transformation to make the budget distribution more normal. We can see that the coefficient of boxcox plot peaked at labmda = 0, meaning a log transformation is optimal for transforming budget to be more normal."
   ]
  },
  {
   "cell_type": "code",
   "execution_count": 65,
   "metadata": {},
   "outputs": [
    {
     "data": {
      "image/png": "[encoded data removed]",
      "text/plain": [
       "<Figure size 640x480 with 1 Axes>"
      ]
     },
     "metadata": {
      "needs_background": "light"
     },
     "output_type": "display_data"
    },
    {
     "data": {
      "text/plain": [
       "<ggplot: (-9223363269154654541)>"
      ]
     },
     "execution_count": 65,
     "metadata": {},
     "output_type": "execute_result"
    }
   ],
   "source": [
    "boxcox_plot(thaime,'budget')"
   ]
  },
  {
   "cell_type": "code",
   "execution_count": 81,
   "metadata": {},
   "outputs": [
    {
     "data": {
      "text/plain": [
       "<matplotlib.axes._subplots.AxesSubplot at 0x7f963b5fdfd0>"
      ]
     },
     "execution_count": 81,
     "metadata": {},
     "output_type": "execute_result"
    },
    {
     "data": {
      "image/png": "[encoded data removed]",
      "text/plain": [
       "<Figure size 432x288 with 1 Axes>"
      ]
     },
     "metadata": {
      "needs_background": "light"
     },
     "output_type": "display_data"
    }
   ],
   "source": [
    "# thaime['log_budget'] = boxcox(thaime.budget,0)\n",
    "thaime['log_budget'] = np.log(thaime.budget)\n",
    "thaime = thaime.drop('budget',1)\n",
    "thaime.log_budget.hist()"
   ]
  },
  {
   "cell_type": "code",
   "execution_count": 82,
   "metadata": {},
   "outputs": [
    {
     "data": {
      "text/plain": [
       "2.5132841772316947"
      ]
     },
     "execution_count": 82,
     "metadata": {},
     "output_type": "execute_result"
    }
   ],
   "source": [
    "#MSE when predicting mean\n",
    "np.mean((thaime.log_budget - thaime.log_budget.mean())**2)"
   ]
  },
  {
   "cell_type": "code",
   "execution_count": 83,
   "metadata": {},
   "outputs": [
    {
     "data": {
      "text/html": [
       "<div>\n",
       "<style scoped>\n",
       "    .dataframe tbody tr th:only-of-type {\n",
       "        vertical-align: middle;\n",
       "    }\n",
       "\n",
       "    .dataframe tbody tr th {\n",
       "        vertical-align: top;\n",
       "    }\n",
       "\n",
       "    .dataframe thead th {\n",
       "        text-align: right;\n",
       "    }\n",
       "</style>\n",
       "<table border=\"1\" class=\"dataframe\">\n",
       "  <thead>\n",
       "    <tr style=\"text-align: right;\">\n",
       "      <th></th>\n",
       "      <th>project_name</th>\n",
       "      <th>unit</th>\n",
       "      <th>ministry</th>\n",
       "      <th>log_budget</th>\n",
       "    </tr>\n",
       "  </thead>\n",
       "  <tbody>\n",
       "    <tr>\n",
       "      <th>0</th>\n",
       "      <td>\"มะนาวพาสุข\" เพิ่มคุณภาพชีวิตคนพิการในจังหวัดส...</td>\n",
       "      <td>สำนักงานคณะกรรมการการศึกษาขั้นพื้นฐาน</td>\n",
       "      <td>ศึกษาธิการ</td>\n",
       "      <td>14.926842</td>\n",
       "    </tr>\n",
       "    <tr>\n",
       "      <th>1</th>\n",
       "      <td>-ก่อสร้างระบบประปาหมู่บ้าน  แบบบาดาลขนาดกลาง  ...</td>\n",
       "      <td>กรมส่งเสริมการปกครองท้องถิ่น</td>\n",
       "      <td>มหาดไทย</td>\n",
       "      <td>13.165423</td>\n",
       "    </tr>\n",
       "    <tr>\n",
       "      <th>2</th>\n",
       "      <td>-ก่อสร้างระบบประปาหมู่บ้าน  แบบผิวดินขนาดกลาง ...</td>\n",
       "      <td>กรมส่งเสริมการปกครองท้องถิ่น</td>\n",
       "      <td>มหาดไทย</td>\n",
       "      <td>14.437162</td>\n",
       "    </tr>\n",
       "    <tr>\n",
       "      <th>3</th>\n",
       "      <td>-ก่อสร้างระบบประปาหมู่บ้านพร้อมเจาะบ่อบาดาล  ห...</td>\n",
       "      <td>กรมส่งเสริมการปกครองท้องถิ่น</td>\n",
       "      <td>มหาดไทย</td>\n",
       "      <td>13.120361</td>\n",
       "    </tr>\n",
       "    <tr>\n",
       "      <th>4</th>\n",
       "      <td>-ก่อสร้างระบบประปาหมู่บ้านพร้อมเจาะบ่อบาดาล  ห...</td>\n",
       "      <td>กรมส่งเสริมการปกครองท้องถิ่น</td>\n",
       "      <td>มหาดไทย</td>\n",
       "      <td>13.120361</td>\n",
       "    </tr>\n",
       "    <tr>\n",
       "      <th>...</th>\n",
       "      <td>...</td>\n",
       "      <td>...</td>\n",
       "      <td>...</td>\n",
       "      <td>...</td>\n",
       "    </tr>\n",
       "    <tr>\n",
       "      <th>31496</th>\n",
       "      <td>“ผ่องานศิลป์ กินของยวน” ครบรอบ ๑๒ ปี ตลาดต้าน้...</td>\n",
       "      <td>สำนักงานปลัดกระทรวงการท่องเที่ยวและกีฬา</td>\n",
       "      <td>การท่องเที่ยวและกีฬา</td>\n",
       "      <td>14.038654</td>\n",
       "    </tr>\n",
       "    <tr>\n",
       "      <th>31497</th>\n",
       "      <td>“มหกรรมลูกทุ่งซ่าส์ พัทยาแซ่บ”  งาน “เทศกาลลูก...</td>\n",
       "      <td>เมืองพัทยา</td>\n",
       "      <td>มหาดไทย</td>\n",
       "      <td>17.216708</td>\n",
       "    </tr>\n",
       "    <tr>\n",
       "      <th>31498</th>\n",
       "      <td>“สืบชะตาต้นยางนา ณ กาดฮิมน้ำ พระยาทด”</td>\n",
       "      <td>สำนักงานปลัดกระทรวงการท่องเที่ยวและกีฬา</td>\n",
       "      <td>การท่องเที่ยวและกีฬา</td>\n",
       "      <td>13.458836</td>\n",
       "    </tr>\n",
       "    <tr>\n",
       "      <th>31499</th>\n",
       "      <td>“สืบศิลป์ ถิ่นลาวเวียง”</td>\n",
       "      <td>สำนักงานปลัดกระทรวงการท่องเที่ยวและกีฬา</td>\n",
       "      <td>การท่องเที่ยวและกีฬา</td>\n",
       "      <td>13.122363</td>\n",
       "    </tr>\n",
       "    <tr>\n",
       "      <th>31500</th>\n",
       "      <td>“แพร่ในวันวาน” ชุมชนสืบสาน สู่การท่องเที่ยวสร้...</td>\n",
       "      <td>จังหวัดแพร่</td>\n",
       "      <td>มหาดไทย</td>\n",
       "      <td>16.300417</td>\n",
       "    </tr>\n",
       "  </tbody>\n",
       "</table>\n",
       "<p>31501 rows × 4 columns</p>\n",
       "</div>"
      ],
      "text/plain": [
       "                                            project_name  \\\n",
       "0      \"มะนาวพาสุข\" เพิ่มคุณภาพชีวิตคนพิการในจังหวัดส...   \n",
       "1      -ก่อสร้างระบบประปาหมู่บ้าน  แบบบาดาลขนาดกลาง  ...   \n",
       "2      -ก่อสร้างระบบประปาหมู่บ้าน  แบบผิวดินขนาดกลาง ...   \n",
       "3      -ก่อสร้างระบบประปาหมู่บ้านพร้อมเจาะบ่อบาดาล  ห...   \n",
       "4      -ก่อสร้างระบบประปาหมู่บ้านพร้อมเจาะบ่อบาดาล  ห...   \n",
       "...                                                  ...   \n",
       "31496  “ผ่องานศิลป์ กินของยวน” ครบรอบ ๑๒ ปี ตลาดต้าน้...   \n",
       "31497  “มหกรรมลูกทุ่งซ่าส์ พัทยาแซ่บ”  งาน “เทศกาลลูก...   \n",
       "31498              “สืบชะตาต้นยางนา ณ กาดฮิมน้ำ พระยาทด”   \n",
       "31499                            “สืบศิลป์ ถิ่นลาวเวียง”   \n",
       "31500  “แพร่ในวันวาน” ชุมชนสืบสาน สู่การท่องเที่ยวสร้...   \n",
       "\n",
       "                                          unit              ministry  \\\n",
       "0        สำนักงานคณะกรรมการการศึกษาขั้นพื้นฐาน            ศึกษาธิการ   \n",
       "1                 กรมส่งเสริมการปกครองท้องถิ่น               มหาดไทย   \n",
       "2                 กรมส่งเสริมการปกครองท้องถิ่น               มหาดไทย   \n",
       "3                 กรมส่งเสริมการปกครองท้องถิ่น               มหาดไทย   \n",
       "4                 กรมส่งเสริมการปกครองท้องถิ่น               มหาดไทย   \n",
       "...                                        ...                   ...   \n",
       "31496  สำนักงานปลัดกระทรวงการท่องเที่ยวและกีฬา  การท่องเที่ยวและกีฬา   \n",
       "31497                               เมืองพัทยา               มหาดไทย   \n",
       "31498  สำนักงานปลัดกระทรวงการท่องเที่ยวและกีฬา  การท่องเที่ยวและกีฬา   \n",
       "31499  สำนักงานปลัดกระทรวงการท่องเที่ยวและกีฬา  การท่องเที่ยวและกีฬา   \n",
       "31500                              จังหวัดแพร่               มหาดไทย   \n",
       "\n",
       "       log_budget  \n",
       "0       14.926842  \n",
       "1       13.165423  \n",
       "2       14.437162  \n",
       "3       13.120361  \n",
       "4       13.120361  \n",
       "...           ...  \n",
       "31496   14.038654  \n",
       "31497   17.216708  \n",
       "31498   13.458836  \n",
       "31499   13.122363  \n",
       "31500   16.300417  \n",
       "\n",
       "[31501 rows x 4 columns]"
      ]
     },
     "execution_count": 83,
     "metadata": {},
     "output_type": "execute_result"
    }
   ],
   "source": [
    "thaime = thaime.reset_index(drop=True)\n",
    "thaime"
   ]
  },
  {
   "cell_type": "markdown",
   "metadata": {},
   "source": [
    "## Train-test split"
   ]
  },
  {
   "cell_type": "markdown",
   "metadata": {},
   "source": [
    "We perform 85/15 split for train (and dev) set and test set. The benchmark is calculated by mean squared error of the test set (codes must be shown to avoid overfitting test set). Seed is 1412."
   ]
  },
  {
   "cell_type": "code",
   "execution_count": 93,
   "metadata": {},
   "outputs": [
    {
     "data": {
      "text/plain": [
       "0    26776\n",
       "1     4725\n",
       "Name: test_flag, dtype: int64"
      ]
     },
     "execution_count": 93,
     "metadata": {},
     "output_type": "execute_result"
    }
   ],
   "source": [
    "np.random.seed(1412)\n",
    "test_idx = np.random.choice(thaime.index,size=int(thaime.shape[0]*0.15), replace=False)\n",
    "thaime['test_flag'] = 0\n",
    "thaime.iloc[test_idx,4] = 1\n",
    "thaime.test_flag.value_counts()"
   ]
  },
  {
   "cell_type": "code",
   "execution_count": 94,
   "metadata": {},
   "outputs": [
    {
     "data": {
      "text/html": [
       "<div>\n",
       "<style scoped>\n",
       "    .dataframe tbody tr th:only-of-type {\n",
       "        vertical-align: middle;\n",
       "    }\n",
       "\n",
       "    .dataframe tbody tr th {\n",
       "        vertical-align: top;\n",
       "    }\n",
       "\n",
       "    .dataframe thead th {\n",
       "        text-align: right;\n",
       "    }\n",
       "</style>\n",
       "<table border=\"1\" class=\"dataframe\">\n",
       "  <thead>\n",
       "    <tr style=\"text-align: right;\">\n",
       "      <th></th>\n",
       "      <th>count</th>\n",
       "      <th>mean</th>\n",
       "      <th>std</th>\n",
       "      <th>min</th>\n",
       "      <th>25%</th>\n",
       "      <th>50%</th>\n",
       "      <th>75%</th>\n",
       "      <th>max</th>\n",
       "    </tr>\n",
       "    <tr>\n",
       "      <th>test_flag</th>\n",
       "      <th></th>\n",
       "      <th></th>\n",
       "      <th></th>\n",
       "      <th></th>\n",
       "      <th></th>\n",
       "      <th></th>\n",
       "      <th></th>\n",
       "      <th></th>\n",
       "    </tr>\n",
       "  </thead>\n",
       "  <tbody>\n",
       "    <tr>\n",
       "      <th>0</th>\n",
       "      <td>26776.0</td>\n",
       "      <td>14.275082</td>\n",
       "      <td>1.588562</td>\n",
       "      <td>9.071078</td>\n",
       "      <td>13.109278</td>\n",
       "      <td>13.974393</td>\n",
       "      <td>15.384126</td>\n",
       "      <td>25.328436</td>\n",
       "    </tr>\n",
       "    <tr>\n",
       "      <th>1</th>\n",
       "      <td>4725.0</td>\n",
       "      <td>14.256586</td>\n",
       "      <td>1.567162</td>\n",
       "      <td>9.888374</td>\n",
       "      <td>13.109683</td>\n",
       "      <td>13.955273</td>\n",
       "      <td>15.345039</td>\n",
       "      <td>22.227360</td>\n",
       "    </tr>\n",
       "  </tbody>\n",
       "</table>\n",
       "</div>"
      ],
      "text/plain": [
       "             count       mean       std       min        25%        50%  \\\n",
       "test_flag                                                                 \n",
       "0          26776.0  14.275082  1.588562  9.071078  13.109278  13.974393   \n",
       "1           4725.0  14.256586  1.567162  9.888374  13.109683  13.955273   \n",
       "\n",
       "                 75%        max  \n",
       "test_flag                        \n",
       "0          15.384126  25.328436  \n",
       "1          15.345039  22.227360  "
      ]
     },
     "execution_count": 94,
     "metadata": {},
     "output_type": "execute_result"
    }
   ],
   "source": [
    "#check stats\n",
    "thaime.groupby('test_flag').log_budget.describe()"
   ]
  },
  {
   "cell_type": "code",
   "execution_count": 95,
   "metadata": {},
   "outputs": [],
   "source": [
    "thaime.to_csv('data/thaimaimeex.csv',index=False)"
   ]
  }
 ],
 "metadata": {
  "kernelspec": {
   "display_name": "Python 3",
   "language": "python",
   "name": "python3"
  },
  "language_info": {
   "codemirror_mode": {
    "name": "ipython",
    "version": 3
   },
   "file_extension": ".py",
   "mimetype": "text/x-python",
   "name": "python",
   "nbconvert_exporter": "python",
   "pygments_lexer": "ipython3",
   "version": "3.6.9"
  }
 },
 "nbformat": 4,
 "nbformat_minor": 2
}
