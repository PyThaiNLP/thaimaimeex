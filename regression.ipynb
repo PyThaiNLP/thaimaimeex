{
  "nbformat": 4,
  "nbformat_minor": 0,
  "metadata": {
    "kernelspec": {
      "display_name": "Python 3",
      "language": "python",
      "name": "python3"
    },
    "language_info": {
      "codemirror_mode": {
        "name": "ipython",
        "version": 3
      },
      "file_extension": ".py",
      "mimetype": "text/x-python",
      "name": "python",
      "nbconvert_exporter": "python",
      "pygments_lexer": "ipython3",
      "version": "3.6.9"
    },
    "colab": {
      "name": "regression.ipynb",
      "provenance": [],
      "collapsed_sections": [],
      "include_colab_link": true
    },
    "accelerator": "GPU"
  },
  "cells": [
    {
      "cell_type": "markdown",
      "metadata": {
        "id": "view-in-github",
        "colab_type": "text"
      },
      "source": [
        "<a href=\"https://colab.research.google.com/github/PyThaiNLP/thaimaimeex/blob/master/regression.ipynb\" target=\"_parent\"><img src=\"https://colab.research.google.com/assets/colab-badge.svg\" alt=\"Open In Colab\"/></a>"
      ]
    },
    {
      "cell_type": "markdown",
      "metadata": {
        "id": "urOhF54XkgGK",
        "colab_type": "text"
      },
      "source": [
        "# Predict `log_budget` from `thaimaimeex` Dataset"
      ]
    },
    {
      "cell_type": "markdown",
      "metadata": {
        "id": "ASSetJiU9BPO",
        "colab_type": "text"
      },
      "source": [
        "We tried using `project_name` of ThaiME projects to predict how much `log_budget` they will get. The benchmark is done among LinearSVR, ULMFit and Multilingual Universal Sentence Encoder + LinearSVR. The metric is mean squared error (MSE).\n",
        "\n",
        "| models       | mse      |\n",
        "|--------------|----------|\n",
        "| predict mean | 2.455477 |\n",
        "| **LinearSVR**    | **1.166351** |\n",
        "| ULMFit       | 1.182745 |\n",
        "| USE          | 1.749290 |"
      ]
    },
    {
      "cell_type": "code",
      "metadata": {
        "id": "dWgIXysJkvY8",
        "colab_type": "code",
        "outputId": "45fbf817-4b4e-4e0f-eee0-781048fcecd3",
        "colab": {
          "base_uri": "https://localhost:8080/",
          "height": 315
        }
      },
      "source": [
        "#download and installs for colab\n",
        "!npx degit pythainlp/thaimaimeex -f\n",
        "!pip install emoji\n",
        "!pip install pythainlp -q\n",
        "!pip install tensorflow_text"
      ],
      "execution_count": 3,
      "outputs": [
        {
          "output_type": "stream",
          "text": [
            "\u001b[K\u001b[?25hnpx: installed 1 in 2.173s\n",
            "\u001b[36m> destination directory is not empty. Using --force, continuing\u001b[39m\n",
            "\u001b[36m> cloned \u001b[1mpythainlp/thaimaimeex\u001b[22m#\u001b[1mmaster\u001b[22m\u001b[39m\n",
            "Collecting emoji\n",
            "\u001b[?25l  Downloading https://files.pythonhosted.org/packages/40/8d/521be7f0091fe0f2ae690cc044faf43e3445e0ff33c574eae752dd7e39fa/emoji-0.5.4.tar.gz (43kB)\n",
            "\u001b[K     |████████████████████████████████| 51kB 3.7MB/s \n",
            "\u001b[?25hBuilding wheels for collected packages: emoji\n",
            "  Building wheel for emoji (setup.py) ... \u001b[?25l\u001b[?25hdone\n",
            "  Created wheel for emoji: filename=emoji-0.5.4-cp36-none-any.whl size=42176 sha256=bc5f29f2c26b701ffaf098259604bfe9ef6e115a0f1d011af0115632234fd1c6\n",
            "  Stored in directory: /root/.cache/pip/wheels/2a/a9/0a/4f8e8cce8074232aba240caca3fade315bb49fac68808d1a9c\n",
            "Successfully built emoji\n",
            "Installing collected packages: emoji\n",
            "Successfully installed emoji-0.5.4\n",
            "\u001b[K     |████████████████████████████████| 11.1MB 7.2MB/s \n",
            "\u001b[K     |████████████████████████████████| 1.4MB 50.6MB/s \n",
            "\u001b[?25h  Building wheel for nltk (setup.py) ... \u001b[?25l\u001b[?25hdone\n"
          ],
          "name": "stdout"
        }
      ]
    },
    {
      "cell_type": "code",
      "metadata": {
        "id": "Y394Hiy2kgGN",
        "colab_type": "code",
        "colab": {}
      },
      "source": [
        "import numpy as np\n",
        "import pandas as pd\n",
        "from tqdm.notebook import tqdm\n",
        "from collections import Counter\n",
        "import re\n",
        "from sklearn.metrics import f1_score,precision_score,recall_score\n",
        "from pythainlp.tokenize import word_tokenize\n",
        "from pythainlp.ulmfit import *\n",
        "\n",
        "y = 'log_budget'\n",
        "\n",
        "import warnings\n",
        "warnings.filterwarnings('ignore')"
      ],
      "execution_count": 0,
      "outputs": []
    },
    {
      "cell_type": "code",
      "metadata": {
        "id": "Dl0IuHijkgGn",
        "colab_type": "code",
        "colab": {}
      },
      "source": [
        "# #from https://gist.github.com/korakot/01d181229b21411b0a20784e0ca20d3d\n",
        "# !wget https://github.com/Phonbopit/sarabun-webfont/raw/master/fonts/thsarabunnew-webfont.ttf\n",
        "# !pip install -U --pre matplotlib  \n",
        "import matplotlib.font_manager as matfont\n",
        "matfont.fontManager.addfont('thsarabunnew-webfont.ttf') # 3.2+\n",
        "from plotnine import *\n",
        "from mizani import *\n",
        "import matplotlib.pyplot as plt\n",
        "import seaborn as sns\n",
        "theme_set(theme_minimal(14, 'TH Sarabun New'))\n",
        "\n",
        "# #for mac\n",
        "# import matplotlib\n",
        "# matplotlib.rc('font', family='Ayuthaya')"
      ],
      "execution_count": 0,
      "outputs": []
    },
    {
      "cell_type": "code",
      "metadata": {
        "id": "G83dRnrj2lgr",
        "colab_type": "code",
        "colab": {}
      },
      "source": [
        "#handle version difference\n",
        "try:\n",
        "  THWIKI_LSTM =_THWIKI_LSTM\n",
        "except:\n",
        "  THWIKI_LSTM = THWIKI_LSTM"
      ],
      "execution_count": 0,
      "outputs": []
    },
    {
      "cell_type": "code",
      "metadata": {
        "id": "pq_fDL1kkgHa",
        "colab_type": "code",
        "outputId": "494d3ab7-56b1-4a94-fcdc-f4ba16a44c69",
        "colab": {
          "base_uri": "https://localhost:8080/",
          "height": 35
        }
      },
      "source": [
        "thaime = pd.read_csv('data/thaimaimeex.csv')\n",
        "thaime.columns = ['texts', 'unit', 'ministry', 'log_budget', 'test_flag']\n",
        "train_df = thaime[thaime.test_flag==0]\n",
        "test_df = thaime[thaime.test_flag==1]\n",
        "X_train, y_train = train_df['texts'], train_df[y]\n",
        "X_test, y_test = test_df['texts'], test_df[y]\n",
        "thaime.shape,train_df.shape,test_df.shape"
      ],
      "execution_count": 4,
      "outputs": [
        {
          "output_type": "execute_result",
          "data": {
            "text/plain": [
              "((31501, 5), (26776, 5), (4725, 5))"
            ]
          },
          "metadata": {
            "tags": []
          },
          "execution_count": 4
        }
      ]
    },
    {
      "cell_type": "markdown",
      "metadata": {
        "id": "m0adpVoPkgHg",
        "colab_type": "text"
      },
      "source": [
        "## Linear SVR"
      ]
    },
    {
      "cell_type": "code",
      "metadata": {
        "id": "0fqVkPWdkgHh",
        "colab_type": "code",
        "outputId": "4e11e9b1-57f9-407c-ef13-da641b57f85e",
        "colab": {
          "base_uri": "https://localhost:8080/",
          "height": 347
        }
      },
      "source": [
        "from sklearn.pipeline import Pipeline\n",
        "from sklearn.feature_extraction.text import TfidfVectorizer\n",
        "from sklearn.svm import SVR\n",
        "\n",
        "text_clf = Pipeline([\n",
        "    ('tfidf', TfidfVectorizer(tokenizer=process_thai, ngram_range=(1,2))),\n",
        "    ('clf', SVR(kernel='linear')),\n",
        "])\n",
        "\n",
        "text_clf.fit(X_train, y_train)"
      ],
      "execution_count": 10,
      "outputs": [
        {
          "output_type": "execute_result",
          "data": {
            "text/plain": [
              "Pipeline(memory=None,\n",
              "         steps=[('tfidf',\n",
              "                 TfidfVectorizer(analyzer='word', binary=False,\n",
              "                                 decode_error='strict',\n",
              "                                 dtype=<class 'numpy.float64'>,\n",
              "                                 encoding='utf-8', input='content',\n",
              "                                 lowercase=True, max_df=1.0, max_features=None,\n",
              "                                 min_df=1, ngram_range=(1, 2), norm='l2',\n",
              "                                 preprocessor=None, smooth_idf=True,\n",
              "                                 stop_words=None, strip_accents=None,\n",
              "                                 sublinear_tf=False,\n",
              "                                 token_pattern='(?u)\\\\b\\\\w\\\\w+\\\\b',\n",
              "                                 tokenizer=<function process_thai at 0x7f8b3ba61ea0>,\n",
              "                                 use_idf=True, vocabulary=None)),\n",
              "                ('clf',\n",
              "                 SVR(C=1.0, cache_size=200, coef0=0.0, degree=3, epsilon=0.1,\n",
              "                     gamma='scale', kernel='linear', max_iter=-1,\n",
              "                     shrinking=True, tol=0.001, verbose=False))],\n",
              "         verbose=False)"
            ]
          },
          "metadata": {
            "tags": []
          },
          "execution_count": 10
        }
      ]
    },
    {
      "cell_type": "code",
      "metadata": {
        "id": "lmtXANmXkgHp",
        "colab_type": "code",
        "outputId": "defa9708-3c68-4126-be67-9c41235a6486",
        "colab": {
          "base_uri": "https://localhost:8080/",
          "height": 87
        }
      },
      "source": [
        "pred = text_clf.predict(X_test)\n",
        "np.mean((pred-y_test)**2), np.mean((y_test-y_test.mean())**2),\\\n",
        "np.mean((np.exp(pred)-np.exp(y_test))**2), np.mean((np.exp(y_test)-np.exp(y_test.mean()))**2),"
      ],
      "execution_count": 11,
      "outputs": [
        {
          "output_type": "execute_result",
          "data": {
            "text/plain": [
              "(1.1663506493608127,\n",
              " 2.4554771615351085,\n",
              " 1.4494448478124762e+16,\n",
              " 1.4623253764252518e+16)"
            ]
          },
          "metadata": {
            "tags": []
          },
          "execution_count": 11
        }
      ]
    },
    {
      "cell_type": "code",
      "metadata": {
        "id": "5g3q7lDMkgHv",
        "colab_type": "code",
        "outputId": "1f3efbd4-9d50-4d8b-e0eb-e66f25956c06",
        "colab": {
          "base_uri": "https://localhost:8080/",
          "height": 369
        }
      },
      "source": [
        "plt.hist(y_test)\n",
        "plt.hist(pred)"
      ],
      "execution_count": 12,
      "outputs": [
        {
          "output_type": "execute_result",
          "data": {
            "text/plain": [
              "(array([  20.,  198., 1226., 1023., 1011.,  700.,  414.,  108.,   22.,\n",
              "           3.]),\n",
              " array([11.03361369, 11.80963257, 12.58565145, 13.36167033, 14.13768921,\n",
              "        14.91370809, 15.68972697, 16.46574585, 17.24176473, 18.01778361,\n",
              "        18.79380249]),\n",
              " <a list of 10 Patch objects>)"
            ]
          },
          "metadata": {
            "tags": []
          },
          "execution_count": 12
        },
        {
          "output_type": "display_data",
          "data": {
            "image/png": "[encoded data removed]",
            "text/plain": [
              "<Figure size 432x288 with 1 Axes>"
            ]
          },
          "metadata": {
            "tags": [],
            "needs_background": "light"
          }
        }
      ]
    },
    {
      "cell_type": "markdown",
      "metadata": {
        "id": "Rwx1vSkLkgH4",
        "colab_type": "text"
      },
      "source": [
        "## ULMFit"
      ]
    },
    {
      "cell_type": "code",
      "metadata": {
        "id": "2KnnKfxykgH5",
        "colab_type": "code",
        "colab": {
          "base_uri": "https://localhost:8080/",
          "height": 35
        },
        "outputId": "b0608ec9-9bbb-4237-df68-fb7e0d26031b"
      },
      "source": [
        "import pandas as pd\n",
        "import numpy as np\n",
        "from ast import literal_eval\n",
        "from tqdm import tqdm_notebook\n",
        "from collections import Counter\n",
        "import re\n",
        "\n",
        "#viz\n",
        "import matplotlib.pyplot as plt\n",
        "import seaborn as sns\n",
        "\n",
        "from fastai.text import *\n",
        "from fastai.callbacks import CSVLogger, SaveModelCallback\n",
        "\n",
        "from pythainlp.ulmfit import *\n",
        "\n",
        "model_path = 'models/'\n",
        "!mkdir models"
      ],
      "execution_count": 6,
      "outputs": [
        {
          "output_type": "stream",
          "text": [
            "mkdir: cannot create directory ‘models’: File exists\n"
          ],
          "name": "stdout"
        }
      ]
    },
    {
      "cell_type": "code",
      "metadata": {
        "id": "I5B2NdyFkgH8",
        "colab_type": "code",
        "colab": {
          "base_uri": "https://localhost:8080/",
          "height": 17
        },
        "outputId": "48970913-cdfb-4dde-c040-c30d503225a4"
      },
      "source": [
        "tt = Tokenizer(tok_func = ThaiTokenizer, lang = 'th', pre_rules = pre_rules_th, post_rules=post_rules_th)\n",
        "processor = [TokenizeProcessor(tokenizer=tt, chunksize=10000, mark_fields=False),\n",
        "            NumericalizeProcessor(vocab=None, max_vocab=60000, min_freq=2)]\n",
        "\n",
        "data_lm = (TextList.from_df(thaime, model_path, cols=['texts'], processor=processor)\n",
        "    .random_split_by_pct(valid_pct = 0.01, seed = 1412)\n",
        "    .label_for_lm()\n",
        "    .databunch(bs=64))\n",
        "data_lm.sanity_check()\n",
        "# data_lm.save('thaime_lm.pkl')"
      ],
      "execution_count": 7,
      "outputs": [
        {
          "output_type": "display_data",
          "data": {
            "text/html": [
              ""
            ],
            "text/plain": [
              "<IPython.core.display.HTML object>"
            ]
          },
          "metadata": {
            "tags": []
          }
        },
        {
          "output_type": "display_data",
          "data": {
            "text/html": [
              ""
            ],
            "text/plain": [
              "<IPython.core.display.HTML object>"
            ]
          },
          "metadata": {
            "tags": []
          }
        }
      ]
    },
    {
      "cell_type": "code",
      "metadata": {
        "id": "j2NXQIz8kgIB",
        "colab_type": "code",
        "outputId": "2f7a1bcd-c194-4649-a054-788b3c606687",
        "colab": {
          "base_uri": "https://localhost:8080/",
          "height": 35
        }
      },
      "source": [
        "data_lm = load_data(model_path,'thaime_lm.pkl')\n",
        "data_lm.sanity_check()\n",
        "len(data_lm.train_ds), len(data_lm.valid_ds)"
      ],
      "execution_count": 8,
      "outputs": [
        {
          "output_type": "execute_result",
          "data": {
            "text/plain": [
              "(31186, 315)"
            ]
          },
          "metadata": {
            "tags": []
          },
          "execution_count": 8
        }
      ]
    },
    {
      "cell_type": "code",
      "metadata": {
        "id": "SjIHQDPUkgIK",
        "colab_type": "code",
        "outputId": "82065692-4c69-4a38-88f4-af97e5cf0ae2",
        "colab": {
          "base_uri": "https://localhost:8080/",
          "height": 306
        }
      },
      "source": [
        "data_lm.show_batch(5)"
      ],
      "execution_count": 10,
      "outputs": [
        {
          "output_type": "display_data",
          "data": {
            "text/html": [
              "<table border=\"1\" class=\"dataframe\">\n",
              "  <thead>\n",
              "    <tr style=\"text-align: right;\">\n",
              "      <th>idx</th>\n",
              "      <th>text</th>\n",
              "    </tr>\n",
              "  </thead>\n",
              "  <tbody>\n",
              "    <tr>\n",
              "      <td>0</td>\n",
              "      <td>หาด   อำเภอ คลอง หาด   จังหวัด สระ แก้ว xxbos   - ก่อสร้าง ระบบ ประปา หมู่บ้าน พร้อม เจาะ บ่อ บาดาล   หมู่ ที่   13   บ้าน คลอง หาด พัฒนา   ( กลุ่ม บ้าน ผู้ช่วย ไก่ )   เทศบาลตำบล คลอง หาด   อำเภอ คลอง หาด   จังหวัด สระ แก้ว xxbos   - ก่อสร้าง ระบบ ประปา หมู่บ้าน พร้อม เจาะ บ่อ</td>\n",
              "    </tr>\n",
              "    <tr>\n",
              "      <td>1</td>\n",
              "      <td>อ. เชียง กลาง   จ. น่าน xxbos   26.   ก่อสร้าง ธนาคาร น้ำใต้ดิน   ระบบ เปิด   จุด ที่   2   บ้าน หนอง ปลิง   หมู่ ที่   7   ตำบล ทุ่ง กระ บ่ำ xxbos   26.   ก่อสร้าง ฝายน้ำล้น   ( จุด นาย ไพฑูรย์ - นาย เร วิ xxunk   บ้าน เขา น้อย</td>\n",
              "    </tr>\n",
              "    <tr>\n",
              "      <td>2</td>\n",
              "      <td>การ สร้าง งาน   สร้าง อาชีพ และ เพิ่ม ช่องทาง สร้าง   ราย ได้แก่ ประชาชน ผู้ ว่างงาน ใน จังหวัด สุพรรณบุรี   ( กิจกรรม ส่งเสริม รับ งาน ไป ทำ ที่ บ้าน ) xxbos   การ สร้าง งาน   สร้าง อาชีพ และ เพิ่ม ช่องทาง สร้าง   ราย ได้แก่ ประชาชน ผู้ ว่างงาน ใน จังหวัด สุพรรณบุรี   ( กิจกรรม แปรรูป เกษตร อินทรีย์ ) xxbos   การ สร้าง</td>\n",
              "    </tr>\n",
              "    <tr>\n",
              "      <td>3</td>\n",
              "      <td>สาย คัน คลอง แม่น้ำ ยม สาย เก่า xxbos   ก่อสร้าง ถนน   คส ล.   สาย จาก   หมู่ ที่   4   บ้าน หัว เขา นาค   ไป ถึง หมู่ ที่   3   ตำบล เขา ขี้ ฝอย xxbos   ก่อสร้าง ถนน   คส ล.   สาย จาก คลอง ชลประทาน   lmc   ถึง โรงเรียน</td>\n",
              "    </tr>\n",
              "    <tr>\n",
              "      <td>4</td>\n",
              "      <td>หนา   0.15   เมตร   หรือ มี พื้นที่ ไม่ น้อยกว่า   760.00   ตารางเมตร   เทศบาลตำบล งิ ม   อำเภอ ปง   จัว หวัด พะเยา xxbos   ก่อสร้าง ถนน   คส ล. เข้าสู่ พื้นที่ การเกษตร   บ้าน แบ่ง   หมู่ ที่   5   ปริมาณ งาน   ก่อสร้าง ถนน   คส</td>\n",
              "    </tr>\n",
              "  </tbody>\n",
              "</table>"
            ],
            "text/plain": [
              "<IPython.core.display.HTML object>"
            ]
          },
          "metadata": {
            "tags": []
          }
        }
      ]
    },
    {
      "cell_type": "code",
      "metadata": {
        "id": "GH-qILpFkgIh",
        "colab_type": "code",
        "colab": {
          "base_uri": "https://localhost:8080/",
          "height": 1000
        },
        "outputId": "2c184bb2-c71e-4d2a-b346-b59d68374455"
      },
      "source": [
        "config = dict(emb_sz=400, n_hid=1550, n_layers=4, pad_token=1, qrnn=False, tie_weights=True, out_bias=True,\n",
        "             output_p=0.25, hidden_p=0.1, input_p=0.2, embed_p=0.02, weight_p=0.15)\n",
        "trn_args = dict(drop_mult=0.9, clip=0.12, alpha=2, beta=1)\n",
        "\n",
        "learn = language_model_learner(data_lm, AWD_LSTM, config=config, pretrained=False, **trn_args)\n",
        "\n",
        "#load pretrained models\n",
        "learn.load_pretrained(**THWIKI_LSTM)"
      ],
      "execution_count": 9,
      "outputs": [
        {
          "output_type": "execute_result",
          "data": {
            "text/plain": [
              "LanguageLearner(data=TextLMDataBunch;\n",
              "\n",
              "Train: LabelList (31186 items)\n",
              "x: LMTextList\n",
              "xxbos   \" มะนาว พา สุข \"   เพิ่ม คุณภาพชีวิต คนพิการ ใน จังหวัด สิงห์บุรี,xxbos   - ก่อสร้าง ระบบ ประปา หมู่บ้าน   แบบ บาดาล ขนาด กลาง   บริเวณ จุดชมวิว   หมู่ ที่   9   บ้าน เขา เลื่อม ใต้,xxbos   - ก่อสร้าง ระบบ ประปา หมู่บ้าน   แบบ ผิว ดิน ขนาด กลาง   หมู่ ที่   1   บ้าน คลอง หาด   เทศบาลตำบล คลอง หาด   อำเภอ คลอง หาด   จังหวัด สระ แก้ว,xxbos   - ก่อสร้าง ระบบ ประปา หมู่บ้าน พร้อม เจาะ บ่อ บาดาล   หมู่ ที่   10   บ้าน ไทย พัฒนา   ( กลุ่ม ตา xxunk )   เทศบาลตำบล คลอง หาด   อำเภอ คลอง หาด   จังหวัด สระ แก้ว,xxbos   - ก่อสร้าง ระบบ ประปา หมู่บ้าน พร้อม เจาะ บ่อ บาดาล   หมู่ ที่   11   บ้าน ป่า ตะแบก   ( กลุ่ม ตา สอย )   เทศบาลตำบล คลอง หาด   อำเภอ คลอง หาด   จังหวัด สระ แก้ว\n",
              "y: LMLabelList\n",
              ",,,,\n",
              "Path: models;\n",
              "\n",
              "Valid: LabelList (315 items)\n",
              "x: LMTextList\n",
              "xxbos   โครง การพัฒนา เส้นทาง การขนส่ง ผลผลิต ทาง การเกษตร และ เชื่อมโยง การท่องเที่ยว   บ้าน หนอง ฟ้า เลื่อน   หมู่ ที่   5   ตำบล แจ น แลน   อำเภอ กุ ฉิ นารายณ์   จังหวัด กาฬสินธุ์   โดย การ ก่อสร้าง ถนน คอนกรีตเสริมเหล็ก สาย บ้าน หนอง ฟ้า เลื่อน หมู่ ที่   4   ไป สถานี สูบน้ำ ด้วย พลังงานไฟฟ้า   ขนาด ผิวจราจร กว้าง   ๔   เมตร   ยาว   ๑,๓๐๐   เมตร   ตำบล แจ น แลน   อำเภอ กุ ฉิ นารายณ์   จังหวัด กาฬสินธุ์,xxbos   โครงการ ส่งเสริม อาชีพ การ ทำ ขนม   ตำบล เขา ตูม   อำเภอ ยะรัง,xxbos   โครงการ เสริม ผิว ถนนลาดยาง แอ สฟัลท์ ติ กค อน กรี ต   ( overley )   ซอย   4   บ้าน ดง ก๋ำ   หมู่ ที่   7   ตำบล ทุ่ง สะโตก   อำเภอ สัน ป่าตอง   จังหวัด เชียงใหม่,xxbos   โครงการ ขุด ลอก ร่องน้ำ สาธารณะ   หมู่ ที่   2   ระยะทาง กว้าง เฉลี่ย   4.00   เมตร   ยาว เฉลี่ย   720   เมตร   ขุด ลึก เพิ่ม   2.00   เมตร   พร้อม วาง ท่อระบายน้ำ   คส ล.   ขนาด   1.00 x   1.00   จำนวน   8   ท่อน,xxbos   ก่อสร้าง ถนน คอนกรีตเสริมเหล็ก   ( บริเวณ เลียบ ลำ เหมือง หลวง )   สถานที่ก่อสร้าง   บ้าน สัน กลาง   หมู ที่   5   ตำบล และ   อำเภอ ทุ่ง ช้าง   จังหวัด น่าน ความ ยาว   250   เมตร   กว้าง   3.00   หนา   0.15   เมตร   หรือ มี พื้นที่ ก่อสร้าง ไม่ น้อยกว่า   750   ตารางเมตร\n",
              "y: LMLabelList\n",
              ",,,,\n",
              "Path: models;\n",
              "\n",
              "Test: None, model=SequentialRNN(\n",
              "  (0): AWD_LSTM(\n",
              "    (encoder): Embedding(8640, 400, padding_idx=1)\n",
              "    (encoder_dp): EmbeddingDropout(\n",
              "      (emb): Embedding(8640, 400, padding_idx=1)\n",
              "    )\n",
              "    (rnns): ModuleList(\n",
              "      (0): WeightDropout(\n",
              "        (module): LSTM(400, 1550, batch_first=True)\n",
              "      )\n",
              "      (1): WeightDropout(\n",
              "        (module): LSTM(1550, 1550, batch_first=True)\n",
              "      )\n",
              "      (2): WeightDropout(\n",
              "        (module): LSTM(1550, 1550, batch_first=True)\n",
              "      )\n",
              "      (3): WeightDropout(\n",
              "        (module): LSTM(1550, 400, batch_first=True)\n",
              "      )\n",
              "    )\n",
              "    (input_dp): RNNDropout()\n",
              "    (hidden_dps): ModuleList(\n",
              "      (0): RNNDropout()\n",
              "      (1): RNNDropout()\n",
              "      (2): RNNDropout()\n",
              "      (3): RNNDropout()\n",
              "    )\n",
              "  )\n",
              "  (1): LinearDecoder(\n",
              "    (decoder): Linear(in_features=400, out_features=8640, bias=True)\n",
              "    (output_dp): RNNDropout()\n",
              "  )\n",
              "), opt_func=functools.partial(<class 'torch.optim.adam.Adam'>, betas=(0.9, 0.99)), loss_func=FlattenedLoss of CrossEntropyLoss(), metrics=[<function accuracy at 0x7efbb5bdfea0>], true_wd=True, bn_wd=True, wd=0.01, train_bn=True, path=PosixPath('models'), model_dir='models', callback_fns=[functools.partial(<class 'fastai.basic_train.Recorder'>, add_time=True, silent=False), functools.partial(<class 'fastai.train.GradientClipping'>, clip=0.12)], callbacks=[RNNTrainer\n",
              "learn: LanguageLearner(data=TextLMDataBunch;\n",
              "\n",
              "Train: LabelList (31186 items)\n",
              "x: LMTextList\n",
              "xxbos   \" มะนาว พา สุข \"   เพิ่ม คุณภาพชีวิต คนพิการ ใน จังหวัด สิงห์บุรี,xxbos   - ก่อสร้าง ระบบ ประปา หมู่บ้าน   แบบ บาดาล ขนาด กลาง   บริเวณ จุดชมวิว   หมู่ ที่   9   บ้าน เขา เลื่อม ใต้,xxbos   - ก่อสร้าง ระบบ ประปา หมู่บ้าน   แบบ ผิว ดิน ขนาด กลาง   หมู่ ที่   1   บ้าน คลอง หาด   เทศบาลตำบล คลอง หาด   อำเภอ คลอง หาด   จังหวัด สระ แก้ว,xxbos   - ก่อสร้าง ระบบ ประปา หมู่บ้าน พร้อม เจาะ บ่อ บาดาล   หมู่ ที่   10   บ้าน ไทย พัฒนา   ( กลุ่ม ตา xxunk )   เทศบาลตำบล คลอง หาด   อำเภอ คลอง หาด   จังหวัด สระ แก้ว,xxbos   - ก่อสร้าง ระบบ ประปา หมู่บ้าน พร้อม เจาะ บ่อ บาดาล   หมู่ ที่   11   บ้าน ป่า ตะแบก   ( กลุ่ม ตา สอย )   เทศบาลตำบล คลอง หาด   อำเภอ คลอง หาด   จังหวัด สระ แก้ว\n",
              "y: LMLabelList\n",
              ",,,,\n",
              "Path: models;\n",
              "\n",
              "Valid: LabelList (315 items)\n",
              "x: LMTextList\n",
              "xxbos   โครง การพัฒนา เส้นทาง การขนส่ง ผลผลิต ทาง การเกษตร และ เชื่อมโยง การท่องเที่ยว   บ้าน หนอง ฟ้า เลื่อน   หมู่ ที่   5   ตำบล แจ น แลน   อำเภอ กุ ฉิ นารายณ์   จังหวัด กาฬสินธุ์   โดย การ ก่อสร้าง ถนน คอนกรีตเสริมเหล็ก สาย บ้าน หนอง ฟ้า เลื่อน หมู่ ที่   4   ไป สถานี สูบน้ำ ด้วย พลังงานไฟฟ้า   ขนาด ผิวจราจร กว้าง   ๔   เมตร   ยาว   ๑,๓๐๐   เมตร   ตำบล แจ น แลน   อำเภอ กุ ฉิ นารายณ์   จังหวัด กาฬสินธุ์,xxbos   โครงการ ส่งเสริม อาชีพ การ ทำ ขนม   ตำบล เขา ตูม   อำเภอ ยะรัง,xxbos   โครงการ เสริม ผิว ถนนลาดยาง แอ สฟัลท์ ติ กค อน กรี ต   ( overley )   ซอย   4   บ้าน ดง ก๋ำ   หมู่ ที่   7   ตำบล ทุ่ง สะโตก   อำเภอ สัน ป่าตอง   จังหวัด เชียงใหม่,xxbos   โครงการ ขุด ลอก ร่องน้ำ สาธารณะ   หมู่ ที่   2   ระยะทาง กว้าง เฉลี่ย   4.00   เมตร   ยาว เฉลี่ย   720   เมตร   ขุด ลึก เพิ่ม   2.00   เมตร   พร้อม วาง ท่อระบายน้ำ   คส ล.   ขนาด   1.00 x   1.00   จำนวน   8   ท่อน,xxbos   ก่อสร้าง ถนน คอนกรีตเสริมเหล็ก   ( บริเวณ เลียบ ลำ เหมือง หลวง )   สถานที่ก่อสร้าง   บ้าน สัน กลาง   หมู ที่   5   ตำบล และ   อำเภอ ทุ่ง ช้าง   จังหวัด น่าน ความ ยาว   250   เมตร   กว้าง   3.00   หนา   0.15   เมตร   หรือ มี พื้นที่ ก่อสร้าง ไม่ น้อยกว่า   750   ตารางเมตร\n",
              "y: LMLabelList\n",
              ",,,,\n",
              "Path: models;\n",
              "\n",
              "Test: None, model=SequentialRNN(\n",
              "  (0): AWD_LSTM(\n",
              "    (encoder): Embedding(8640, 400, padding_idx=1)\n",
              "    (encoder_dp): EmbeddingDropout(\n",
              "      (emb): Embedding(8640, 400, padding_idx=1)\n",
              "    )\n",
              "    (rnns): ModuleList(\n",
              "      (0): WeightDropout(\n",
              "        (module): LSTM(400, 1550, batch_first=True)\n",
              "      )\n",
              "      (1): WeightDropout(\n",
              "        (module): LSTM(1550, 1550, batch_first=True)\n",
              "      )\n",
              "      (2): WeightDropout(\n",
              "        (module): LSTM(1550, 1550, batch_first=True)\n",
              "      )\n",
              "      (3): WeightDropout(\n",
              "        (module): LSTM(1550, 400, batch_first=True)\n",
              "      )\n",
              "    )\n",
              "    (input_dp): RNNDropout()\n",
              "    (hidden_dps): ModuleList(\n",
              "      (0): RNNDropout()\n",
              "      (1): RNNDropout()\n",
              "      (2): RNNDropout()\n",
              "      (3): RNNDropout()\n",
              "    )\n",
              "  )\n",
              "  (1): LinearDecoder(\n",
              "    (decoder): Linear(in_features=400, out_features=8640, bias=True)\n",
              "    (output_dp): RNNDropout()\n",
              "  )\n",
              "), opt_func=functools.partial(<class 'torch.optim.adam.Adam'>, betas=(0.9, 0.99)), loss_func=FlattenedLoss of CrossEntropyLoss(), metrics=[<function accuracy at 0x7efbb5bdfea0>], true_wd=True, bn_wd=True, wd=0.01, train_bn=True, path=PosixPath('models'), model_dir='models', callback_fns=[functools.partial(<class 'fastai.basic_train.Recorder'>, add_time=True, silent=False), functools.partial(<class 'fastai.train.GradientClipping'>, clip=0.12)], callbacks=[...], layer_groups=[Sequential(\n",
              "  (0): WeightDropout(\n",
              "    (module): LSTM(400, 1550, batch_first=True)\n",
              "  )\n",
              "  (1): RNNDropout()\n",
              "), Sequential(\n",
              "  (0): WeightDropout(\n",
              "    (module): LSTM(1550, 1550, batch_first=True)\n",
              "  )\n",
              "  (1): RNNDropout()\n",
              "), Sequential(\n",
              "  (0): WeightDropout(\n",
              "    (module): LSTM(1550, 1550, batch_first=True)\n",
              "  )\n",
              "  (1): RNNDropout()\n",
              "), Sequential(\n",
              "  (0): WeightDropout(\n",
              "    (module): LSTM(1550, 400, batch_first=True)\n",
              "  )\n",
              "  (1): RNNDropout()\n",
              "), Sequential(\n",
              "  (0): Embedding(8640, 400, padding_idx=1)\n",
              "  (1): EmbeddingDropout(\n",
              "    (emb): Embedding(8640, 400, padding_idx=1)\n",
              "  )\n",
              "  (2): LinearDecoder(\n",
              "    (decoder): Linear(in_features=400, out_features=8640, bias=True)\n",
              "    (output_dp): RNNDropout()\n",
              "  )\n",
              ")], add_time=True, silent=False)\n",
              "alpha: 2\n",
              "beta: 1], layer_groups=[Sequential(\n",
              "  (0): WeightDropout(\n",
              "    (module): LSTM(400, 1550, batch_first=True)\n",
              "  )\n",
              "  (1): RNNDropout()\n",
              "), Sequential(\n",
              "  (0): WeightDropout(\n",
              "    (module): LSTM(1550, 1550, batch_first=True)\n",
              "  )\n",
              "  (1): RNNDropout()\n",
              "), Sequential(\n",
              "  (0): WeightDropout(\n",
              "    (module): LSTM(1550, 1550, batch_first=True)\n",
              "  )\n",
              "  (1): RNNDropout()\n",
              "), Sequential(\n",
              "  (0): WeightDropout(\n",
              "    (module): LSTM(1550, 400, batch_first=True)\n",
              "  )\n",
              "  (1): RNNDropout()\n",
              "), Sequential(\n",
              "  (0): Embedding(8640, 400, padding_idx=1)\n",
              "  (1): EmbeddingDropout(\n",
              "    (emb): Embedding(8640, 400, padding_idx=1)\n",
              "  )\n",
              "  (2): LinearDecoder(\n",
              "    (decoder): Linear(in_features=400, out_features=8640, bias=True)\n",
              "    (output_dp): RNNDropout()\n",
              "  )\n",
              ")], add_time=True, silent=False)"
            ]
          },
          "metadata": {
            "tags": []
          },
          "execution_count": 9
        }
      ]
    },
    {
      "cell_type": "code",
      "metadata": {
        "id": "Y7HfFKZZkgIv",
        "colab_type": "code",
        "outputId": "0cbf0d92-824c-4e42-be50-c44b5fa0f63a",
        "colab": {
          "base_uri": "https://localhost:8080/",
          "height": 374
        }
      },
      "source": [
        "learn.lr_find()\n",
        "learn.recorder.plot()"
      ],
      "execution_count": 12,
      "outputs": [
        {
          "output_type": "display_data",
          "data": {
            "text/html": [
              "\n",
              "    <div>\n",
              "        <style>\n",
              "            /* Turns off some styling */\n",
              "            progress {\n",
              "                /* gets rid of default border in Firefox and Opera. */\n",
              "                border: none;\n",
              "                /* Needs to be in here for Safari polyfill so background images work as expected. */\n",
              "                background-size: auto;\n",
              "            }\n",
              "            .progress-bar-interrupted, .progress-bar-interrupted::-webkit-progress-bar {\n",
              "                background: #F44336;\n",
              "            }\n",
              "        </style>\n",
              "      <progress value='0' class='' max='1' style='width:300px; height:20px; vertical-align: middle;'></progress>\n",
              "      0.00% [0/1 00:00<00:00]\n",
              "    </div>\n",
              "    \n",
              "<table border=\"1\" class=\"dataframe\">\n",
              "  <thead>\n",
              "    <tr style=\"text-align: left;\">\n",
              "      <th>epoch</th>\n",
              "      <th>train_loss</th>\n",
              "      <th>valid_loss</th>\n",
              "      <th>accuracy</th>\n",
              "      <th>time</th>\n",
              "    </tr>\n",
              "  </thead>\n",
              "  <tbody>\n",
              "  </tbody>\n",
              "</table><p>\n",
              "\n",
              "    <div>\n",
              "        <style>\n",
              "            /* Turns off some styling */\n",
              "            progress {\n",
              "                /* gets rid of default border in Firefox and Opera. */\n",
              "                border: none;\n",
              "                /* Needs to be in here for Safari polyfill so background images work as expected. */\n",
              "                background-size: auto;\n",
              "            }\n",
              "            .progress-bar-interrupted, .progress-bar-interrupted::-webkit-progress-bar {\n",
              "                background: #F44336;\n",
              "            }\n",
              "        </style>\n",
              "      <progress value='98' class='' max='220' style='width:300px; height:20px; vertical-align: middle;'></progress>\n",
              "      44.55% [98/220 00:55<01:09 14.9590]\n",
              "    </div>\n",
              "    "
            ],
            "text/plain": [
              "<IPython.core.display.HTML object>"
            ]
          },
          "metadata": {
            "tags": []
          }
        },
        {
          "output_type": "stream",
          "text": [
            "LR Finder is complete, type {learner_name}.recorder.plot() to see the graph.\n"
          ],
          "name": "stdout"
        },
        {
          "output_type": "display_data",
          "data": {
            "image/png": "[encoded data removed]",
            "text/plain": [
              "<Figure size 432x288 with 1 Axes>"
            ]
          },
          "metadata": {
            "tags": [],
            "needs_background": "light"
          }
        }
      ]
    },
    {
      "cell_type": "code",
      "metadata": {
        "id": "bAKTXyWokgI1",
        "colab_type": "code",
        "colab": {
          "base_uri": "https://localhost:8080/",
          "height": 35
        },
        "outputId": "0a2c9e23-450f-43d2-951d-59d680080e6c"
      },
      "source": [
        "len(learn.data.vocab.itos)"
      ],
      "execution_count": 10,
      "outputs": [
        {
          "output_type": "execute_result",
          "data": {
            "text/plain": [
              "8640"
            ]
          },
          "metadata": {
            "tags": []
          },
          "execution_count": 10
        }
      ]
    },
    {
      "cell_type": "code",
      "metadata": {
        "id": "s5uzbjt7kgI8",
        "colab_type": "code",
        "colab": {
          "base_uri": "https://localhost:8080/",
          "height": 97
        },
        "outputId": "15bf28bc-7d62-4911-b261-b371663414fe"
      },
      "source": [
        "#train frozen\n",
        "print('training frozen')\n",
        "learn.freeze_to(-1)\n",
        "learn.fit_one_cycle(1, 1e-3, moms=(0.8, 0.7))"
      ],
      "execution_count": 14,
      "outputs": [
        {
          "output_type": "stream",
          "text": [
            "training frozen\n"
          ],
          "name": "stdout"
        },
        {
          "output_type": "display_data",
          "data": {
            "text/html": [
              "<table border=\"1\" class=\"dataframe\">\n",
              "  <thead>\n",
              "    <tr style=\"text-align: left;\">\n",
              "      <th>epoch</th>\n",
              "      <th>train_loss</th>\n",
              "      <th>valid_loss</th>\n",
              "      <th>accuracy</th>\n",
              "      <th>time</th>\n",
              "    </tr>\n",
              "  </thead>\n",
              "  <tbody>\n",
              "    <tr>\n",
              "      <td>0</td>\n",
              "      <td>3.615890</td>\n",
              "      <td>3.329353</td>\n",
              "      <td>0.437500</td>\n",
              "      <td>01:31</td>\n",
              "    </tr>\n",
              "  </tbody>\n",
              "</table>"
            ],
            "text/plain": [
              "<IPython.core.display.HTML object>"
            ]
          },
          "metadata": {
            "tags": []
          }
        }
      ]
    },
    {
      "cell_type": "code",
      "metadata": {
        "id": "AhRZkrY9kgJD",
        "colab_type": "code",
        "colab": {
          "base_uri": "https://localhost:8080/",
          "height": 373
        },
        "outputId": "d72e4a4a-b1c9-4f95-d73b-2d36f6b458ba"
      },
      "source": [
        "#train unfrozen\n",
        "print('training unfrozen')\n",
        "learn.unfreeze()\n",
        "learn.fit_one_cycle(10, 1e-4, moms=(0.8, 0.7))"
      ],
      "execution_count": 15,
      "outputs": [
        {
          "output_type": "stream",
          "text": [
            "training unfrozen\n"
          ],
          "name": "stdout"
        },
        {
          "output_type": "display_data",
          "data": {
            "text/html": [
              "<table border=\"1\" class=\"dataframe\">\n",
              "  <thead>\n",
              "    <tr style=\"text-align: left;\">\n",
              "      <th>epoch</th>\n",
              "      <th>train_loss</th>\n",
              "      <th>valid_loss</th>\n",
              "      <th>accuracy</th>\n",
              "      <th>time</th>\n",
              "    </tr>\n",
              "  </thead>\n",
              "  <tbody>\n",
              "    <tr>\n",
              "      <td>0</td>\n",
              "      <td>3.241158</td>\n",
              "      <td>2.946458</td>\n",
              "      <td>0.475074</td>\n",
              "      <td>02:13</td>\n",
              "    </tr>\n",
              "    <tr>\n",
              "      <td>1</td>\n",
              "      <td>2.897422</td>\n",
              "      <td>2.680581</td>\n",
              "      <td>0.511384</td>\n",
              "      <td>02:13</td>\n",
              "    </tr>\n",
              "    <tr>\n",
              "      <td>2</td>\n",
              "      <td>2.706798</td>\n",
              "      <td>2.510284</td>\n",
              "      <td>0.531176</td>\n",
              "      <td>02:13</td>\n",
              "    </tr>\n",
              "    <tr>\n",
              "      <td>3</td>\n",
              "      <td>2.558161</td>\n",
              "      <td>2.392328</td>\n",
              "      <td>0.547991</td>\n",
              "      <td>02:13</td>\n",
              "    </tr>\n",
              "    <tr>\n",
              "      <td>4</td>\n",
              "      <td>2.481591</td>\n",
              "      <td>2.314835</td>\n",
              "      <td>0.558482</td>\n",
              "      <td>02:13</td>\n",
              "    </tr>\n",
              "    <tr>\n",
              "      <td>5</td>\n",
              "      <td>2.407741</td>\n",
              "      <td>2.263005</td>\n",
              "      <td>0.566592</td>\n",
              "      <td>02:13</td>\n",
              "    </tr>\n",
              "    <tr>\n",
              "      <td>6</td>\n",
              "      <td>2.364176</td>\n",
              "      <td>2.228713</td>\n",
              "      <td>0.571949</td>\n",
              "      <td>02:13</td>\n",
              "    </tr>\n",
              "    <tr>\n",
              "      <td>7</td>\n",
              "      <td>2.347340</td>\n",
              "      <td>2.208314</td>\n",
              "      <td>0.575818</td>\n",
              "      <td>02:13</td>\n",
              "    </tr>\n",
              "    <tr>\n",
              "      <td>8</td>\n",
              "      <td>2.324579</td>\n",
              "      <td>2.207469</td>\n",
              "      <td>0.575000</td>\n",
              "      <td>02:13</td>\n",
              "    </tr>\n",
              "    <tr>\n",
              "      <td>9</td>\n",
              "      <td>2.324056</td>\n",
              "      <td>2.208045</td>\n",
              "      <td>0.576116</td>\n",
              "      <td>02:13</td>\n",
              "    </tr>\n",
              "  </tbody>\n",
              "</table>"
            ],
            "text/plain": [
              "<IPython.core.display.HTML object>"
            ]
          },
          "metadata": {
            "tags": []
          }
        }
      ]
    },
    {
      "cell_type": "code",
      "metadata": {
        "id": "TQphgGgrq7rr",
        "colab_type": "code",
        "colab": {}
      },
      "source": [
        "# learn.save('thaime_lm')\n",
        "# learn.save_encoder('thaime_enc')"
      ],
      "execution_count": 0,
      "outputs": []
    },
    {
      "cell_type": "code",
      "metadata": {
        "id": "jsHNFJC9xNLo",
        "colab_type": "code",
        "colab": {
          "base_uri": "https://localhost:8080/",
          "height": 364
        },
        "outputId": "54ca243f-9747-4291-d60a-b3ab3cae2de0"
      },
      "source": [
        "#test\n",
        "learn.load('thaime_lm')\n",
        "for i in range(20):\n",
        "    print(learn.predict('โครงการ', 20, temperature=0.8, min_p=0.005, sep = ''))"
      ],
      "execution_count": 20,
      "outputs": [
        {
          "output_type": "stream",
          "text": [
            "โครงการก่อสร้างถนนลาดยางแอสฟัลท์ติกคอนกรีต (บ้านนายสมนึก บุญทอง) \n",
            "โครงการก่อสร้างถนนคอนกรีตเสริมเหล็ก สายหนองโสน-หนองเสือ หมู่ที่ 2 ต.ป่าพะยอม \n",
            "โครงการก่อสร้างถนนคอนกรีตเสริมเหล็ก ซอยทุ่งนางทอง หมู่ 13 ต.ดงช้าง อ.พัฒนานิคม\n",
            "โครงการก่อสร้างถนนคอนกรีตเสริมเหล็ก หมู่ที่ 6 บ้านโคก ตำบลหนองไผ่ อำเภอ หนองกุ\n",
            "โครงการก่อสร้างถนนคอนกรีตเสริมเหล็ก สายทุ่งยาง-ทุ่งตาโกxxbos โครงการปรับปรุงและพัฒนาแหล่งน้ำชุมชนเพื่อ\n",
            "โครงการก่อสร้างถนนคอนกรีตเสริมเหล็ก บ้านโนนนาคำ หมู่ที่ 4 ตำบลกุดเชียงหมี อำเภอ\n",
            "โครงการขยายช่องทางการตลาดสินค้าและบริการสินค้าเกษตรปลอดภัยและผลิตภัณฑ์ชุมชนxxbos โครงการก่อสร้างถนนคอนกรีตเสริมเหล็ก ซอย\n",
            "โครงการก่อสร้างถนนคอนกรีตเสริมเหล็ก สายเลียบลำน้ำตรัง หมู่ที่ 1 ตำบลทับยา อำเภอเมือง\n",
            "โครงการก่อสร้างถนนคอนกรีตเสริมเหล็ก (สายทางข้างวัด หมู่ที่ 10) บ้านหนองบัว \n",
            "โครงการก่อสร้างถนนคอนกรีตเสริมเหล็ก บ้านคลองยาง หมู่ที่ 3 บ้านนาโก ตำบลนาวง\n",
            "โครงการติดตั้งระบบไฟฟ้าส่องสว่างโซล่าเซลล์ ม.9 ต.เขาทรายxxbos โครงการขุดลอกคลอง\n",
            "โครงการติดตั้งไฟฟ้าแสงสว่าง สาย ยส.ถ. 1-004 ระหว่างบ้านคำม่วง หมู่ที่\n",
            "โครงการส่งเสริมอาชีพเกษตรกร เพื่อส่งเสริมและพัฒนาผลิตภัณฑ์การเลี้ยงไก่บ้านและเกษตรกรในพื้นที่อำเภอเมืองลำพูน\n",
            "โครงการก่อสร้างระบบประปาหมู่บ้าน แบบบาดาลขนาดใหญ่มาก หมู่ที่ 4 บ้านท่าปลา ตำบล\n",
            "โครงการก่อสร้างถนนคอนกรีตเสริมเหล็กสายบ้านนางสุกัญญา (สาย 2) บ้านวังน้ำเย็น หมู่\n",
            "โครงการก่อสร้างถนนคอนกรีตเสริมเหล็ก สายบ้านหัวดง หมู่ที่ 9 ตำบลโนนสามัคคี - \n",
            "โครงการก่อสร้างถนนคอนกรีต บ้านห้วยยาง ม.6 - บ้านแม่คำ บ้านวังหิน\n",
            "โครงการก่อสร้างถนนคอนกรีตเสริมเหล็ก สายห้วยตาตา - นาหลวง หมู่ที่ 2 บ้าน\n",
            "โครงการขุดลอกสระน้ำ หมู่ที่ 8 บ้านหนองบัว กว้าง 4 เมตร \n",
            "โครงการก่อสร้างถนน คสล. สายห้วยยาง - บ้านน้ำสวย หมู่ที่ 5\n"
          ],
          "name": "stdout"
        }
      ]
    },
    {
      "cell_type": "code",
      "metadata": {
        "id": "kcDPh14wrWTf",
        "colab_type": "code",
        "colab": {
          "base_uri": "https://localhost:8080/",
          "height": 17
        },
        "outputId": "2ea63b0c-0be6-4ab3-c442-9f8a9dacd90e"
      },
      "source": [
        "processor = [TokenizeProcessor(tokenizer=tt, chunksize=10000, mark_fields=False),\n",
        "            NumericalizeProcessor(vocab=data_lm.vocab, max_vocab=60000, min_freq=2)]\n",
        "\n",
        "data_cls = (TextList.from_df(train_df, model_path, cols=['texts'], processor=processor)\n",
        "    .random_split_by_pct(valid_pct = 0.05, seed = 1412)\n",
        "    .label_from_df(y)\n",
        "    .add_test(TextList.from_df(test_df, model_path, cols=['texts'], processor=processor))\n",
        "    .databunch(bs=64)\n",
        "    )\n",
        "\n",
        "data_cls.sanity_check()\n",
        "# data_cls.save('thaime_cls.pkl')"
      ],
      "execution_count": 21,
      "outputs": [
        {
          "output_type": "display_data",
          "data": {
            "text/html": [
              ""
            ],
            "text/plain": [
              "<IPython.core.display.HTML object>"
            ]
          },
          "metadata": {
            "tags": []
          }
        },
        {
          "output_type": "display_data",
          "data": {
            "text/html": [
              ""
            ],
            "text/plain": [
              "<IPython.core.display.HTML object>"
            ]
          },
          "metadata": {
            "tags": []
          }
        },
        {
          "output_type": "display_data",
          "data": {
            "text/html": [
              ""
            ],
            "text/plain": [
              "<IPython.core.display.HTML object>"
            ]
          },
          "metadata": {
            "tags": []
          }
        }
      ]
    },
    {
      "cell_type": "code",
      "metadata": {
        "id": "TL6PmoS_r0Vz",
        "colab_type": "code",
        "colab": {
          "base_uri": "https://localhost:8080/",
          "height": 1000
        },
        "outputId": "1d072101-9e09-44cc-8a53-700da74f62bb"
      },
      "source": [
        "config = dict(emb_sz=400, n_hid=1550, n_layers=4, pad_token=1, qrnn=False,\n",
        "             output_p=0.25, hidden_p=0.1, input_p=0.2, embed_p=0.02, weight_p=0.15)\n",
        "trn_args = dict(bptt=70, drop_mult=0.5, alpha=2, beta=1)\n",
        "\n",
        "learn_cls = text_classifier_learner(data_cls, AWD_LSTM, config=config, pretrained=False, **trn_args)\n",
        "learn_cls.opt_func = partial(optim.Adam, betas=(0.7, 0.99))\n",
        "\n",
        "#load pretrained finetuned model\n",
        "learn_cls.load_encoder('thaime_enc')"
      ],
      "execution_count": 22,
      "outputs": [
        {
          "output_type": "execute_result",
          "data": {
            "text/plain": [
              "RNNLearner(data=TextClasDataBunch;\n",
              "\n",
              "Train: LabelList (25438 items)\n",
              "x: TextList\n",
              "xxbos   \" มะนาว พา สุข \"   เพิ่ม คุณภาพชีวิต คนพิการ ใน จังหวัด สิงห์บุรี,xxbos   - ก่อสร้าง ระบบ ประปา หมู่บ้าน   แบบ บาดาล ขนาด กลาง   บริเวณ จุดชมวิว   หมู่ ที่   9   บ้าน เขา เลื่อม ใต้,xxbos   - ก่อสร้าง ระบบ ประปา หมู่บ้าน   แบบ ผิว ดิน ขนาด กลาง   หมู่ ที่   1   บ้าน คลอง หาด   เทศบาลตำบล คลอง หาด   อำเภอ คลอง หาด   จังหวัด สระ แก้ว,xxbos   - ก่อสร้าง ระบบ ประปา หมู่บ้าน พร้อม เจาะ บ่อ บาดาล   หมู่ ที่   11   บ้าน ป่า ตะแบก   ( กลุ่ม ตา สอย )   เทศบาลตำบล คลอง หาด   อำเภอ คลอง หาด   จังหวัด สระ แก้ว,xxbos   - ก่อสร้าง ระบบ ประปา หมู่บ้าน พร้อม เจาะ บ่อ บาดาล   หมู่ ที่   13   บ้าน คลอง หาด พัฒนา   ( กลุ่ม บ้าน ผู้ช่วย ไก่ )   เทศบาลตำบล คลอง หาด   อำเภอ คลอง หาด   จังหวัด สระ แก้ว\n",
              "y: FloatList\n",
              "14.926842,13.165422,14.437161,13.120361,13.120361\n",
              "Path: models;\n",
              "\n",
              "Valid: LabelList (1338 items)\n",
              "x: TextList\n",
              "xxbos   ก่อสร้าง ฝาย ชะลอ น้ำ กึ่ง ถาวร ดาด ด้วย คอนกรีตเสริมเหล็ก   จุด ที่   80   เพื่อ ป้องกัน และ บรรเทา ปัญหา ภัยแล้ง   หมู่ ที่   12   บ้าน คลอง หาด พัฒนา,xxbos   ก่อสร้าง ถนน คอนกรีตเสริมเหล็ก สาย บ้าน จิตร - ควน ต้นไทร   หมู่ ที่   ๓   ตำบล พิจิตร   อำเภอ นา หม่อม   จังหวัด สงขลา,xxbos   โครงการ ก่อสร้าง สวนสุขภาพ สาธารณะ หนอง พัน คาน   ต. สาม ขา   อ. กุ ฉิ นารายณ์   จ. กาฬสินธุ์,xxbos   โครงการ สร้าง สรร ์ อัตลักษณ์ จังหวัด นรา xxunk วา ส ร่วมกัน   ด้วย ศาสตร์   ( 4   dna ),xxbos   โครงการ ก่อสร้าง ถนนลาดยาง แอ สฟลัท์ ติ กค อน กรี ต   ( สาย บ้าน นาย สาย ชล   นาค ปั้น   )   หมู่ ที่   9   ตำบล ชัยนาท   อำเภอ เมือง ชัยนาท   จังหวัด ชัยนาท\n",
              "y: FloatList\n",
              "12.765689,16.14676,16.108046,14.84513,13.106641\n",
              "Path: models;\n",
              "\n",
              "Test: LabelList (4725 items)\n",
              "x: TextList\n",
              "xxbos   - ก่อสร้าง ระบบ ประปา หมู่บ้าน พร้อม เจาะ บ่อ บาดาล   หมู่ ที่   10   บ้าน ไทย พัฒนา   ( กลุ่ม ตา xxunk )   เทศบาลตำบล คลอง หาด   อำเภอ คลอง หาด   จังหวัด สระ แก้ว,xxbos   - ก่อสร้าง ระบบ ประปา หมู่บ้าน พร้อม เจาะ บ่อ บาดาล   หมู่ ที่   2   บ้าน เขา ผา ผึ้ง   ( กลุ่ม นาง สำราญ )   เทศบาลตำบล คลอง หาด   อำเภอ คลอง หาด   จังหวัด สระ แก้ว,xxbos   - ขุด สระน้ำ   หมู่ ที่   6   บ้าน ทับ วัง มน   กว้าง   200.00   เมตร   ยาว   200.00   เมตร   ลึก   8.00   เมตร   ปริมาตร ดิน ขุด ไม่ น้อยกว่า   xxunk   ลูกบาศก์เมตร,xxbos   . โครงการ ซ่อม สร้าง และ ปรับปรุง ผิวจราจร ลาด ยาง   ถนน สาย พรุ จิก   ( เพื่อ การท่องเที่ยว เชิง นิเวศน์ )   หมู่ 3   หมู่   4,xxbos   1.   ก่อสร้าง ถนน คอนกรีตเสริมเหล็ก   ( เส้น เข้า แปลง เกษตร )   บ้านตะเคียน งาม   หมู่ ที่   10   ตำบล บ้านเก่า\n",
              "y: EmptyLabelList\n",
              ",,,,\n",
              "Path: models, model=SequentialRNN(\n",
              "  (0): MultiBatchEncoder(\n",
              "    (module): AWD_LSTM(\n",
              "      (encoder): Embedding(8640, 400, padding_idx=1)\n",
              "      (encoder_dp): EmbeddingDropout(\n",
              "        (emb): Embedding(8640, 400, padding_idx=1)\n",
              "      )\n",
              "      (rnns): ModuleList(\n",
              "        (0): WeightDropout(\n",
              "          (module): LSTM(400, 1550, batch_first=True)\n",
              "        )\n",
              "        (1): WeightDropout(\n",
              "          (module): LSTM(1550, 1550, batch_first=True)\n",
              "        )\n",
              "        (2): WeightDropout(\n",
              "          (module): LSTM(1550, 1550, batch_first=True)\n",
              "        )\n",
              "        (3): WeightDropout(\n",
              "          (module): LSTM(1550, 400, batch_first=True)\n",
              "        )\n",
              "      )\n",
              "      (input_dp): RNNDropout()\n",
              "      (hidden_dps): ModuleList(\n",
              "        (0): RNNDropout()\n",
              "        (1): RNNDropout()\n",
              "        (2): RNNDropout()\n",
              "        (3): RNNDropout()\n",
              "      )\n",
              "    )\n",
              "  )\n",
              "  (1): PoolingLinearClassifier(\n",
              "    (layers): Sequential(\n",
              "      (0): BatchNorm1d(1200, eps=1e-05, momentum=0.1, affine=True, track_running_stats=True)\n",
              "      (1): Dropout(p=0.125, inplace=False)\n",
              "      (2): Linear(in_features=1200, out_features=50, bias=True)\n",
              "      (3): ReLU(inplace=True)\n",
              "      (4): BatchNorm1d(50, eps=1e-05, momentum=0.1, affine=True, track_running_stats=True)\n",
              "      (5): Dropout(p=0.1, inplace=False)\n",
              "      (6): Linear(in_features=50, out_features=1, bias=True)\n",
              "    )\n",
              "  )\n",
              "), opt_func=functools.partial(<class 'torch.optim.adam.Adam'>, betas=(0.7, 0.99)), loss_func=FlattenedLoss of MSELoss(), metrics=[], true_wd=True, bn_wd=True, wd=0.01, train_bn=True, path=PosixPath('models'), model_dir='models', callback_fns=[functools.partial(<class 'fastai.basic_train.Recorder'>, add_time=True, silent=False)], callbacks=[RNNTrainer\n",
              "learn: RNNLearner(data=TextClasDataBunch;\n",
              "\n",
              "Train: LabelList (25438 items)\n",
              "x: TextList\n",
              "xxbos   \" มะนาว พา สุข \"   เพิ่ม คุณภาพชีวิต คนพิการ ใน จังหวัด สิงห์บุรี,xxbos   - ก่อสร้าง ระบบ ประปา หมู่บ้าน   แบบ บาดาล ขนาด กลาง   บริเวณ จุดชมวิว   หมู่ ที่   9   บ้าน เขา เลื่อม ใต้,xxbos   - ก่อสร้าง ระบบ ประปา หมู่บ้าน   แบบ ผิว ดิน ขนาด กลาง   หมู่ ที่   1   บ้าน คลอง หาด   เทศบาลตำบล คลอง หาด   อำเภอ คลอง หาด   จังหวัด สระ แก้ว,xxbos   - ก่อสร้าง ระบบ ประปา หมู่บ้าน พร้อม เจาะ บ่อ บาดาล   หมู่ ที่   11   บ้าน ป่า ตะแบก   ( กลุ่ม ตา สอย )   เทศบาลตำบล คลอง หาด   อำเภอ คลอง หาด   จังหวัด สระ แก้ว,xxbos   - ก่อสร้าง ระบบ ประปา หมู่บ้าน พร้อม เจาะ บ่อ บาดาล   หมู่ ที่   13   บ้าน คลอง หาด พัฒนา   ( กลุ่ม บ้าน ผู้ช่วย ไก่ )   เทศบาลตำบล คลอง หาด   อำเภอ คลอง หาด   จังหวัด สระ แก้ว\n",
              "y: FloatList\n",
              "14.926842,13.165422,14.437161,13.120361,13.120361\n",
              "Path: models;\n",
              "\n",
              "Valid: LabelList (1338 items)\n",
              "x: TextList\n",
              "xxbos   ก่อสร้าง ฝาย ชะลอ น้ำ กึ่ง ถาวร ดาด ด้วย คอนกรีตเสริมเหล็ก   จุด ที่   80   เพื่อ ป้องกัน และ บรรเทา ปัญหา ภัยแล้ง   หมู่ ที่   12   บ้าน คลอง หาด พัฒนา,xxbos   ก่อสร้าง ถนน คอนกรีตเสริมเหล็ก สาย บ้าน จิตร - ควน ต้นไทร   หมู่ ที่   ๓   ตำบล พิจิตร   อำเภอ นา หม่อม   จังหวัด สงขลา,xxbos   โครงการ ก่อสร้าง สวนสุขภาพ สาธารณะ หนอง พัน คาน   ต. สาม ขา   อ. กุ ฉิ นารายณ์   จ. กาฬสินธุ์,xxbos   โครงการ สร้าง สรร ์ อัตลักษณ์ จังหวัด นรา xxunk วา ส ร่วมกัน   ด้วย ศาสตร์   ( 4   dna ),xxbos   โครงการ ก่อสร้าง ถนนลาดยาง แอ สฟลัท์ ติ กค อน กรี ต   ( สาย บ้าน นาย สาย ชล   นาค ปั้น   )   หมู่ ที่   9   ตำบล ชัยนาท   อำเภอ เมือง ชัยนาท   จังหวัด ชัยนาท\n",
              "y: FloatList\n",
              "12.765689,16.14676,16.108046,14.84513,13.106641\n",
              "Path: models;\n",
              "\n",
              "Test: LabelList (4725 items)\n",
              "x: TextList\n",
              "xxbos   - ก่อสร้าง ระบบ ประปา หมู่บ้าน พร้อม เจาะ บ่อ บาดาล   หมู่ ที่   10   บ้าน ไทย พัฒนา   ( กลุ่ม ตา xxunk )   เทศบาลตำบล คลอง หาด   อำเภอ คลอง หาด   จังหวัด สระ แก้ว,xxbos   - ก่อสร้าง ระบบ ประปา หมู่บ้าน พร้อม เจาะ บ่อ บาดาล   หมู่ ที่   2   บ้าน เขา ผา ผึ้ง   ( กลุ่ม นาง สำราญ )   เทศบาลตำบล คลอง หาด   อำเภอ คลอง หาด   จังหวัด สระ แก้ว,xxbos   - ขุด สระน้ำ   หมู่ ที่   6   บ้าน ทับ วัง มน   กว้าง   200.00   เมตร   ยาว   200.00   เมตร   ลึก   8.00   เมตร   ปริมาตร ดิน ขุด ไม่ น้อยกว่า   xxunk   ลูกบาศก์เมตร,xxbos   . โครงการ ซ่อม สร้าง และ ปรับปรุง ผิวจราจร ลาด ยาง   ถนน สาย พรุ จิก   ( เพื่อ การท่องเที่ยว เชิง นิเวศน์ )   หมู่ 3   หมู่   4,xxbos   1.   ก่อสร้าง ถนน คอนกรีตเสริมเหล็ก   ( เส้น เข้า แปลง เกษตร )   บ้านตะเคียน งาม   หมู่ ที่   10   ตำบล บ้านเก่า\n",
              "y: EmptyLabelList\n",
              ",,,,\n",
              "Path: models, model=SequentialRNN(\n",
              "  (0): MultiBatchEncoder(\n",
              "    (module): AWD_LSTM(\n",
              "      (encoder): Embedding(8640, 400, padding_idx=1)\n",
              "      (encoder_dp): EmbeddingDropout(\n",
              "        (emb): Embedding(8640, 400, padding_idx=1)\n",
              "      )\n",
              "      (rnns): ModuleList(\n",
              "        (0): WeightDropout(\n",
              "          (module): LSTM(400, 1550, batch_first=True)\n",
              "        )\n",
              "        (1): WeightDropout(\n",
              "          (module): LSTM(1550, 1550, batch_first=True)\n",
              "        )\n",
              "        (2): WeightDropout(\n",
              "          (module): LSTM(1550, 1550, batch_first=True)\n",
              "        )\n",
              "        (3): WeightDropout(\n",
              "          (module): LSTM(1550, 400, batch_first=True)\n",
              "        )\n",
              "      )\n",
              "      (input_dp): RNNDropout()\n",
              "      (hidden_dps): ModuleList(\n",
              "        (0): RNNDropout()\n",
              "        (1): RNNDropout()\n",
              "        (2): RNNDropout()\n",
              "        (3): RNNDropout()\n",
              "      )\n",
              "    )\n",
              "  )\n",
              "  (1): PoolingLinearClassifier(\n",
              "    (layers): Sequential(\n",
              "      (0): BatchNorm1d(1200, eps=1e-05, momentum=0.1, affine=True, track_running_stats=True)\n",
              "      (1): Dropout(p=0.125, inplace=False)\n",
              "      (2): Linear(in_features=1200, out_features=50, bias=True)\n",
              "      (3): ReLU(inplace=True)\n",
              "      (4): BatchNorm1d(50, eps=1e-05, momentum=0.1, affine=True, track_running_stats=True)\n",
              "      (5): Dropout(p=0.1, inplace=False)\n",
              "      (6): Linear(in_features=50, out_features=1, bias=True)\n",
              "    )\n",
              "  )\n",
              "), opt_func=functools.partial(<class 'torch.optim.adam.Adam'>, betas=(0.7, 0.99)), loss_func=FlattenedLoss of MSELoss(), metrics=[], true_wd=True, bn_wd=True, wd=0.01, train_bn=True, path=PosixPath('models'), model_dir='models', callback_fns=[functools.partial(<class 'fastai.basic_train.Recorder'>, add_time=True, silent=False)], callbacks=[...], layer_groups=[Sequential(\n",
              "  (0): Embedding(8640, 400, padding_idx=1)\n",
              "  (1): EmbeddingDropout(\n",
              "    (emb): Embedding(8640, 400, padding_idx=1)\n",
              "  )\n",
              "), Sequential(\n",
              "  (0): WeightDropout(\n",
              "    (module): LSTM(400, 1550, batch_first=True)\n",
              "  )\n",
              "  (1): RNNDropout()\n",
              "), Sequential(\n",
              "  (0): WeightDropout(\n",
              "    (module): LSTM(1550, 1550, batch_first=True)\n",
              "  )\n",
              "  (1): RNNDropout()\n",
              "), Sequential(\n",
              "  (0): WeightDropout(\n",
              "    (module): LSTM(1550, 1550, batch_first=True)\n",
              "  )\n",
              "  (1): RNNDropout()\n",
              "), Sequential(\n",
              "  (0): WeightDropout(\n",
              "    (module): LSTM(1550, 400, batch_first=True)\n",
              "  )\n",
              "  (1): RNNDropout()\n",
              "), Sequential(\n",
              "  (0): PoolingLinearClassifier(\n",
              "    (layers): Sequential(\n",
              "      (0): BatchNorm1d(1200, eps=1e-05, momentum=0.1, affine=True, track_running_stats=True)\n",
              "      (1): Dropout(p=0.125, inplace=False)\n",
              "      (2): Linear(in_features=1200, out_features=50, bias=True)\n",
              "      (3): ReLU(inplace=True)\n",
              "      (4): BatchNorm1d(50, eps=1e-05, momentum=0.1, affine=True, track_running_stats=True)\n",
              "      (5): Dropout(p=0.1, inplace=False)\n",
              "      (6): Linear(in_features=50, out_features=1, bias=True)\n",
              "    )\n",
              "  )\n",
              ")], add_time=True, silent=False)\n",
              "alpha: 2\n",
              "beta: 1], layer_groups=[Sequential(\n",
              "  (0): Embedding(8640, 400, padding_idx=1)\n",
              "  (1): EmbeddingDropout(\n",
              "    (emb): Embedding(8640, 400, padding_idx=1)\n",
              "  )\n",
              "), Sequential(\n",
              "  (0): WeightDropout(\n",
              "    (module): LSTM(400, 1550, batch_first=True)\n",
              "  )\n",
              "  (1): RNNDropout()\n",
              "), Sequential(\n",
              "  (0): WeightDropout(\n",
              "    (module): LSTM(1550, 1550, batch_first=True)\n",
              "  )\n",
              "  (1): RNNDropout()\n",
              "), Sequential(\n",
              "  (0): WeightDropout(\n",
              "    (module): LSTM(1550, 1550, batch_first=True)\n",
              "  )\n",
              "  (1): RNNDropout()\n",
              "), Sequential(\n",
              "  (0): WeightDropout(\n",
              "    (module): LSTM(1550, 400, batch_first=True)\n",
              "  )\n",
              "  (1): RNNDropout()\n",
              "), Sequential(\n",
              "  (0): PoolingLinearClassifier(\n",
              "    (layers): Sequential(\n",
              "      (0): BatchNorm1d(1200, eps=1e-05, momentum=0.1, affine=True, track_running_stats=True)\n",
              "      (1): Dropout(p=0.125, inplace=False)\n",
              "      (2): Linear(in_features=1200, out_features=50, bias=True)\n",
              "      (3): ReLU(inplace=True)\n",
              "      (4): BatchNorm1d(50, eps=1e-05, momentum=0.1, affine=True, track_running_stats=True)\n",
              "      (5): Dropout(p=0.1, inplace=False)\n",
              "      (6): Linear(in_features=50, out_features=1, bias=True)\n",
              "    )\n",
              "  )\n",
              ")], add_time=True, silent=False)"
            ]
          },
          "metadata": {
            "tags": []
          },
          "execution_count": 22
        }
      ]
    },
    {
      "cell_type": "code",
      "metadata": {
        "id": "3FdiwQn6r2pC",
        "colab_type": "code",
        "colab": {
          "base_uri": "https://localhost:8080/",
          "height": 374
        },
        "outputId": "609e91b6-450a-4a99-819d-698b74aa077d"
      },
      "source": [
        "learn_cls.lr_find()\n",
        "learn_cls.recorder.plot()"
      ],
      "execution_count": 35,
      "outputs": [
        {
          "output_type": "display_data",
          "data": {
            "text/html": [
              "\n",
              "    <div>\n",
              "        <style>\n",
              "            /* Turns off some styling */\n",
              "            progress {\n",
              "                /* gets rid of default border in Firefox and Opera. */\n",
              "                border: none;\n",
              "                /* Needs to be in here for Safari polyfill so background images work as expected. */\n",
              "                background-size: auto;\n",
              "            }\n",
              "            .progress-bar-interrupted, .progress-bar-interrupted::-webkit-progress-bar {\n",
              "                background: #F44336;\n",
              "            }\n",
              "        </style>\n",
              "      <progress value='0' class='' max='1' style='width:300px; height:20px; vertical-align: middle;'></progress>\n",
              "      0.00% [0/1 00:00<00:00]\n",
              "    </div>\n",
              "    \n",
              "<table border=\"1\" class=\"dataframe\">\n",
              "  <thead>\n",
              "    <tr style=\"text-align: left;\">\n",
              "      <th>epoch</th>\n",
              "      <th>train_loss</th>\n",
              "      <th>valid_loss</th>\n",
              "      <th>time</th>\n",
              "    </tr>\n",
              "  </thead>\n",
              "  <tbody>\n",
              "  </tbody>\n",
              "</table><p>\n",
              "\n",
              "    <div>\n",
              "        <style>\n",
              "            /* Turns off some styling */\n",
              "            progress {\n",
              "                /* gets rid of default border in Firefox and Opera. */\n",
              "                border: none;\n",
              "                /* Needs to be in here for Safari polyfill so background images work as expected. */\n",
              "                background-size: auto;\n",
              "            }\n",
              "            .progress-bar-interrupted, .progress-bar-interrupted::-webkit-progress-bar {\n",
              "                background: #F44336;\n",
              "            }\n",
              "        </style>\n",
              "      <progress value='91' class='' max='397' style='width:300px; height:20px; vertical-align: middle;'></progress>\n",
              "      22.92% [91/397 00:10<00:33 302.8870]\n",
              "    </div>\n",
              "    "
            ],
            "text/plain": [
              "<IPython.core.display.HTML object>"
            ]
          },
          "metadata": {
            "tags": []
          }
        },
        {
          "output_type": "stream",
          "text": [
            "LR Finder is complete, type {learner_name}.recorder.plot() to see the graph.\n"
          ],
          "name": "stdout"
        },
        {
          "output_type": "display_data",
          "data": {
            "image/png": "[encoded data removed]",
            "text/plain": [
              "<Figure size 432x288 with 1 Axes>"
            ]
          },
          "metadata": {
            "tags": [],
            "needs_background": "light"
          }
        }
      ]
    },
    {
      "cell_type": "code",
      "metadata": {
        "id": "TJkFTWNtr5oz",
        "colab_type": "code",
        "colab": {
          "base_uri": "https://localhost:8080/",
          "height": 79
        },
        "outputId": "24abb25c-9cbd-4365-f440-0ee6c80addf6"
      },
      "source": [
        "#train unfrozen\n",
        "learn_cls.freeze_to(-1)\n",
        "learn_cls.fit_one_cycle(1, 2e-2, moms=(0.8, 0.7))"
      ],
      "execution_count": 23,
      "outputs": [
        {
          "output_type": "display_data",
          "data": {
            "text/html": [
              "<table border=\"1\" class=\"dataframe\">\n",
              "  <thead>\n",
              "    <tr style=\"text-align: left;\">\n",
              "      <th>epoch</th>\n",
              "      <th>train_loss</th>\n",
              "      <th>valid_loss</th>\n",
              "      <th>time</th>\n",
              "    </tr>\n",
              "  </thead>\n",
              "  <tbody>\n",
              "    <tr>\n",
              "      <td>0</td>\n",
              "      <td>2.507864</td>\n",
              "      <td>1.634758</td>\n",
              "      <td>00:47</td>\n",
              "    </tr>\n",
              "  </tbody>\n",
              "</table>"
            ],
            "text/plain": [
              "<IPython.core.display.HTML object>"
            ]
          },
          "metadata": {
            "tags": []
          }
        }
      ]
    },
    {
      "cell_type": "code",
      "metadata": {
        "id": "0-AF5Hyrr5ss",
        "colab_type": "code",
        "colab": {
          "base_uri": "https://localhost:8080/",
          "height": 265
        },
        "outputId": "f5787142-58b4-48ac-dd0d-ccc4f8aff1ec"
      },
      "source": [
        "#gradual unfreezing\n",
        "learn_cls.freeze_to(-2)\n",
        "learn_cls.fit_one_cycle(1, slice(1e-2 / (2.6 ** 4), 1e-2), moms=(0.8, 0.7))\n",
        "learn_cls.freeze_to(-3)\n",
        "learn_cls.fit_one_cycle(1, slice(5e-3 / (2.6 ** 4), 5e-3), moms=(0.8, 0.7))\n",
        "learn_cls.unfreeze()\n",
        "learn_cls.fit_one_cycle(3, slice(1e-3 / (2.6 ** 4), 1e-3), moms=(0.8, 0.7))"
      ],
      "execution_count": 24,
      "outputs": [
        {
          "output_type": "display_data",
          "data": {
            "text/html": [
              "<table border=\"1\" class=\"dataframe\">\n",
              "  <thead>\n",
              "    <tr style=\"text-align: left;\">\n",
              "      <th>epoch</th>\n",
              "      <th>train_loss</th>\n",
              "      <th>valid_loss</th>\n",
              "      <th>time</th>\n",
              "    </tr>\n",
              "  </thead>\n",
              "  <tbody>\n",
              "    <tr>\n",
              "      <td>0</td>\n",
              "      <td>2.039019</td>\n",
              "      <td>1.385974</td>\n",
              "      <td>00:56</td>\n",
              "    </tr>\n",
              "  </tbody>\n",
              "</table>"
            ],
            "text/plain": [
              "<IPython.core.display.HTML object>"
            ]
          },
          "metadata": {
            "tags": []
          }
        },
        {
          "output_type": "display_data",
          "data": {
            "text/html": [
              "<table border=\"1\" class=\"dataframe\">\n",
              "  <thead>\n",
              "    <tr style=\"text-align: left;\">\n",
              "      <th>epoch</th>\n",
              "      <th>train_loss</th>\n",
              "      <th>valid_loss</th>\n",
              "      <th>time</th>\n",
              "    </tr>\n",
              "  </thead>\n",
              "  <tbody>\n",
              "    <tr>\n",
              "      <td>0</td>\n",
              "      <td>1.769046</td>\n",
              "      <td>1.232460</td>\n",
              "      <td>01:23</td>\n",
              "    </tr>\n",
              "  </tbody>\n",
              "</table>"
            ],
            "text/plain": [
              "<IPython.core.display.HTML object>"
            ]
          },
          "metadata": {
            "tags": []
          }
        },
        {
          "output_type": "display_data",
          "data": {
            "text/html": [
              "<table border=\"1\" class=\"dataframe\">\n",
              "  <thead>\n",
              "    <tr style=\"text-align: left;\">\n",
              "      <th>epoch</th>\n",
              "      <th>train_loss</th>\n",
              "      <th>valid_loss</th>\n",
              "      <th>time</th>\n",
              "    </tr>\n",
              "  </thead>\n",
              "  <tbody>\n",
              "    <tr>\n",
              "      <td>0</td>\n",
              "      <td>1.476248</td>\n",
              "      <td>1.180568</td>\n",
              "      <td>02:24</td>\n",
              "    </tr>\n",
              "    <tr>\n",
              "      <td>1</td>\n",
              "      <td>1.401324</td>\n",
              "      <td>1.180936</td>\n",
              "      <td>02:20</td>\n",
              "    </tr>\n",
              "    <tr>\n",
              "      <td>2</td>\n",
              "      <td>1.136093</td>\n",
              "      <td>1.208382</td>\n",
              "      <td>02:22</td>\n",
              "    </tr>\n",
              "  </tbody>\n",
              "</table>"
            ],
            "text/plain": [
              "<IPython.core.display.HTML object>"
            ]
          },
          "metadata": {
            "tags": []
          }
        }
      ]
    },
    {
      "cell_type": "code",
      "metadata": {
        "id": "dXUlgsSy6U12",
        "colab_type": "code",
        "colab": {
          "base_uri": "https://localhost:8080/",
          "height": 141
        },
        "outputId": "1f01e7c6-ece1-4ab7-ce33-b168d62bda11"
      },
      "source": [
        "learn_cls.unfreeze()\n",
        "learn_cls.fit_one_cycle(3, slice(1e-3 / (2.6 ** 4), 1e-3), moms=(0.8, 0.7))"
      ],
      "execution_count": 34,
      "outputs": [
        {
          "output_type": "display_data",
          "data": {
            "text/html": [
              "<table border=\"1\" class=\"dataframe\">\n",
              "  <thead>\n",
              "    <tr style=\"text-align: left;\">\n",
              "      <th>epoch</th>\n",
              "      <th>train_loss</th>\n",
              "      <th>valid_loss</th>\n",
              "      <th>time</th>\n",
              "    </tr>\n",
              "  </thead>\n",
              "  <tbody>\n",
              "    <tr>\n",
              "      <td>0</td>\n",
              "      <td>1.236378</td>\n",
              "      <td>1.249901</td>\n",
              "      <td>02:24</td>\n",
              "    </tr>\n",
              "    <tr>\n",
              "      <td>1</td>\n",
              "      <td>1.214460</td>\n",
              "      <td>1.209733</td>\n",
              "      <td>02:25</td>\n",
              "    </tr>\n",
              "    <tr>\n",
              "      <td>2</td>\n",
              "      <td>0.998733</td>\n",
              "      <td>1.267215</td>\n",
              "      <td>02:29</td>\n",
              "    </tr>\n",
              "  </tbody>\n",
              "</table>"
            ],
            "text/plain": [
              "<IPython.core.display.HTML object>"
            ]
          },
          "metadata": {
            "tags": []
          }
        }
      ]
    },
    {
      "cell_type": "code",
      "metadata": {
        "id": "XB_TTDQy7w_C",
        "colab_type": "code",
        "colab": {}
      },
      "source": [
        "# learn.save('thaime_cls')"
      ],
      "execution_count": 0,
      "outputs": []
    },
    {
      "cell_type": "code",
      "metadata": {
        "id": "KmODLw7h5df0",
        "colab_type": "code",
        "colab": {
          "base_uri": "https://localhost:8080/",
          "height": 17
        },
        "outputId": "b460dcc6-7498-4d3a-ac18-cb9debd1aa3c"
      },
      "source": [
        "preds, y_true = learn_cls.get_preds(ds_type = DatasetType.Test, ordered=True)"
      ],
      "execution_count": 35,
      "outputs": [
        {
          "output_type": "display_data",
          "data": {
            "text/html": [
              ""
            ],
            "text/plain": [
              "<IPython.core.display.HTML object>"
            ]
          },
          "metadata": {
            "tags": []
          }
        }
      ]
    },
    {
      "cell_type": "code",
      "metadata": {
        "id": "5XDBL3vr6GMg",
        "colab_type": "code",
        "colab": {
          "base_uri": "https://localhost:8080/",
          "height": 87
        },
        "outputId": "b486fcd9-eda1-4b03-ef69-00418d8101c8"
      },
      "source": [
        "pred = preds.squeeze().numpy()\n",
        "np.mean((pred-y_test)**2), np.mean((y_test-y_test.mean())**2),\\\n",
        "np.mean((np.exp(pred)-np.exp(y_test))**2), np.mean((np.exp(y_test)-np.exp(y_test.mean()))**2),"
      ],
      "execution_count": 38,
      "outputs": [
        {
          "output_type": "execute_result",
          "data": {
            "text/plain": [
              "(1.182744646580851,\n",
              " 2.4554771615351085,\n",
              " 1.424136772808429e+16,\n",
              " 1.4623253764252518e+16)"
            ]
          },
          "metadata": {
            "tags": []
          },
          "execution_count": 38
        }
      ]
    },
    {
      "cell_type": "markdown",
      "metadata": {
        "id": "rgTAmOKM8KHc",
        "colab_type": "text"
      },
      "source": [
        "## Multilingual Universal Sentence Encoder"
      ]
    },
    {
      "cell_type": "code",
      "metadata": {
        "id": "jgm10GHV8NIa",
        "colab_type": "code",
        "colab": {}
      },
      "source": [
        "import tensorflow_hub as hub\n",
        "import tensorflow_text\n",
        "import tensorflow as tf #tensorflow 2.1.0\n",
        "\n",
        "enc = hub.load('https://tfhub.dev/google/universal-sentence-encoder-multilingual/3')"
      ],
      "execution_count": 0,
      "outputs": []
    },
    {
      "cell_type": "code",
      "metadata": {
        "id": "eF7G9tph9b-9",
        "colab_type": "code",
        "colab": {
          "base_uri": "https://localhost:8080/",
          "height": 35
        },
        "outputId": "410cbfda-2229-4eda-f741-7f9601822c44"
      },
      "source": [
        "bs = 5000\n",
        "X_trains = []\n",
        "for i in range(1+train_df.shape[0]//bs):\n",
        "    X_trains.append(enc(train_df.texts[i*bs:(i+1)*bs]).numpy())\n",
        "X_train = np.concatenate(X_trains)\n",
        "X_train.shape"
      ],
      "execution_count": 10,
      "outputs": [
        {
          "output_type": "execute_result",
          "data": {
            "text/plain": [
              "(26776, 512)"
            ]
          },
          "metadata": {
            "tags": []
          },
          "execution_count": 10
        }
      ]
    },
    {
      "cell_type": "code",
      "metadata": {
        "id": "kjp0gy4J8WXz",
        "colab_type": "code",
        "colab": {
          "base_uri": "https://localhost:8080/",
          "height": 35
        },
        "outputId": "282e09b9-1324-4df9-e9c5-5f645d914138"
      },
      "source": [
        "X_test = enc(test_df.texts).numpy()\n",
        "X_train.shape,  X_test.shape"
      ],
      "execution_count": 11,
      "outputs": [
        {
          "output_type": "execute_result",
          "data": {
            "text/plain": [
              "((26776, 512), (4725, 512))"
            ]
          },
          "metadata": {
            "tags": []
          },
          "execution_count": 11
        }
      ]
    },
    {
      "cell_type": "code",
      "metadata": {
        "id": "wwe42pDd8mjL",
        "colab_type": "code",
        "colab": {
          "base_uri": "https://localhost:8080/",
          "height": 121
        },
        "outputId": "0634d425-ce00-4407-ef62-b226ecee3e37"
      },
      "source": [
        "from sklearn.pipeline import Pipeline\n",
        "from sklearn.feature_extraction.text import TfidfVectorizer\n",
        "from sklearn.svm import SVR\n",
        "\n",
        "text_clf = Pipeline([\n",
        "    ('clf', SVR(kernel='linear')),\n",
        "])\n",
        "\n",
        "text_clf.fit(X_train, y_train)"
      ],
      "execution_count": 13,
      "outputs": [
        {
          "output_type": "execute_result",
          "data": {
            "text/plain": [
              "Pipeline(memory=None,\n",
              "         steps=[('clf',\n",
              "                 SVR(C=1.0, cache_size=200, coef0=0.0, degree=3, epsilon=0.1,\n",
              "                     gamma='scale', kernel='linear', max_iter=-1,\n",
              "                     shrinking=True, tol=0.001, verbose=False))],\n",
              "         verbose=False)"
            ]
          },
          "metadata": {
            "tags": []
          },
          "execution_count": 13
        }
      ]
    },
    {
      "cell_type": "code",
      "metadata": {
        "id": "-YVYT36_93Sk",
        "colab_type": "code",
        "colab": {
          "base_uri": "https://localhost:8080/",
          "height": 87
        },
        "outputId": "f67ad52b-855a-4293-de9c-520cf9d77d76"
      },
      "source": [
        "pred = text_clf.predict(X_test)\n",
        "np.mean((pred-y_test)**2), np.mean((y_test-y_test.mean())**2),\\\n",
        "np.mean((np.exp(pred)-np.exp(y_test))**2), np.mean((np.exp(y_test)-np.exp(y_test.mean()))**2),"
      ],
      "execution_count": 14,
      "outputs": [
        {
          "output_type": "execute_result",
          "data": {
            "text/plain": [
              "(1.7492904887374334,\n",
              " 2.4554771615351085,\n",
              " 1.4563651054847072e+16,\n",
              " 1.4623253764252518e+16)"
            ]
          },
          "metadata": {
            "tags": []
          },
          "execution_count": 14
        }
      ]
    },
    {
      "cell_type": "code",
      "metadata": {
        "id": "77ubzUax-Daq",
        "colab_type": "code",
        "colab": {}
      },
      "source": [
        ""
      ],
      "execution_count": 0,
      "outputs": []
    }
  ]
}