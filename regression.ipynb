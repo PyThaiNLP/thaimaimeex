{
  "nbformat": 4,
  "nbformat_minor": 0,
  "metadata": {
    "kernelspec": {
      "display_name": "Python 3",
      "language": "python",
      "name": "python3"
    },
    "language_info": {
      "codemirror_mode": {
        "name": "ipython",
        "version": 3
      },
      "file_extension": ".py",
      "mimetype": "text/x-python",
      "name": "python",
      "nbconvert_exporter": "python",
      "pygments_lexer": "ipython3",
      "version": "3.6.9"
    },
    "colab": {
      "name": "regression.ipynb",
      "provenance": [],
      "collapsed_sections": [],
      "include_colab_link": true
    },
    "accelerator": "GPU"
  },
  "cells": [
    {
      "cell_type": "markdown",
      "metadata": {
        "id": "view-in-github",
        "colab_type": "text"
      },
      "source": [
        "<a href=\"https://colab.research.google.com/github/PyThaiNLP/thaimaimeex/blob/master/regression.ipynb\" target=\"_parent\"><img src=\"https://colab.research.google.com/assets/colab-badge.svg\" alt=\"Open In Colab\"/></a>"
      ]
    },
    {
      "cell_type": "markdown",
      "metadata": {
        "id": "urOhF54XkgGK",
        "colab_type": "text"
      },
      "source": [
        "# Predict `log_budget` from `thaimaimeex` Dataset"
      ]
    },
    {
      "cell_type": "markdown",
      "metadata": {
        "id": "ASSetJiU9BPO",
        "colab_type": "text"
      },
      "source": [
        "We tried using `project_name` of ThaiME projects to predict how much `log_budget` they will get. The benchmark is done among LinearSVR, ULMFit and Multilingual Universal Sentence Encoder + LinearSVR. The metric is mean squared error (MSE).\n",
        "\n",
        "| models       | mse      |\n",
        "|--------------|----------|\n",
        "| predict mean | 2.455477 |\n",
        "| **LinearSVR**    | **1.166351** |\n",
        "| ULMFit       | 1.170797 |\n",
        "| USE          | 1.749290 |"
      ]
    },
    {
      "cell_type": "code",
      "metadata": {
        "id": "dWgIXysJkvY8",
        "colab_type": "code",
        "outputId": "b6310f3d-94e6-4efb-8660-b220de851a0b",
        "colab": {
          "base_uri": "https://localhost:8080/",
          "height": 1000
        }
      },
      "source": [
        "#download and installs for colab\n",
        "!npx degit pythainlp/thaimaimeex -f\n",
        "!pip install emoji\n",
        "!pip install pythainlp -q\n",
        "!pip install tensorflow_text"
      ],
      "execution_count": 1,
      "outputs": [
        {
          "output_type": "stream",
          "text": [
            "\u001b[K\u001b[?25hnpx: installed 1 in 2.988s\n",
            "\u001b[36m> destination directory is not empty. Using --force, continuing\u001b[39m\n",
            "\u001b[36m> cloned \u001b[1mpythainlp/thaimaimeex\u001b[22m#\u001b[1mmaster\u001b[22m\u001b[39m\n",
            "Collecting emoji\n",
            "\u001b[?25l  Downloading https://files.pythonhosted.org/packages/40/8d/521be7f0091fe0f2ae690cc044faf43e3445e0ff33c574eae752dd7e39fa/emoji-0.5.4.tar.gz (43kB)\n",
            "\u001b[K     |████████████████████████████████| 51kB 3.9MB/s \n",
            "\u001b[?25hBuilding wheels for collected packages: emoji\n",
            "  Building wheel for emoji (setup.py) ... \u001b[?25l\u001b[?25hdone\n",
            "  Created wheel for emoji: filename=emoji-0.5.4-cp36-none-any.whl size=42176 sha256=3219fb8543ab538b558ca4affe3c69930a690fe7a421c804b0290b1139cb1e17\n",
            "  Stored in directory: /root/.cache/pip/wheels/2a/a9/0a/4f8e8cce8074232aba240caca3fade315bb49fac68808d1a9c\n",
            "Successfully built emoji\n",
            "Installing collected packages: emoji\n",
            "Successfully installed emoji-0.5.4\n",
            "\u001b[K     |████████████████████████████████| 11.1MB 279kB/s \n",
            "\u001b[K     |████████████████████████████████| 1.4MB 48.9MB/s \n",
            "\u001b[?25h  Building wheel for nltk (setup.py) ... \u001b[?25l\u001b[?25hdone\n",
            "Collecting tensorflow_text\n",
            "\u001b[?25l  Downloading https://files.pythonhosted.org/packages/75/f4/3e3968e8a19e85bea8a0fdc9bd1f6a963b29cdecb1be984af0b70fbc0690/tensorflow_text-2.2.1-cp36-cp36m-manylinux1_x86_64.whl (3.0MB)\n",
            "\u001b[K     |████████████████████████████████| 3.0MB 9.4MB/s \n",
            "\u001b[?25hRequirement already satisfied: tensorflow<2.3,>=2.2.0 in /usr/local/lib/python3.6/dist-packages (from tensorflow_text) (2.2.0)\n",
            "Requirement already satisfied: gast==0.3.3 in /usr/local/lib/python3.6/dist-packages (from tensorflow<2.3,>=2.2.0->tensorflow_text) (0.3.3)\n",
            "Requirement already satisfied: numpy<2.0,>=1.16.0 in /usr/local/lib/python3.6/dist-packages (from tensorflow<2.3,>=2.2.0->tensorflow_text) (1.18.5)\n",
            "Requirement already satisfied: opt-einsum>=2.3.2 in /usr/local/lib/python3.6/dist-packages (from tensorflow<2.3,>=2.2.0->tensorflow_text) (3.2.1)\n",
            "Requirement already satisfied: h5py<2.11.0,>=2.10.0 in /usr/local/lib/python3.6/dist-packages (from tensorflow<2.3,>=2.2.0->tensorflow_text) (2.10.0)\n",
            "Requirement already satisfied: absl-py>=0.7.0 in /usr/local/lib/python3.6/dist-packages (from tensorflow<2.3,>=2.2.0->tensorflow_text) (0.9.0)\n",
            "Requirement already satisfied: scipy==1.4.1; python_version >= \"3\" in /usr/local/lib/python3.6/dist-packages (from tensorflow<2.3,>=2.2.0->tensorflow_text) (1.4.1)\n",
            "Requirement already satisfied: tensorboard<2.3.0,>=2.2.0 in /usr/local/lib/python3.6/dist-packages (from tensorflow<2.3,>=2.2.0->tensorflow_text) (2.2.2)\n",
            "Requirement already satisfied: wheel>=0.26; python_version >= \"3\" in /usr/local/lib/python3.6/dist-packages (from tensorflow<2.3,>=2.2.0->tensorflow_text) (0.34.2)\n",
            "Requirement already satisfied: termcolor>=1.1.0 in /usr/local/lib/python3.6/dist-packages (from tensorflow<2.3,>=2.2.0->tensorflow_text) (1.1.0)\n",
            "Requirement already satisfied: wrapt>=1.11.1 in /usr/local/lib/python3.6/dist-packages (from tensorflow<2.3,>=2.2.0->tensorflow_text) (1.12.1)\n",
            "Requirement already satisfied: six>=1.12.0 in /usr/local/lib/python3.6/dist-packages (from tensorflow<2.3,>=2.2.0->tensorflow_text) (1.12.0)\n",
            "Requirement already satisfied: google-pasta>=0.1.8 in /usr/local/lib/python3.6/dist-packages (from tensorflow<2.3,>=2.2.0->tensorflow_text) (0.2.0)\n",
            "Requirement already satisfied: grpcio>=1.8.6 in /usr/local/lib/python3.6/dist-packages (from tensorflow<2.3,>=2.2.0->tensorflow_text) (1.29.0)\n",
            "Requirement already satisfied: keras-preprocessing>=1.1.0 in /usr/local/lib/python3.6/dist-packages (from tensorflow<2.3,>=2.2.0->tensorflow_text) (1.1.2)\n",
            "Requirement already satisfied: tensorflow-estimator<2.3.0,>=2.2.0 in /usr/local/lib/python3.6/dist-packages (from tensorflow<2.3,>=2.2.0->tensorflow_text) (2.2.0)\n",
            "Requirement already satisfied: protobuf>=3.8.0 in /usr/local/lib/python3.6/dist-packages (from tensorflow<2.3,>=2.2.0->tensorflow_text) (3.10.0)\n",
            "Requirement already satisfied: astunparse==1.6.3 in /usr/local/lib/python3.6/dist-packages (from tensorflow<2.3,>=2.2.0->tensorflow_text) (1.6.3)\n",
            "Requirement already satisfied: google-auth-oauthlib<0.5,>=0.4.1 in /usr/local/lib/python3.6/dist-packages (from tensorboard<2.3.0,>=2.2.0->tensorflow<2.3,>=2.2.0->tensorflow_text) (0.4.1)\n",
            "Requirement already satisfied: werkzeug>=0.11.15 in /usr/local/lib/python3.6/dist-packages (from tensorboard<2.3.0,>=2.2.0->tensorflow<2.3,>=2.2.0->tensorflow_text) (1.0.1)\n",
            "Requirement already satisfied: setuptools>=41.0.0 in /usr/local/lib/python3.6/dist-packages (from tensorboard<2.3.0,>=2.2.0->tensorflow<2.3,>=2.2.0->tensorflow_text) (47.1.1)\n",
            "Requirement already satisfied: markdown>=2.6.8 in /usr/local/lib/python3.6/dist-packages (from tensorboard<2.3.0,>=2.2.0->tensorflow<2.3,>=2.2.0->tensorflow_text) (3.2.2)\n",
            "Requirement already satisfied: google-auth<2,>=1.6.3 in /usr/local/lib/python3.6/dist-packages (from tensorboard<2.3.0,>=2.2.0->tensorflow<2.3,>=2.2.0->tensorflow_text) (1.7.2)\n",
            "Requirement already satisfied: requests<3,>=2.21.0 in /usr/local/lib/python3.6/dist-packages (from tensorboard<2.3.0,>=2.2.0->tensorflow<2.3,>=2.2.0->tensorflow_text) (2.23.0)\n",
            "Requirement already satisfied: tensorboard-plugin-wit>=1.6.0 in /usr/local/lib/python3.6/dist-packages (from tensorboard<2.3.0,>=2.2.0->tensorflow<2.3,>=2.2.0->tensorflow_text) (1.6.0.post3)\n",
            "Requirement already satisfied: requests-oauthlib>=0.7.0 in /usr/local/lib/python3.6/dist-packages (from google-auth-oauthlib<0.5,>=0.4.1->tensorboard<2.3.0,>=2.2.0->tensorflow<2.3,>=2.2.0->tensorflow_text) (1.3.0)\n",
            "Requirement already satisfied: importlib-metadata; python_version < \"3.8\" in /usr/local/lib/python3.6/dist-packages (from markdown>=2.6.8->tensorboard<2.3.0,>=2.2.0->tensorflow<2.3,>=2.2.0->tensorflow_text) (1.6.0)\n",
            "Requirement already satisfied: cachetools<3.2,>=2.0.0 in /usr/local/lib/python3.6/dist-packages (from google-auth<2,>=1.6.3->tensorboard<2.3.0,>=2.2.0->tensorflow<2.3,>=2.2.0->tensorflow_text) (3.1.1)\n",
            "Requirement already satisfied: rsa<4.1,>=3.1.4 in /usr/local/lib/python3.6/dist-packages (from google-auth<2,>=1.6.3->tensorboard<2.3.0,>=2.2.0->tensorflow<2.3,>=2.2.0->tensorflow_text) (4.0)\n",
            "Requirement already satisfied: pyasn1-modules>=0.2.1 in /usr/local/lib/python3.6/dist-packages (from google-auth<2,>=1.6.3->tensorboard<2.3.0,>=2.2.0->tensorflow<2.3,>=2.2.0->tensorflow_text) (0.2.8)\n",
            "Requirement already satisfied: chardet<4,>=3.0.2 in /usr/local/lib/python3.6/dist-packages (from requests<3,>=2.21.0->tensorboard<2.3.0,>=2.2.0->tensorflow<2.3,>=2.2.0->tensorflow_text) (3.0.4)\n",
            "Requirement already satisfied: idna<3,>=2.5 in /usr/local/lib/python3.6/dist-packages (from requests<3,>=2.21.0->tensorboard<2.3.0,>=2.2.0->tensorflow<2.3,>=2.2.0->tensorflow_text) (2.9)\n",
            "Requirement already satisfied: urllib3!=1.25.0,!=1.25.1,<1.26,>=1.21.1 in /usr/local/lib/python3.6/dist-packages (from requests<3,>=2.21.0->tensorboard<2.3.0,>=2.2.0->tensorflow<2.3,>=2.2.0->tensorflow_text) (1.24.3)\n",
            "Requirement already satisfied: certifi>=2017.4.17 in /usr/local/lib/python3.6/dist-packages (from requests<3,>=2.21.0->tensorboard<2.3.0,>=2.2.0->tensorflow<2.3,>=2.2.0->tensorflow_text) (2020.4.5.1)\n",
            "Requirement already satisfied: oauthlib>=3.0.0 in /usr/local/lib/python3.6/dist-packages (from requests-oauthlib>=0.7.0->google-auth-oauthlib<0.5,>=0.4.1->tensorboard<2.3.0,>=2.2.0->tensorflow<2.3,>=2.2.0->tensorflow_text) (3.1.0)\n",
            "Requirement already satisfied: zipp>=0.5 in /usr/local/lib/python3.6/dist-packages (from importlib-metadata; python_version < \"3.8\"->markdown>=2.6.8->tensorboard<2.3.0,>=2.2.0->tensorflow<2.3,>=2.2.0->tensorflow_text) (3.1.0)\n",
            "Requirement already satisfied: pyasn1>=0.1.3 in /usr/local/lib/python3.6/dist-packages (from rsa<4.1,>=3.1.4->google-auth<2,>=1.6.3->tensorboard<2.3.0,>=2.2.0->tensorflow<2.3,>=2.2.0->tensorflow_text) (0.4.8)\n",
            "Installing collected packages: tensorflow-text\n",
            "Successfully installed tensorflow-text-2.2.1\n"
          ],
          "name": "stdout"
        }
      ]
    },
    {
      "cell_type": "code",
      "metadata": {
        "id": "Y394Hiy2kgGN",
        "colab_type": "code",
        "colab": {
          "base_uri": "https://localhost:8080/",
          "height": 121
        },
        "outputId": "7ec6cdd8-b86d-47ea-f2c4-1cdc3d166fda"
      },
      "source": [
        "import numpy as np\n",
        "import pandas as pd\n",
        "from tqdm.notebook import tqdm\n",
        "from collections import Counter\n",
        "import re\n",
        "from sklearn.metrics import f1_score,precision_score,recall_score\n",
        "from pythainlp.tokenize import word_tokenize\n",
        "from pythainlp.ulmfit import *\n",
        "\n",
        "y = 'log_budget'\n",
        "\n",
        "import warnings\n",
        "warnings.filterwarnings('ignore')"
      ],
      "execution_count": 2,
      "outputs": [
        {
          "output_type": "stream",
          "text": [
            "Corpus: wiki_lm_lstm\n",
            "- Downloading: wiki_lm_lstm 0.32\n"
          ],
          "name": "stdout"
        },
        {
          "output_type": "stream",
          "text": [
            "100%|██████████| 1050919089/1050919089 [00:37<00:00, 27787922.91it/s]\n"
          ],
          "name": "stderr"
        },
        {
          "output_type": "stream",
          "text": [
            "Corpus: wiki_itos_lstm\n",
            "- Downloading: wiki_itos_lstm 0.32\n"
          ],
          "name": "stdout"
        },
        {
          "output_type": "stream",
          "text": [
            "100%|██████████| 1530484/1530484 [00:00<00:00, 62675159.27it/s]\n"
          ],
          "name": "stderr"
        }
      ]
    },
    {
      "cell_type": "code",
      "metadata": {
        "id": "Dl0IuHijkgGn",
        "colab_type": "code",
        "colab": {}
      },
      "source": [
        "# #from https://gist.github.com/korakot/01d181229b21411b0a20784e0ca20d3d\n",
        "# !wget https://github.com/Phonbopit/sarabun-webfont/raw/master/fonts/thsarabunnew-webfont.ttf\n",
        "# !pip install -U --pre matplotlib  \n",
        "import matplotlib.font_manager as matfont\n",
        "matfont.fontManager.addfont('thsarabunnew-webfont.ttf') # 3.2+\n",
        "from plotnine import *\n",
        "from mizani import *\n",
        "import matplotlib.pyplot as plt\n",
        "import seaborn as sns\n",
        "theme_set(theme_minimal(14, 'TH Sarabun New'))\n",
        "\n",
        "# #for mac\n",
        "# import matplotlib\n",
        "# matplotlib.rc('font', family='Ayuthaya')"
      ],
      "execution_count": 0,
      "outputs": []
    },
    {
      "cell_type": "code",
      "metadata": {
        "id": "G83dRnrj2lgr",
        "colab_type": "code",
        "colab": {}
      },
      "source": [
        "#handle version difference\n",
        "try:\n",
        "  THWIKI_LSTM =_THWIKI_LSTM\n",
        "except:\n",
        "  THWIKI_LSTM = THWIKI_LSTM"
      ],
      "execution_count": 0,
      "outputs": []
    },
    {
      "cell_type": "code",
      "metadata": {
        "id": "pq_fDL1kkgHa",
        "colab_type": "code",
        "outputId": "9bbb4cf7-045e-40ef-bc3c-4365bd6b8452",
        "colab": {
          "base_uri": "https://localhost:8080/",
          "height": 35
        }
      },
      "source": [
        "thaime = pd.read_csv('data/thaimaimeex.csv')\n",
        "thaime.columns = ['texts', 'unit', 'ministry', 'log_budget', 'test_flag']\n",
        "train_df = thaime[thaime.test_flag==0]\n",
        "test_df = thaime[thaime.test_flag==1]\n",
        "X_train, y_train = train_df['texts'], train_df[y]\n",
        "X_test, y_test = test_df['texts'], test_df[y]\n",
        "thaime.shape,train_df.shape,test_df.shape"
      ],
      "execution_count": 5,
      "outputs": [
        {
          "output_type": "execute_result",
          "data": {
            "text/plain": [
              "((31501, 5), (26776, 5), (4725, 5))"
            ]
          },
          "metadata": {
            "tags": []
          },
          "execution_count": 5
        }
      ]
    },
    {
      "cell_type": "markdown",
      "metadata": {
        "id": "m0adpVoPkgHg",
        "colab_type": "text"
      },
      "source": [
        "## Linear SVR"
      ]
    },
    {
      "cell_type": "code",
      "metadata": {
        "id": "0fqVkPWdkgHh",
        "colab_type": "code",
        "outputId": "4e11e9b1-57f9-407c-ef13-da641b57f85e",
        "colab": {
          "base_uri": "https://localhost:8080/",
          "height": 347
        }
      },
      "source": [
        "from sklearn.pipeline import Pipeline\n",
        "from sklearn.feature_extraction.text import TfidfVectorizer\n",
        "from sklearn.svm import SVR\n",
        "\n",
        "text_clf = Pipeline([\n",
        "    ('tfidf', TfidfVectorizer(tokenizer=process_thai, ngram_range=(1,2))),\n",
        "    ('clf', SVR(kernel='linear')),\n",
        "])\n",
        "\n",
        "text_clf.fit(X_train, y_train)"
      ],
      "execution_count": 0,
      "outputs": [
        {
          "output_type": "execute_result",
          "data": {
            "text/plain": [
              "Pipeline(memory=None,\n",
              "         steps=[('tfidf',\n",
              "                 TfidfVectorizer(analyzer='word', binary=False,\n",
              "                                 decode_error='strict',\n",
              "                                 dtype=<class 'numpy.float64'>,\n",
              "                                 encoding='utf-8', input='content',\n",
              "                                 lowercase=True, max_df=1.0, max_features=None,\n",
              "                                 min_df=1, ngram_range=(1, 2), norm='l2',\n",
              "                                 preprocessor=None, smooth_idf=True,\n",
              "                                 stop_words=None, strip_accents=None,\n",
              "                                 sublinear_tf=False,\n",
              "                                 token_pattern='(?u)\\\\b\\\\w\\\\w+\\\\b',\n",
              "                                 tokenizer=<function process_thai at 0x7f8b3ba61ea0>,\n",
              "                                 use_idf=True, vocabulary=None)),\n",
              "                ('clf',\n",
              "                 SVR(C=1.0, cache_size=200, coef0=0.0, degree=3, epsilon=0.1,\n",
              "                     gamma='scale', kernel='linear', max_iter=-1,\n",
              "                     shrinking=True, tol=0.001, verbose=False))],\n",
              "         verbose=False)"
            ]
          },
          "metadata": {
            "tags": []
          },
          "execution_count": 10
        }
      ]
    },
    {
      "cell_type": "code",
      "metadata": {
        "id": "lmtXANmXkgHp",
        "colab_type": "code",
        "outputId": "defa9708-3c68-4126-be67-9c41235a6486",
        "colab": {
          "base_uri": "https://localhost:8080/",
          "height": 87
        }
      },
      "source": [
        "pred = text_clf.predict(X_test)\n",
        "np.mean((pred-y_test)**2), np.mean((y_test-y_test.mean())**2),\\\n",
        "np.mean((np.exp(pred)-np.exp(y_test))**2), np.mean((np.exp(y_test)-np.exp(y_test.mean()))**2),"
      ],
      "execution_count": 0,
      "outputs": [
        {
          "output_type": "execute_result",
          "data": {
            "text/plain": [
              "(1.1663506493608127,\n",
              " 2.4554771615351085,\n",
              " 1.4494448478124762e+16,\n",
              " 1.4623253764252518e+16)"
            ]
          },
          "metadata": {
            "tags": []
          },
          "execution_count": 11
        }
      ]
    },
    {
      "cell_type": "code",
      "metadata": {
        "id": "5g3q7lDMkgHv",
        "colab_type": "code",
        "outputId": "1f3efbd4-9d50-4d8b-e0eb-e66f25956c06",
        "colab": {
          "base_uri": "https://localhost:8080/",
          "height": 369
        }
      },
      "source": [
        "plt.hist(y_test)\n",
        "plt.hist(pred)"
      ],
      "execution_count": 0,
      "outputs": [
        {
          "output_type": "execute_result",
          "data": {
            "text/plain": [
              "(array([  20.,  198., 1226., 1023., 1011.,  700.,  414.,  108.,   22.,\n",
              "           3.]),\n",
              " array([11.03361369, 11.80963257, 12.58565145, 13.36167033, 14.13768921,\n",
              "        14.91370809, 15.68972697, 16.46574585, 17.24176473, 18.01778361,\n",
              "        18.79380249]),\n",
              " <a list of 10 Patch objects>)"
            ]
          },
          "metadata": {
            "tags": []
          },
          "execution_count": 12
        },
        {
          "output_type": "display_data",
          "data": {
            "image/png": "[encoded data removed]",
            "text/plain": [
              "<Figure size 432x288 with 1 Axes>"
            ]
          },
          "metadata": {
            "tags": [],
            "needs_background": "light"
          }
        }
      ]
    },
    {
      "cell_type": "markdown",
      "metadata": {
        "id": "Rwx1vSkLkgH4",
        "colab_type": "text"
      },
      "source": [
        "## ULMFit"
      ]
    },
    {
      "cell_type": "code",
      "metadata": {
        "id": "2KnnKfxykgH5",
        "colab_type": "code",
        "colab": {}
      },
      "source": [
        "import pandas as pd\n",
        "import numpy as np\n",
        "from ast import literal_eval\n",
        "from tqdm import tqdm_notebook\n",
        "from collections import Counter\n",
        "import re\n",
        "\n",
        "#viz\n",
        "import matplotlib.pyplot as plt\n",
        "import seaborn as sns\n",
        "\n",
        "from fastai.text import *\n",
        "from fastai.callbacks import CSVLogger, SaveModelCallback\n",
        "\n",
        "from pythainlp.ulmfit import *\n",
        "\n",
        "model_path = 'models/'\n",
        "!mkdir models"
      ],
      "execution_count": 0,
      "outputs": []
    },
    {
      "cell_type": "code",
      "metadata": {
        "id": "I5B2NdyFkgH8",
        "colab_type": "code",
        "outputId": "2190d6a7-fad9-4224-a997-cb93c5051b0c",
        "colab": {
          "base_uri": "https://localhost:8080/",
          "height": 17
        }
      },
      "source": [
        "tt = Tokenizer(tok_func = ThaiTokenizer, lang = 'th', pre_rules = pre_rules_th, post_rules=post_rules_th)\n",
        "processor = [TokenizeProcessor(tokenizer=tt, chunksize=10000, mark_fields=False),\n",
        "            NumericalizeProcessor(vocab=None, max_vocab=60000, min_freq=2)]\n",
        "\n",
        "data_lm = (TextList.from_df(thaime, model_path, cols=['texts'], processor=processor)\n",
        "    .random_split_by_pct(valid_pct = 0.01, seed = 1412)\n",
        "    .label_for_lm()\n",
        "    .databunch(bs=64))\n",
        "data_lm.sanity_check()\n",
        "data_lm.save('thaime_lm.pkl')"
      ],
      "execution_count": 7,
      "outputs": [
        {
          "output_type": "display_data",
          "data": {
            "text/html": [
              ""
            ],
            "text/plain": [
              "<IPython.core.display.HTML object>"
            ]
          },
          "metadata": {
            "tags": []
          }
        },
        {
          "output_type": "display_data",
          "data": {
            "text/html": [
              ""
            ],
            "text/plain": [
              "<IPython.core.display.HTML object>"
            ]
          },
          "metadata": {
            "tags": []
          }
        }
      ]
    },
    {
      "cell_type": "code",
      "metadata": {
        "id": "j2NXQIz8kgIB",
        "colab_type": "code",
        "outputId": "a27e93bd-4296-4149-adb5-e0b6a5ee2e41",
        "colab": {
          "base_uri": "https://localhost:8080/",
          "height": 35
        }
      },
      "source": [
        "data_lm = load_data(model_path,'thaime_lm.pkl')\n",
        "data_lm.sanity_check()\n",
        "len(data_lm.train_ds), len(data_lm.valid_ds)"
      ],
      "execution_count": 8,
      "outputs": [
        {
          "output_type": "execute_result",
          "data": {
            "text/plain": [
              "(31186, 315)"
            ]
          },
          "metadata": {
            "tags": []
          },
          "execution_count": 8
        }
      ]
    },
    {
      "cell_type": "code",
      "metadata": {
        "id": "SjIHQDPUkgIK",
        "colab_type": "code",
        "outputId": "efc2aa62-7aa3-41db-c725-4800736ec71b",
        "colab": {
          "base_uri": "https://localhost:8080/",
          "height": 306
        }
      },
      "source": [
        "data_lm.show_batch(5)"
      ],
      "execution_count": 9,
      "outputs": [
        {
          "output_type": "display_data",
          "data": {
            "text/html": [
              "<table border=\"1\" class=\"dataframe\">\n",
              "  <thead>\n",
              "    <tr style=\"text-align: right;\">\n",
              "      <th>idx</th>\n",
              "      <th>text</th>\n",
              "    </tr>\n",
              "  </thead>\n",
              "  <tbody>\n",
              "    <tr>\n",
              "      <td>0</td>\n",
              "      <td>หาด   อำเภอ คลอง หาด   จังหวัด สระ แก้ว xxbos   - ก่อสร้าง ระบบ ประปา หมู่บ้าน พร้อม เจาะ บ่อ บาดาล   หมู่ ที่   13   บ้าน คลอง หาด พัฒนา   ( กลุ่ม บ้าน ผู้ช่วย ไก่ )   เทศบาลตำบล คลอง หาด   อำเภอ คลอง หาด   จังหวัด สระ แก้ว xxbos   - ก่อสร้าง ระบบ ประปา หมู่บ้าน พร้อม เจาะ บ่อ</td>\n",
              "    </tr>\n",
              "    <tr>\n",
              "      <td>1</td>\n",
              "      <td>อ. เชียง กลาง   จ. น่าน xxbos   26.   ก่อสร้าง ธนาคาร น้ำใต้ดิน   ระบบ เปิด   จุด ที่   2   บ้าน หนอง ปลิง   หมู่ ที่   7   ตำบล ทุ่ง กระ บ่ำ xxbos   26.   ก่อสร้าง ฝายน้ำล้น   ( จุด นาย ไพฑูรย์ - นาย เร วิ xxunk   บ้าน เขา น้อย</td>\n",
              "    </tr>\n",
              "    <tr>\n",
              "      <td>2</td>\n",
              "      <td>การ สร้าง งาน   สร้าง อาชีพ และ เพิ่ม ช่องทาง สร้าง   ราย ได้แก่ ประชาชน ผู้ ว่างงาน ใน จังหวัด สุพรรณบุรี   ( กิจกรรม ส่งเสริม รับ งาน ไป ทำ ที่ บ้าน ) xxbos   การ สร้าง งาน   สร้าง อาชีพ และ เพิ่ม ช่องทาง สร้าง   ราย ได้แก่ ประชาชน ผู้ ว่างงาน ใน จังหวัด สุพรรณบุรี   ( กิจกรรม แปรรูป เกษตร อินทรีย์ ) xxbos   การ สร้าง</td>\n",
              "    </tr>\n",
              "    <tr>\n",
              "      <td>3</td>\n",
              "      <td>สาย คัน คลอง แม่น้ำ ยม สาย เก่า xxbos   ก่อสร้าง ถนน   คส ล.   สาย จาก   หมู่ ที่   4   บ้าน หัว เขา นาค   ไป ถึง หมู่ ที่   3   ตำบล เขา ขี้ ฝอย xxbos   ก่อสร้าง ถนน   คส ล.   สาย จาก คลอง ชลประทาน   lmc   ถึง โรงเรียน</td>\n",
              "    </tr>\n",
              "    <tr>\n",
              "      <td>4</td>\n",
              "      <td>หนา   0.15   เมตร   หรือ มี พื้นที่ ไม่ น้อยกว่า   760.00   ตารางเมตร   เทศบาลตำบล งิ ม   อำเภอ ปง   จัว หวัด พะเยา xxbos   ก่อสร้าง ถนน   คส ล. เข้าสู่ พื้นที่ การเกษตร   บ้าน แบ่ง   หมู่ ที่   5   ปริมาณ งาน   ก่อสร้าง ถนน   คส</td>\n",
              "    </tr>\n",
              "  </tbody>\n",
              "</table>"
            ],
            "text/plain": [
              "<IPython.core.display.HTML object>"
            ]
          },
          "metadata": {
            "tags": []
          }
        }
      ]
    },
    {
      "cell_type": "code",
      "metadata": {
        "id": "GH-qILpFkgIh",
        "colab_type": "code",
        "outputId": "0fee95e4-180e-4df3-9e0e-6317df553be6",
        "colab": {
          "base_uri": "https://localhost:8080/",
          "height": 1000
        }
      },
      "source": [
        "config = dict(emb_sz=400, n_hid=1550, n_layers=4, pad_token=1, qrnn=False, tie_weights=True, out_bias=True,\n",
        "             output_p=0.25, hidden_p=0.1, input_p=0.2, embed_p=0.02, weight_p=0.15)\n",
        "trn_args = dict(drop_mult=0.9, clip=0.12, alpha=2, beta=1)\n",
        "\n",
        "learn = language_model_learner(data_lm, AWD_LSTM, config=config, pretrained=False, **trn_args)\n",
        "\n",
        "#load pretrained models\n",
        "learn.load_pretrained(**THWIKI_LSTM)"
      ],
      "execution_count": 10,
      "outputs": [
        {
          "output_type": "execute_result",
          "data": {
            "text/plain": [
              "LanguageLearner(data=TextLMDataBunch;\n",
              "\n",
              "Train: LabelList (31186 items)\n",
              "x: LMTextList\n",
              "xxbos   \" มะนาว พา สุข \"   เพิ่ม คุณภาพชีวิต คนพิการ ใน จังหวัด สิงห์บุรี,xxbos   - ก่อสร้าง ระบบ ประปา หมู่บ้าน   แบบ บาดาล ขนาด กลาง   บริเวณ จุดชมวิว   หมู่ ที่   9   บ้าน เขา เลื่อม ใต้,xxbos   - ก่อสร้าง ระบบ ประปา หมู่บ้าน   แบบ ผิว ดิน ขนาด กลาง   หมู่ ที่   1   บ้าน คลอง หาด   เทศบาลตำบล คลอง หาด   อำเภอ คลอง หาด   จังหวัด สระ แก้ว,xxbos   - ก่อสร้าง ระบบ ประปา หมู่บ้าน พร้อม เจาะ บ่อ บาดาล   หมู่ ที่   10   บ้าน ไทย พัฒนา   ( กลุ่ม ตา xxunk )   เทศบาลตำบล คลอง หาด   อำเภอ คลอง หาด   จังหวัด สระ แก้ว,xxbos   - ก่อสร้าง ระบบ ประปา หมู่บ้าน พร้อม เจาะ บ่อ บาดาล   หมู่ ที่   11   บ้าน ป่า ตะแบก   ( กลุ่ม ตา สอย )   เทศบาลตำบล คลอง หาด   อำเภอ คลอง หาด   จังหวัด สระ แก้ว\n",
              "y: LMLabelList\n",
              ",,,,\n",
              "Path: models;\n",
              "\n",
              "Valid: LabelList (315 items)\n",
              "x: LMTextList\n",
              "xxbos   โครง การพัฒนา เส้นทาง การขนส่ง ผลผลิต ทาง การเกษตร และ เชื่อมโยง การท่องเที่ยว   บ้าน หนอง ฟ้า เลื่อน   หมู่ ที่   5   ตำบล แจ น แลน   อำเภอ กุ ฉิ นารายณ์   จังหวัด กาฬสินธุ์   โดย การ ก่อสร้าง ถนน คอนกรีตเสริมเหล็ก สาย บ้าน หนอง ฟ้า เลื่อน หมู่ ที่   4   ไป สถานี สูบน้ำ ด้วย พลังงานไฟฟ้า   ขนาด ผิวจราจร กว้าง   ๔   เมตร   ยาว   ๑,๓๐๐   เมตร   ตำบล แจ น แลน   อำเภอ กุ ฉิ นารายณ์   จังหวัด กาฬสินธุ์,xxbos   โครงการ ส่งเสริม อาชีพ การ ทำ ขนม   ตำบล เขา ตูม   อำเภอ ยะรัง,xxbos   โครงการ เสริม ผิว ถนนลาดยาง แอ สฟัลท์ ติ กค อน กรี ต   ( overley )   ซอย   4   บ้าน ดง ก๋ำ   หมู่ ที่   7   ตำบล ทุ่ง สะโตก   อำเภอ สัน ป่าตอง   จังหวัด เชียงใหม่,xxbos   โครงการ ขุด ลอก ร่องน้ำ สาธารณะ   หมู่ ที่   2   ระยะทาง กว้าง เฉลี่ย   4.00   เมตร   ยาว เฉลี่ย   720   เมตร   ขุด ลึก เพิ่ม   2.00   เมตร   พร้อม วาง ท่อระบายน้ำ   คส ล.   ขนาด   1.00 x   1.00   จำนวน   8   ท่อน,xxbos   ก่อสร้าง ถนน คอนกรีตเสริมเหล็ก   ( บริเวณ เลียบ ลำ เหมือง หลวง )   สถานที่ก่อสร้าง   บ้าน สัน กลาง   หมู ที่   5   ตำบล และ   อำเภอ ทุ่ง ช้าง   จังหวัด น่าน ความ ยาว   250   เมตร   กว้าง   3.00   หนา   0.15   เมตร   หรือ มี พื้นที่ ก่อสร้าง ไม่ น้อยกว่า   750   ตารางเมตร\n",
              "y: LMLabelList\n",
              ",,,,\n",
              "Path: models;\n",
              "\n",
              "Test: None, model=SequentialRNN(\n",
              "  (0): AWD_LSTM(\n",
              "    (encoder): Embedding(8640, 400, padding_idx=1)\n",
              "    (encoder_dp): EmbeddingDropout(\n",
              "      (emb): Embedding(8640, 400, padding_idx=1)\n",
              "    )\n",
              "    (rnns): ModuleList(\n",
              "      (0): WeightDropout(\n",
              "        (module): LSTM(400, 1550, batch_first=True)\n",
              "      )\n",
              "      (1): WeightDropout(\n",
              "        (module): LSTM(1550, 1550, batch_first=True)\n",
              "      )\n",
              "      (2): WeightDropout(\n",
              "        (module): LSTM(1550, 1550, batch_first=True)\n",
              "      )\n",
              "      (3): WeightDropout(\n",
              "        (module): LSTM(1550, 400, batch_first=True)\n",
              "      )\n",
              "    )\n",
              "    (input_dp): RNNDropout()\n",
              "    (hidden_dps): ModuleList(\n",
              "      (0): RNNDropout()\n",
              "      (1): RNNDropout()\n",
              "      (2): RNNDropout()\n",
              "      (3): RNNDropout()\n",
              "    )\n",
              "  )\n",
              "  (1): LinearDecoder(\n",
              "    (decoder): Linear(in_features=400, out_features=8640, bias=True)\n",
              "    (output_dp): RNNDropout()\n",
              "  )\n",
              "), opt_func=functools.partial(<class 'torch.optim.adam.Adam'>, betas=(0.9, 0.99)), loss_func=FlattenedLoss of CrossEntropyLoss(), metrics=[<function accuracy at 0x7f7a86c152f0>], true_wd=True, bn_wd=True, wd=0.01, train_bn=True, path=PosixPath('models'), model_dir='models', callback_fns=[functools.partial(<class 'fastai.basic_train.Recorder'>, add_time=True, silent=False), functools.partial(<class 'fastai.train.GradientClipping'>, clip=0.12)], callbacks=[RNNTrainer\n",
              "learn: LanguageLearner(data=TextLMDataBunch;\n",
              "\n",
              "Train: LabelList (31186 items)\n",
              "x: LMTextList\n",
              "xxbos   \" มะนาว พา สุข \"   เพิ่ม คุณภาพชีวิต คนพิการ ใน จังหวัด สิงห์บุรี,xxbos   - ก่อสร้าง ระบบ ประปา หมู่บ้าน   แบบ บาดาล ขนาด กลาง   บริเวณ จุดชมวิว   หมู่ ที่   9   บ้าน เขา เลื่อม ใต้,xxbos   - ก่อสร้าง ระบบ ประปา หมู่บ้าน   แบบ ผิว ดิน ขนาด กลาง   หมู่ ที่   1   บ้าน คลอง หาด   เทศบาลตำบล คลอง หาด   อำเภอ คลอง หาด   จังหวัด สระ แก้ว,xxbos   - ก่อสร้าง ระบบ ประปา หมู่บ้าน พร้อม เจาะ บ่อ บาดาล   หมู่ ที่   10   บ้าน ไทย พัฒนา   ( กลุ่ม ตา xxunk )   เทศบาลตำบล คลอง หาด   อำเภอ คลอง หาด   จังหวัด สระ แก้ว,xxbos   - ก่อสร้าง ระบบ ประปา หมู่บ้าน พร้อม เจาะ บ่อ บาดาล   หมู่ ที่   11   บ้าน ป่า ตะแบก   ( กลุ่ม ตา สอย )   เทศบาลตำบล คลอง หาด   อำเภอ คลอง หาด   จังหวัด สระ แก้ว\n",
              "y: LMLabelList\n",
              ",,,,\n",
              "Path: models;\n",
              "\n",
              "Valid: LabelList (315 items)\n",
              "x: LMTextList\n",
              "xxbos   โครง การพัฒนา เส้นทาง การขนส่ง ผลผลิต ทาง การเกษตร และ เชื่อมโยง การท่องเที่ยว   บ้าน หนอง ฟ้า เลื่อน   หมู่ ที่   5   ตำบล แจ น แลน   อำเภอ กุ ฉิ นารายณ์   จังหวัด กาฬสินธุ์   โดย การ ก่อสร้าง ถนน คอนกรีตเสริมเหล็ก สาย บ้าน หนอง ฟ้า เลื่อน หมู่ ที่   4   ไป สถานี สูบน้ำ ด้วย พลังงานไฟฟ้า   ขนาด ผิวจราจร กว้าง   ๔   เมตร   ยาว   ๑,๓๐๐   เมตร   ตำบล แจ น แลน   อำเภอ กุ ฉิ นารายณ์   จังหวัด กาฬสินธุ์,xxbos   โครงการ ส่งเสริม อาชีพ การ ทำ ขนม   ตำบล เขา ตูม   อำเภอ ยะรัง,xxbos   โครงการ เสริม ผิว ถนนลาดยาง แอ สฟัลท์ ติ กค อน กรี ต   ( overley )   ซอย   4   บ้าน ดง ก๋ำ   หมู่ ที่   7   ตำบล ทุ่ง สะโตก   อำเภอ สัน ป่าตอง   จังหวัด เชียงใหม่,xxbos   โครงการ ขุด ลอก ร่องน้ำ สาธารณะ   หมู่ ที่   2   ระยะทาง กว้าง เฉลี่ย   4.00   เมตร   ยาว เฉลี่ย   720   เมตร   ขุด ลึก เพิ่ม   2.00   เมตร   พร้อม วาง ท่อระบายน้ำ   คส ล.   ขนาด   1.00 x   1.00   จำนวน   8   ท่อน,xxbos   ก่อสร้าง ถนน คอนกรีตเสริมเหล็ก   ( บริเวณ เลียบ ลำ เหมือง หลวง )   สถานที่ก่อสร้าง   บ้าน สัน กลาง   หมู ที่   5   ตำบล และ   อำเภอ ทุ่ง ช้าง   จังหวัด น่าน ความ ยาว   250   เมตร   กว้าง   3.00   หนา   0.15   เมตร   หรือ มี พื้นที่ ก่อสร้าง ไม่ น้อยกว่า   750   ตารางเมตร\n",
              "y: LMLabelList\n",
              ",,,,\n",
              "Path: models;\n",
              "\n",
              "Test: None, model=SequentialRNN(\n",
              "  (0): AWD_LSTM(\n",
              "    (encoder): Embedding(8640, 400, padding_idx=1)\n",
              "    (encoder_dp): EmbeddingDropout(\n",
              "      (emb): Embedding(8640, 400, padding_idx=1)\n",
              "    )\n",
              "    (rnns): ModuleList(\n",
              "      (0): WeightDropout(\n",
              "        (module): LSTM(400, 1550, batch_first=True)\n",
              "      )\n",
              "      (1): WeightDropout(\n",
              "        (module): LSTM(1550, 1550, batch_first=True)\n",
              "      )\n",
              "      (2): WeightDropout(\n",
              "        (module): LSTM(1550, 1550, batch_first=True)\n",
              "      )\n",
              "      (3): WeightDropout(\n",
              "        (module): LSTM(1550, 400, batch_first=True)\n",
              "      )\n",
              "    )\n",
              "    (input_dp): RNNDropout()\n",
              "    (hidden_dps): ModuleList(\n",
              "      (0): RNNDropout()\n",
              "      (1): RNNDropout()\n",
              "      (2): RNNDropout()\n",
              "      (3): RNNDropout()\n",
              "    )\n",
              "  )\n",
              "  (1): LinearDecoder(\n",
              "    (decoder): Linear(in_features=400, out_features=8640, bias=True)\n",
              "    (output_dp): RNNDropout()\n",
              "  )\n",
              "), opt_func=functools.partial(<class 'torch.optim.adam.Adam'>, betas=(0.9, 0.99)), loss_func=FlattenedLoss of CrossEntropyLoss(), metrics=[<function accuracy at 0x7f7a86c152f0>], true_wd=True, bn_wd=True, wd=0.01, train_bn=True, path=PosixPath('models'), model_dir='models', callback_fns=[functools.partial(<class 'fastai.basic_train.Recorder'>, add_time=True, silent=False), functools.partial(<class 'fastai.train.GradientClipping'>, clip=0.12)], callbacks=[...], layer_groups=[Sequential(\n",
              "  (0): WeightDropout(\n",
              "    (module): LSTM(400, 1550, batch_first=True)\n",
              "  )\n",
              "  (1): RNNDropout()\n",
              "), Sequential(\n",
              "  (0): WeightDropout(\n",
              "    (module): LSTM(1550, 1550, batch_first=True)\n",
              "  )\n",
              "  (1): RNNDropout()\n",
              "), Sequential(\n",
              "  (0): WeightDropout(\n",
              "    (module): LSTM(1550, 1550, batch_first=True)\n",
              "  )\n",
              "  (1): RNNDropout()\n",
              "), Sequential(\n",
              "  (0): WeightDropout(\n",
              "    (module): LSTM(1550, 400, batch_first=True)\n",
              "  )\n",
              "  (1): RNNDropout()\n",
              "), Sequential(\n",
              "  (0): Embedding(8640, 400, padding_idx=1)\n",
              "  (1): EmbeddingDropout(\n",
              "    (emb): Embedding(8640, 400, padding_idx=1)\n",
              "  )\n",
              "  (2): LinearDecoder(\n",
              "    (decoder): Linear(in_features=400, out_features=8640, bias=True)\n",
              "    (output_dp): RNNDropout()\n",
              "  )\n",
              ")], add_time=True, silent=False)\n",
              "alpha: 2\n",
              "beta: 1], layer_groups=[Sequential(\n",
              "  (0): WeightDropout(\n",
              "    (module): LSTM(400, 1550, batch_first=True)\n",
              "  )\n",
              "  (1): RNNDropout()\n",
              "), Sequential(\n",
              "  (0): WeightDropout(\n",
              "    (module): LSTM(1550, 1550, batch_first=True)\n",
              "  )\n",
              "  (1): RNNDropout()\n",
              "), Sequential(\n",
              "  (0): WeightDropout(\n",
              "    (module): LSTM(1550, 1550, batch_first=True)\n",
              "  )\n",
              "  (1): RNNDropout()\n",
              "), Sequential(\n",
              "  (0): WeightDropout(\n",
              "    (module): LSTM(1550, 400, batch_first=True)\n",
              "  )\n",
              "  (1): RNNDropout()\n",
              "), Sequential(\n",
              "  (0): Embedding(8640, 400, padding_idx=1)\n",
              "  (1): EmbeddingDropout(\n",
              "    (emb): Embedding(8640, 400, padding_idx=1)\n",
              "  )\n",
              "  (2): LinearDecoder(\n",
              "    (decoder): Linear(in_features=400, out_features=8640, bias=True)\n",
              "    (output_dp): RNNDropout()\n",
              "  )\n",
              ")], add_time=True, silent=False)"
            ]
          },
          "metadata": {
            "tags": []
          },
          "execution_count": 10
        }
      ]
    },
    {
      "cell_type": "code",
      "metadata": {
        "id": "Y7HfFKZZkgIv",
        "colab_type": "code",
        "outputId": "0cbf0d92-824c-4e42-be50-c44b5fa0f63a",
        "colab": {
          "base_uri": "https://localhost:8080/",
          "height": 374
        }
      },
      "source": [
        "learn.lr_find()\n",
        "learn.recorder.plot()"
      ],
      "execution_count": 0,
      "outputs": [
        {
          "output_type": "display_data",
          "data": {
            "text/html": [
              "\n",
              "    <div>\n",
              "        <style>\n",
              "            /* Turns off some styling */\n",
              "            progress {\n",
              "                /* gets rid of default border in Firefox and Opera. */\n",
              "                border: none;\n",
              "                /* Needs to be in here for Safari polyfill so background images work as expected. */\n",
              "                background-size: auto;\n",
              "            }\n",
              "            .progress-bar-interrupted, .progress-bar-interrupted::-webkit-progress-bar {\n",
              "                background: #F44336;\n",
              "            }\n",
              "        </style>\n",
              "      <progress value='0' class='' max='1' style='width:300px; height:20px; vertical-align: middle;'></progress>\n",
              "      0.00% [0/1 00:00<00:00]\n",
              "    </div>\n",
              "    \n",
              "<table border=\"1\" class=\"dataframe\">\n",
              "  <thead>\n",
              "    <tr style=\"text-align: left;\">\n",
              "      <th>epoch</th>\n",
              "      <th>train_loss</th>\n",
              "      <th>valid_loss</th>\n",
              "      <th>accuracy</th>\n",
              "      <th>time</th>\n",
              "    </tr>\n",
              "  </thead>\n",
              "  <tbody>\n",
              "  </tbody>\n",
              "</table><p>\n",
              "\n",
              "    <div>\n",
              "        <style>\n",
              "            /* Turns off some styling */\n",
              "            progress {\n",
              "                /* gets rid of default border in Firefox and Opera. */\n",
              "                border: none;\n",
              "                /* Needs to be in here for Safari polyfill so background images work as expected. */\n",
              "                background-size: auto;\n",
              "            }\n",
              "            .progress-bar-interrupted, .progress-bar-interrupted::-webkit-progress-bar {\n",
              "                background: #F44336;\n",
              "            }\n",
              "        </style>\n",
              "      <progress value='98' class='' max='220' style='width:300px; height:20px; vertical-align: middle;'></progress>\n",
              "      44.55% [98/220 00:55<01:09 14.9590]\n",
              "    </div>\n",
              "    "
            ],
            "text/plain": [
              "<IPython.core.display.HTML object>"
            ]
          },
          "metadata": {
            "tags": []
          }
        },
        {
          "output_type": "stream",
          "text": [
            "LR Finder is complete, type {learner_name}.recorder.plot() to see the graph.\n"
          ],
          "name": "stdout"
        },
        {
          "output_type": "display_data",
          "data": {
            "image/png": "[encoded data removed]",
            "text/plain": [
              "<Figure size 432x288 with 1 Axes>"
            ]
          },
          "metadata": {
            "tags": [],
            "needs_background": "light"
          }
        }
      ]
    },
    {
      "cell_type": "code",
      "metadata": {
        "id": "bAKTXyWokgI1",
        "colab_type": "code",
        "outputId": "1b35cefb-fe0a-43d4-a89e-bf160f16fcb2",
        "colab": {
          "base_uri": "https://localhost:8080/",
          "height": 35
        }
      },
      "source": [
        "len(learn.data.vocab.itos)"
      ],
      "execution_count": 11,
      "outputs": [
        {
          "output_type": "execute_result",
          "data": {
            "text/plain": [
              "8640"
            ]
          },
          "metadata": {
            "tags": []
          },
          "execution_count": 11
        }
      ]
    },
    {
      "cell_type": "code",
      "metadata": {
        "id": "s5uzbjt7kgI8",
        "colab_type": "code",
        "outputId": "94351214-2286-4ac6-f090-305c4ce32d9f",
        "colab": {
          "base_uri": "https://localhost:8080/",
          "height": 97
        }
      },
      "source": [
        "#train frozen\n",
        "print('training frozen')\n",
        "learn.freeze_to(-1)\n",
        "learn.fit_one_cycle(1, 1e-3, moms=(0.8, 0.7))"
      ],
      "execution_count": 12,
      "outputs": [
        {
          "output_type": "stream",
          "text": [
            "training frozen\n"
          ],
          "name": "stdout"
        },
        {
          "output_type": "display_data",
          "data": {
            "text/html": [
              "<table border=\"1\" class=\"dataframe\">\n",
              "  <thead>\n",
              "    <tr style=\"text-align: left;\">\n",
              "      <th>epoch</th>\n",
              "      <th>train_loss</th>\n",
              "      <th>valid_loss</th>\n",
              "      <th>accuracy</th>\n",
              "      <th>time</th>\n",
              "    </tr>\n",
              "  </thead>\n",
              "  <tbody>\n",
              "    <tr>\n",
              "      <td>0</td>\n",
              "      <td>3.632674</td>\n",
              "      <td>3.327409</td>\n",
              "      <td>0.438616</td>\n",
              "      <td>00:48</td>\n",
              "    </tr>\n",
              "  </tbody>\n",
              "</table>"
            ],
            "text/plain": [
              "<IPython.core.display.HTML object>"
            ]
          },
          "metadata": {
            "tags": []
          }
        }
      ]
    },
    {
      "cell_type": "code",
      "metadata": {
        "id": "AhRZkrY9kgJD",
        "colab_type": "code",
        "outputId": "06d82448-711b-46be-ece3-be5d1184fbbe",
        "colab": {
          "base_uri": "https://localhost:8080/",
          "height": 373
        }
      },
      "source": [
        "#train unfrozen\n",
        "print('training unfrozen')\n",
        "learn.unfreeze()\n",
        "learn.fit_one_cycle(10, 1e-4, moms=(0.8, 0.7))"
      ],
      "execution_count": 13,
      "outputs": [
        {
          "output_type": "stream",
          "text": [
            "training unfrozen\n"
          ],
          "name": "stdout"
        },
        {
          "output_type": "display_data",
          "data": {
            "text/html": [
              "<table border=\"1\" class=\"dataframe\">\n",
              "  <thead>\n",
              "    <tr style=\"text-align: left;\">\n",
              "      <th>epoch</th>\n",
              "      <th>train_loss</th>\n",
              "      <th>valid_loss</th>\n",
              "      <th>accuracy</th>\n",
              "      <th>time</th>\n",
              "    </tr>\n",
              "  </thead>\n",
              "  <tbody>\n",
              "    <tr>\n",
              "      <td>0</td>\n",
              "      <td>3.227063</td>\n",
              "      <td>2.949345</td>\n",
              "      <td>0.474851</td>\n",
              "      <td>01:05</td>\n",
              "    </tr>\n",
              "    <tr>\n",
              "      <td>1</td>\n",
              "      <td>2.896918</td>\n",
              "      <td>2.684199</td>\n",
              "      <td>0.509598</td>\n",
              "      <td>01:05</td>\n",
              "    </tr>\n",
              "    <tr>\n",
              "      <td>2</td>\n",
              "      <td>2.699072</td>\n",
              "      <td>2.505657</td>\n",
              "      <td>0.533482</td>\n",
              "      <td>01:05</td>\n",
              "    </tr>\n",
              "    <tr>\n",
              "      <td>3</td>\n",
              "      <td>2.556507</td>\n",
              "      <td>2.393703</td>\n",
              "      <td>0.549628</td>\n",
              "      <td>01:05</td>\n",
              "    </tr>\n",
              "    <tr>\n",
              "      <td>4</td>\n",
              "      <td>2.476692</td>\n",
              "      <td>2.314165</td>\n",
              "      <td>0.559598</td>\n",
              "      <td>01:05</td>\n",
              "    </tr>\n",
              "    <tr>\n",
              "      <td>5</td>\n",
              "      <td>2.398444</td>\n",
              "      <td>2.260101</td>\n",
              "      <td>0.567634</td>\n",
              "      <td>01:05</td>\n",
              "    </tr>\n",
              "    <tr>\n",
              "      <td>6</td>\n",
              "      <td>2.379270</td>\n",
              "      <td>2.231065</td>\n",
              "      <td>0.571280</td>\n",
              "      <td>01:05</td>\n",
              "    </tr>\n",
              "    <tr>\n",
              "      <td>7</td>\n",
              "      <td>2.337407</td>\n",
              "      <td>2.213618</td>\n",
              "      <td>0.574256</td>\n",
              "      <td>01:05</td>\n",
              "    </tr>\n",
              "    <tr>\n",
              "      <td>8</td>\n",
              "      <td>2.330285</td>\n",
              "      <td>2.204820</td>\n",
              "      <td>0.576042</td>\n",
              "      <td>01:05</td>\n",
              "    </tr>\n",
              "    <tr>\n",
              "      <td>9</td>\n",
              "      <td>2.328127</td>\n",
              "      <td>2.202490</td>\n",
              "      <td>0.576190</td>\n",
              "      <td>01:05</td>\n",
              "    </tr>\n",
              "  </tbody>\n",
              "</table>"
            ],
            "text/plain": [
              "<IPython.core.display.HTML object>"
            ]
          },
          "metadata": {
            "tags": []
          }
        }
      ]
    },
    {
      "cell_type": "code",
      "metadata": {
        "id": "TQphgGgrq7rr",
        "colab_type": "code",
        "colab": {}
      },
      "source": [
        "learn.save('thaime_lm')\n",
        "learn.save_encoder('thaime_enc')"
      ],
      "execution_count": 0,
      "outputs": []
    },
    {
      "cell_type": "code",
      "metadata": {
        "id": "jsHNFJC9xNLo",
        "colab_type": "code",
        "outputId": "27d396b7-64c1-45cc-fde7-ba52154fa4ab",
        "colab": {
          "base_uri": "https://localhost:8080/",
          "height": 364
        }
      },
      "source": [
        "#test\n",
        "learn.load('thaime_lm')\n",
        "for i in range(20):\n",
        "    print(learn.predict('โครงการ', 20, temperature=0.8, min_p=0.005, sep = ''))"
      ],
      "execution_count": 15,
      "outputs": [
        {
          "output_type": "stream",
          "text": [
            "โครงการขุดลอกหนองนาบอน หมู่ที่ 3 บ้านห้วยน้ำใส ต.นาขาม \n",
            "โครงการก่อสร้างถนน คสล. สายบ้านนาคำ ม.3 - บ้านนา หมู่\n",
            "โครงการก่อสร้างถนนคอนกรีตเสริมเหล็กสายบ้านคำฮี หมู่ที่ 12 ตำบลป่าคา ตำบลนาปู่\n",
            "โครงการก่อสร้างถนนคอนกรีตเสริมเหล็ก สายบ้านดงยาว-บ้านห้วยยาง หมู่ที่ 7 ต.กุด\n",
            "โครงการก่อสร้างถนนคอนกรีตเสริมเหล็ก สายบ้านนายทวี ทอง ถึงพื้นที่ดำเนินการ หมู่ที่ 7 \n",
            "โครงการขุดลอกสระน้ำ หมู่ที่ 1 บ้านโนนสามัคคี / (โครงการขุดลอกใหม่\n",
            "โครงการขุดเจาะบ่อบาดาลเพื่ออุปโภคบริโภคและการเกษตร บ้านหนองบัว หมู่ที่ 8 จุดที่\n",
            "โครงการก่อสร้างถนนคอนกรีตเสริมเหล็ก สายบ้านม่วง บ้านวังเจริญ หมู่ที่ 6 ตำบลวังหิน\n",
            "โครงการก่อสร้างถนนคอนกรีตเสริมเหล็ก ถนนสายบ้านทุ่งตา หมู่ที่ 2 - บ้านหนองปลา\n",
            "โครงการเสริมผิวทางแอสฟัลท์ติกคอนกรีต สายบ้านทุ่งใหม่-บ้านบ่อนา \n",
            "โครงการก่อสร้างถนนคอนกรีตเสริมเหล็ก สายบ้านคลองนาน้อย - หมู่ที่ 8xxbos ก่อสร้างถนน\n",
            "โครงการก่อสร้างถนนคอนกรีตเสริมเหล็กเพื่อการเกษตร สายบ้านหนองปลาน้อย หมู่ที่ 1 ตำบลน้ำอ้อม\n",
            "โครงการขุดเจาะบ่อบาดาลเพื่ออุปโภคบริโภคและการเกษตร บ้านหนองบัว หมู่ที่ 7 จุดที่\n",
            "โครงการ ก่อสร้างถนนคอนกรีตเสริมเหล็ก สาย ถ. 1- 1 บริเวณบ้านนายประสิทธิ์  \n",
            "โครงการก่อสร้างถนนคอนกรีตเสริมเหล็กสาย หมู่ที่ 1 บ้านคลองไทร ตำบลบ้านใหม่ไชยมงคล \n",
            "โครงการก่อสร้างถนนคอนกรีตเสริมเหล็ก สายหนองม่วง – หนองตาม่วง หมู่ที่ 2 บ้าน\n",
            "โครงการก่อสร้างถนนคอนกรีตเสริมเหล็ก สายหน้าวัดบ้านคำ หมู่ที่ 10 ตำบลน้ำเชี่ยว อำเภอ\n",
            "โครงการก่อสร้างถนนคอนกรีตเสริมเหล็กสายหนองหลวง หมู่ที่ 8 บ้านทุ่งใหญ่ - ซอย \n",
            "โครงการเสริมผิวถนนลาดยางแอสฟัลท์ติกคอนกรีต บ้านห้วยบอน หมู่ที่ 2 \n",
            "โครงการส่งเสริมการเลี้ยงปลานิลโดยใช้เทคโนโลยีxxbos โครงการก่อสร้างถนน คสล. หมู่ที่ \n"
          ],
          "name": "stdout"
        }
      ]
    },
    {
      "cell_type": "code",
      "metadata": {
        "id": "kcDPh14wrWTf",
        "colab_type": "code",
        "outputId": "60e59cea-30f0-49bc-f4ce-9ea536f559d1",
        "colab": {
          "base_uri": "https://localhost:8080/",
          "height": 17
        }
      },
      "source": [
        "processor = [TokenizeProcessor(tokenizer=tt, chunksize=10000, mark_fields=False),\n",
        "            NumericalizeProcessor(vocab=data_lm.vocab, max_vocab=60000, min_freq=2)]\n",
        "\n",
        "data_cls = (TextList.from_df(train_df, model_path, cols=['texts'], processor=processor)\n",
        "    .random_split_by_pct(valid_pct = 0.05, seed = 1412)\n",
        "    .label_from_df(y)\n",
        "    .add_test(TextList.from_df(test_df, model_path, cols=['texts'], processor=processor))\n",
        "    .databunch(bs=64)\n",
        "    )\n",
        "\n",
        "data_cls.sanity_check()\n",
        "# data_cls.save('thaime_cls.pkl')"
      ],
      "execution_count": 47,
      "outputs": [
        {
          "output_type": "display_data",
          "data": {
            "text/html": [
              ""
            ],
            "text/plain": [
              "<IPython.core.display.HTML object>"
            ]
          },
          "metadata": {
            "tags": []
          }
        },
        {
          "output_type": "display_data",
          "data": {
            "text/html": [
              ""
            ],
            "text/plain": [
              "<IPython.core.display.HTML object>"
            ]
          },
          "metadata": {
            "tags": []
          }
        },
        {
          "output_type": "display_data",
          "data": {
            "text/html": [
              ""
            ],
            "text/plain": [
              "<IPython.core.display.HTML object>"
            ]
          },
          "metadata": {
            "tags": []
          }
        }
      ]
    },
    {
      "cell_type": "code",
      "metadata": {
        "id": "TL6PmoS_r0Vz",
        "colab_type": "code",
        "outputId": "abb97a42-0622-4461-f4ea-2b6fe3be0302",
        "colab": {
          "base_uri": "https://localhost:8080/",
          "height": 1000
        }
      },
      "source": [
        "config = dict(emb_sz=400, n_hid=1550, n_layers=4, pad_token=1, qrnn=False,\n",
        "             output_p=0.25, hidden_p=0.1, input_p=0.2, embed_p=0.02, weight_p=0.15)\n",
        "trn_args = dict(bptt=70, drop_mult=0.5, alpha=2, beta=1)\n",
        "\n",
        "learn_cls = text_classifier_learner(data_cls, AWD_LSTM, config=config, pretrained=False, **trn_args)\n",
        "learn_cls.opt_func = partial(optim.Adam, betas=(0.7, 0.99))\n",
        "\n",
        "#load pretrained finetuned model\n",
        "learn_cls.load_encoder('thaime_enc')"
      ],
      "execution_count": 48,
      "outputs": [
        {
          "output_type": "execute_result",
          "data": {
            "text/plain": [
              "RNNLearner(data=TextClasDataBunch;\n",
              "\n",
              "Train: LabelList (25438 items)\n",
              "x: TextList\n",
              "xxbos   \" มะนาว พา สุข \"   เพิ่ม คุณภาพชีวิต คนพิการ ใน จังหวัด สิงห์บุรี,xxbos   - ก่อสร้าง ระบบ ประปา หมู่บ้าน   แบบ บาดาล ขนาด กลาง   บริเวณ จุดชมวิว   หมู่ ที่   9   บ้าน เขา เลื่อม ใต้,xxbos   - ก่อสร้าง ระบบ ประปา หมู่บ้าน   แบบ ผิว ดิน ขนาด กลาง   หมู่ ที่   1   บ้าน คลอง หาด   เทศบาลตำบล คลอง หาด   อำเภอ คลอง หาด   จังหวัด สระ แก้ว,xxbos   - ก่อสร้าง ระบบ ประปา หมู่บ้าน พร้อม เจาะ บ่อ บาดาล   หมู่ ที่   11   บ้าน ป่า ตะแบก   ( กลุ่ม ตา สอย )   เทศบาลตำบล คลอง หาด   อำเภอ คลอง หาด   จังหวัด สระ แก้ว,xxbos   - ก่อสร้าง ระบบ ประปา หมู่บ้าน พร้อม เจาะ บ่อ บาดาล   หมู่ ที่   13   บ้าน คลอง หาด พัฒนา   ( กลุ่ม บ้าน ผู้ช่วย ไก่ )   เทศบาลตำบล คลอง หาด   อำเภอ คลอง หาด   จังหวัด สระ แก้ว\n",
              "y: FloatList\n",
              "14.926842,13.165422,14.437161,13.120361,13.120361\n",
              "Path: models;\n",
              "\n",
              "Valid: LabelList (1338 items)\n",
              "x: TextList\n",
              "xxbos   ก่อสร้าง ฝาย ชะลอ น้ำ กึ่ง ถาวร ดาด ด้วย คอนกรีตเสริมเหล็ก   จุด ที่   80   เพื่อ ป้องกัน และ บรรเทา ปัญหา ภัยแล้ง   หมู่ ที่   12   บ้าน คลอง หาด พัฒนา,xxbos   ก่อสร้าง ถนน คอนกรีตเสริมเหล็ก สาย บ้าน จิตร - ควน ต้นไทร   หมู่ ที่   ๓   ตำบล พิจิตร   อำเภอ นา หม่อม   จังหวัด สงขลา,xxbos   โครงการ ก่อสร้าง สวนสุขภาพ สาธารณะ หนอง พัน คาน   ต. สาม ขา   อ. กุ ฉิ นารายณ์   จ. กาฬสินธุ์,xxbos   โครงการ สร้าง สรร ์ อัตลักษณ์ จังหวัด นรา xxunk วา ส ร่วมกัน   ด้วย ศาสตร์   ( 4   dna ),xxbos   โครงการ ก่อสร้าง ถนนลาดยาง แอ สฟลัท์ ติ กค อน กรี ต   ( สาย บ้าน นาย สาย ชล   นาค ปั้น   )   หมู่ ที่   9   ตำบล ชัยนาท   อำเภอ เมือง ชัยนาท   จังหวัด ชัยนาท\n",
              "y: FloatList\n",
              "12.765689,16.14676,16.108046,14.84513,13.106641\n",
              "Path: models;\n",
              "\n",
              "Test: LabelList (4725 items)\n",
              "x: TextList\n",
              "xxbos   - ก่อสร้าง ระบบ ประปา หมู่บ้าน พร้อม เจาะ บ่อ บาดาล   หมู่ ที่   10   บ้าน ไทย พัฒนา   ( กลุ่ม ตา xxunk )   เทศบาลตำบล คลอง หาด   อำเภอ คลอง หาด   จังหวัด สระ แก้ว,xxbos   - ก่อสร้าง ระบบ ประปา หมู่บ้าน พร้อม เจาะ บ่อ บาดาล   หมู่ ที่   2   บ้าน เขา ผา ผึ้ง   ( กลุ่ม นาง สำราญ )   เทศบาลตำบล คลอง หาด   อำเภอ คลอง หาด   จังหวัด สระ แก้ว,xxbos   - ขุด สระน้ำ   หมู่ ที่   6   บ้าน ทับ วัง มน   กว้าง   200.00   เมตร   ยาว   200.00   เมตร   ลึก   8.00   เมตร   ปริมาตร ดิน ขุด ไม่ น้อยกว่า   xxunk   ลูกบาศก์เมตร,xxbos   . โครงการ ซ่อม สร้าง และ ปรับปรุง ผิวจราจร ลาด ยาง   ถนน สาย พรุ จิก   ( เพื่อ การท่องเที่ยว เชิง นิเวศน์ )   หมู่ 3   หมู่   4,xxbos   1.   ก่อสร้าง ถนน คอนกรีตเสริมเหล็ก   ( เส้น เข้า แปลง เกษตร )   บ้านตะเคียน งาม   หมู่ ที่   10   ตำบล บ้านเก่า\n",
              "y: EmptyLabelList\n",
              ",,,,\n",
              "Path: models, model=SequentialRNN(\n",
              "  (0): MultiBatchEncoder(\n",
              "    (module): AWD_LSTM(\n",
              "      (encoder): Embedding(8640, 400, padding_idx=1)\n",
              "      (encoder_dp): EmbeddingDropout(\n",
              "        (emb): Embedding(8640, 400, padding_idx=1)\n",
              "      )\n",
              "      (rnns): ModuleList(\n",
              "        (0): WeightDropout(\n",
              "          (module): LSTM(400, 1550, batch_first=True)\n",
              "        )\n",
              "        (1): WeightDropout(\n",
              "          (module): LSTM(1550, 1550, batch_first=True)\n",
              "        )\n",
              "        (2): WeightDropout(\n",
              "          (module): LSTM(1550, 1550, batch_first=True)\n",
              "        )\n",
              "        (3): WeightDropout(\n",
              "          (module): LSTM(1550, 400, batch_first=True)\n",
              "        )\n",
              "      )\n",
              "      (input_dp): RNNDropout()\n",
              "      (hidden_dps): ModuleList(\n",
              "        (0): RNNDropout()\n",
              "        (1): RNNDropout()\n",
              "        (2): RNNDropout()\n",
              "        (3): RNNDropout()\n",
              "      )\n",
              "    )\n",
              "  )\n",
              "  (1): PoolingLinearClassifier(\n",
              "    (layers): Sequential(\n",
              "      (0): BatchNorm1d(1200, eps=1e-05, momentum=0.1, affine=True, track_running_stats=True)\n",
              "      (1): Dropout(p=0.125, inplace=False)\n",
              "      (2): Linear(in_features=1200, out_features=50, bias=True)\n",
              "      (3): ReLU(inplace=True)\n",
              "      (4): BatchNorm1d(50, eps=1e-05, momentum=0.1, affine=True, track_running_stats=True)\n",
              "      (5): Dropout(p=0.1, inplace=False)\n",
              "      (6): Linear(in_features=50, out_features=1, bias=True)\n",
              "    )\n",
              "  )\n",
              "), opt_func=functools.partial(<class 'torch.optim.adam.Adam'>, betas=(0.7, 0.99)), loss_func=FlattenedLoss of MSELoss(), metrics=[], true_wd=True, bn_wd=True, wd=0.01, train_bn=True, path=PosixPath('models'), model_dir='models', callback_fns=[functools.partial(<class 'fastai.basic_train.Recorder'>, add_time=True, silent=False)], callbacks=[RNNTrainer\n",
              "learn: RNNLearner(data=TextClasDataBunch;\n",
              "\n",
              "Train: LabelList (25438 items)\n",
              "x: TextList\n",
              "xxbos   \" มะนาว พา สุข \"   เพิ่ม คุณภาพชีวิต คนพิการ ใน จังหวัด สิงห์บุรี,xxbos   - ก่อสร้าง ระบบ ประปา หมู่บ้าน   แบบ บาดาล ขนาด กลาง   บริเวณ จุดชมวิว   หมู่ ที่   9   บ้าน เขา เลื่อม ใต้,xxbos   - ก่อสร้าง ระบบ ประปา หมู่บ้าน   แบบ ผิว ดิน ขนาด กลาง   หมู่ ที่   1   บ้าน คลอง หาด   เทศบาลตำบล คลอง หาด   อำเภอ คลอง หาด   จังหวัด สระ แก้ว,xxbos   - ก่อสร้าง ระบบ ประปา หมู่บ้าน พร้อม เจาะ บ่อ บาดาล   หมู่ ที่   11   บ้าน ป่า ตะแบก   ( กลุ่ม ตา สอย )   เทศบาลตำบล คลอง หาด   อำเภอ คลอง หาด   จังหวัด สระ แก้ว,xxbos   - ก่อสร้าง ระบบ ประปา หมู่บ้าน พร้อม เจาะ บ่อ บาดาล   หมู่ ที่   13   บ้าน คลอง หาด พัฒนา   ( กลุ่ม บ้าน ผู้ช่วย ไก่ )   เทศบาลตำบล คลอง หาด   อำเภอ คลอง หาด   จังหวัด สระ แก้ว\n",
              "y: FloatList\n",
              "14.926842,13.165422,14.437161,13.120361,13.120361\n",
              "Path: models;\n",
              "\n",
              "Valid: LabelList (1338 items)\n",
              "x: TextList\n",
              "xxbos   ก่อสร้าง ฝาย ชะลอ น้ำ กึ่ง ถาวร ดาด ด้วย คอนกรีตเสริมเหล็ก   จุด ที่   80   เพื่อ ป้องกัน และ บรรเทา ปัญหา ภัยแล้ง   หมู่ ที่   12   บ้าน คลอง หาด พัฒนา,xxbos   ก่อสร้าง ถนน คอนกรีตเสริมเหล็ก สาย บ้าน จิตร - ควน ต้นไทร   หมู่ ที่   ๓   ตำบล พิจิตร   อำเภอ นา หม่อม   จังหวัด สงขลา,xxbos   โครงการ ก่อสร้าง สวนสุขภาพ สาธารณะ หนอง พัน คาน   ต. สาม ขา   อ. กุ ฉิ นารายณ์   จ. กาฬสินธุ์,xxbos   โครงการ สร้าง สรร ์ อัตลักษณ์ จังหวัด นรา xxunk วา ส ร่วมกัน   ด้วย ศาสตร์   ( 4   dna ),xxbos   โครงการ ก่อสร้าง ถนนลาดยาง แอ สฟลัท์ ติ กค อน กรี ต   ( สาย บ้าน นาย สาย ชล   นาค ปั้น   )   หมู่ ที่   9   ตำบล ชัยนาท   อำเภอ เมือง ชัยนาท   จังหวัด ชัยนาท\n",
              "y: FloatList\n",
              "12.765689,16.14676,16.108046,14.84513,13.106641\n",
              "Path: models;\n",
              "\n",
              "Test: LabelList (4725 items)\n",
              "x: TextList\n",
              "xxbos   - ก่อสร้าง ระบบ ประปา หมู่บ้าน พร้อม เจาะ บ่อ บาดาล   หมู่ ที่   10   บ้าน ไทย พัฒนา   ( กลุ่ม ตา xxunk )   เทศบาลตำบล คลอง หาด   อำเภอ คลอง หาด   จังหวัด สระ แก้ว,xxbos   - ก่อสร้าง ระบบ ประปา หมู่บ้าน พร้อม เจาะ บ่อ บาดาล   หมู่ ที่   2   บ้าน เขา ผา ผึ้ง   ( กลุ่ม นาง สำราญ )   เทศบาลตำบล คลอง หาด   อำเภอ คลอง หาด   จังหวัด สระ แก้ว,xxbos   - ขุด สระน้ำ   หมู่ ที่   6   บ้าน ทับ วัง มน   กว้าง   200.00   เมตร   ยาว   200.00   เมตร   ลึก   8.00   เมตร   ปริมาตร ดิน ขุด ไม่ น้อยกว่า   xxunk   ลูกบาศก์เมตร,xxbos   . โครงการ ซ่อม สร้าง และ ปรับปรุง ผิวจราจร ลาด ยาง   ถนน สาย พรุ จิก   ( เพื่อ การท่องเที่ยว เชิง นิเวศน์ )   หมู่ 3   หมู่   4,xxbos   1.   ก่อสร้าง ถนน คอนกรีตเสริมเหล็ก   ( เส้น เข้า แปลง เกษตร )   บ้านตะเคียน งาม   หมู่ ที่   10   ตำบล บ้านเก่า\n",
              "y: EmptyLabelList\n",
              ",,,,\n",
              "Path: models, model=SequentialRNN(\n",
              "  (0): MultiBatchEncoder(\n",
              "    (module): AWD_LSTM(\n",
              "      (encoder): Embedding(8640, 400, padding_idx=1)\n",
              "      (encoder_dp): EmbeddingDropout(\n",
              "        (emb): Embedding(8640, 400, padding_idx=1)\n",
              "      )\n",
              "      (rnns): ModuleList(\n",
              "        (0): WeightDropout(\n",
              "          (module): LSTM(400, 1550, batch_first=True)\n",
              "        )\n",
              "        (1): WeightDropout(\n",
              "          (module): LSTM(1550, 1550, batch_first=True)\n",
              "        )\n",
              "        (2): WeightDropout(\n",
              "          (module): LSTM(1550, 1550, batch_first=True)\n",
              "        )\n",
              "        (3): WeightDropout(\n",
              "          (module): LSTM(1550, 400, batch_first=True)\n",
              "        )\n",
              "      )\n",
              "      (input_dp): RNNDropout()\n",
              "      (hidden_dps): ModuleList(\n",
              "        (0): RNNDropout()\n",
              "        (1): RNNDropout()\n",
              "        (2): RNNDropout()\n",
              "        (3): RNNDropout()\n",
              "      )\n",
              "    )\n",
              "  )\n",
              "  (1): PoolingLinearClassifier(\n",
              "    (layers): Sequential(\n",
              "      (0): BatchNorm1d(1200, eps=1e-05, momentum=0.1, affine=True, track_running_stats=True)\n",
              "      (1): Dropout(p=0.125, inplace=False)\n",
              "      (2): Linear(in_features=1200, out_features=50, bias=True)\n",
              "      (3): ReLU(inplace=True)\n",
              "      (4): BatchNorm1d(50, eps=1e-05, momentum=0.1, affine=True, track_running_stats=True)\n",
              "      (5): Dropout(p=0.1, inplace=False)\n",
              "      (6): Linear(in_features=50, out_features=1, bias=True)\n",
              "    )\n",
              "  )\n",
              "), opt_func=functools.partial(<class 'torch.optim.adam.Adam'>, betas=(0.7, 0.99)), loss_func=FlattenedLoss of MSELoss(), metrics=[], true_wd=True, bn_wd=True, wd=0.01, train_bn=True, path=PosixPath('models'), model_dir='models', callback_fns=[functools.partial(<class 'fastai.basic_train.Recorder'>, add_time=True, silent=False)], callbacks=[...], layer_groups=[Sequential(\n",
              "  (0): Embedding(8640, 400, padding_idx=1)\n",
              "  (1): EmbeddingDropout(\n",
              "    (emb): Embedding(8640, 400, padding_idx=1)\n",
              "  )\n",
              "), Sequential(\n",
              "  (0): WeightDropout(\n",
              "    (module): LSTM(400, 1550, batch_first=True)\n",
              "  )\n",
              "  (1): RNNDropout()\n",
              "), Sequential(\n",
              "  (0): WeightDropout(\n",
              "    (module): LSTM(1550, 1550, batch_first=True)\n",
              "  )\n",
              "  (1): RNNDropout()\n",
              "), Sequential(\n",
              "  (0): WeightDropout(\n",
              "    (module): LSTM(1550, 1550, batch_first=True)\n",
              "  )\n",
              "  (1): RNNDropout()\n",
              "), Sequential(\n",
              "  (0): WeightDropout(\n",
              "    (module): LSTM(1550, 400, batch_first=True)\n",
              "  )\n",
              "  (1): RNNDropout()\n",
              "), Sequential(\n",
              "  (0): PoolingLinearClassifier(\n",
              "    (layers): Sequential(\n",
              "      (0): BatchNorm1d(1200, eps=1e-05, momentum=0.1, affine=True, track_running_stats=True)\n",
              "      (1): Dropout(p=0.125, inplace=False)\n",
              "      (2): Linear(in_features=1200, out_features=50, bias=True)\n",
              "      (3): ReLU(inplace=True)\n",
              "      (4): BatchNorm1d(50, eps=1e-05, momentum=0.1, affine=True, track_running_stats=True)\n",
              "      (5): Dropout(p=0.1, inplace=False)\n",
              "      (6): Linear(in_features=50, out_features=1, bias=True)\n",
              "    )\n",
              "  )\n",
              ")], add_time=True, silent=False)\n",
              "alpha: 2\n",
              "beta: 1], layer_groups=[Sequential(\n",
              "  (0): Embedding(8640, 400, padding_idx=1)\n",
              "  (1): EmbeddingDropout(\n",
              "    (emb): Embedding(8640, 400, padding_idx=1)\n",
              "  )\n",
              "), Sequential(\n",
              "  (0): WeightDropout(\n",
              "    (module): LSTM(400, 1550, batch_first=True)\n",
              "  )\n",
              "  (1): RNNDropout()\n",
              "), Sequential(\n",
              "  (0): WeightDropout(\n",
              "    (module): LSTM(1550, 1550, batch_first=True)\n",
              "  )\n",
              "  (1): RNNDropout()\n",
              "), Sequential(\n",
              "  (0): WeightDropout(\n",
              "    (module): LSTM(1550, 1550, batch_first=True)\n",
              "  )\n",
              "  (1): RNNDropout()\n",
              "), Sequential(\n",
              "  (0): WeightDropout(\n",
              "    (module): LSTM(1550, 400, batch_first=True)\n",
              "  )\n",
              "  (1): RNNDropout()\n",
              "), Sequential(\n",
              "  (0): PoolingLinearClassifier(\n",
              "    (layers): Sequential(\n",
              "      (0): BatchNorm1d(1200, eps=1e-05, momentum=0.1, affine=True, track_running_stats=True)\n",
              "      (1): Dropout(p=0.125, inplace=False)\n",
              "      (2): Linear(in_features=1200, out_features=50, bias=True)\n",
              "      (3): ReLU(inplace=True)\n",
              "      (4): BatchNorm1d(50, eps=1e-05, momentum=0.1, affine=True, track_running_stats=True)\n",
              "      (5): Dropout(p=0.1, inplace=False)\n",
              "      (6): Linear(in_features=50, out_features=1, bias=True)\n",
              "    )\n",
              "  )\n",
              ")], add_time=True, silent=False)"
            ]
          },
          "metadata": {
            "tags": []
          },
          "execution_count": 48
        }
      ]
    },
    {
      "cell_type": "code",
      "metadata": {
        "id": "3FdiwQn6r2pC",
        "colab_type": "code",
        "outputId": "20b4ca7c-bd3b-499d-fe4e-e6843b2e5545",
        "colab": {
          "base_uri": "https://localhost:8080/",
          "height": 374
        }
      },
      "source": [
        "learn_cls.lr_find()\n",
        "learn_cls.recorder.plot()"
      ],
      "execution_count": 31,
      "outputs": [
        {
          "output_type": "display_data",
          "data": {
            "text/html": [
              "\n",
              "    <div>\n",
              "        <style>\n",
              "            /* Turns off some styling */\n",
              "            progress {\n",
              "                /* gets rid of default border in Firefox and Opera. */\n",
              "                border: none;\n",
              "                /* Needs to be in here for Safari polyfill so background images work as expected. */\n",
              "                background-size: auto;\n",
              "            }\n",
              "            .progress-bar-interrupted, .progress-bar-interrupted::-webkit-progress-bar {\n",
              "                background: #F44336;\n",
              "            }\n",
              "        </style>\n",
              "      <progress value='0' class='' max='1' style='width:300px; height:20px; vertical-align: middle;'></progress>\n",
              "      0.00% [0/1 00:00<00:00]\n",
              "    </div>\n",
              "    \n",
              "<table border=\"1\" class=\"dataframe\">\n",
              "  <thead>\n",
              "    <tr style=\"text-align: left;\">\n",
              "      <th>epoch</th>\n",
              "      <th>train_loss</th>\n",
              "      <th>valid_loss</th>\n",
              "      <th>time</th>\n",
              "    </tr>\n",
              "  </thead>\n",
              "  <tbody>\n",
              "  </tbody>\n",
              "</table><p>\n",
              "\n",
              "    <div>\n",
              "        <style>\n",
              "            /* Turns off some styling */\n",
              "            progress {\n",
              "                /* gets rid of default border in Firefox and Opera. */\n",
              "                border: none;\n",
              "                /* Needs to be in here for Safari polyfill so background images work as expected. */\n",
              "                background-size: auto;\n",
              "            }\n",
              "            .progress-bar-interrupted, .progress-bar-interrupted::-webkit-progress-bar {\n",
              "                background: #F44336;\n",
              "            }\n",
              "        </style>\n",
              "      <progress value='92' class='' max='397' style='width:300px; height:20px; vertical-align: middle;'></progress>\n",
              "      23.17% [92/397 00:05<00:17 388.4514]\n",
              "    </div>\n",
              "    "
            ],
            "text/plain": [
              "<IPython.core.display.HTML object>"
            ]
          },
          "metadata": {
            "tags": []
          }
        },
        {
          "output_type": "stream",
          "text": [
            "LR Finder is complete, type {learner_name}.recorder.plot() to see the graph.\n"
          ],
          "name": "stdout"
        },
        {
          "output_type": "display_data",
          "data": {
            "image/png": "[encoded data removed]",
            "text/plain": [
              "<Figure size 432x288 with 1 Axes>"
            ]
          },
          "metadata": {
            "tags": [],
            "needs_background": "light"
          }
        }
      ]
    },
    {
      "cell_type": "code",
      "metadata": {
        "id": "TJkFTWNtr5oz",
        "colab_type": "code",
        "outputId": "17cbaf00-ea31-42c5-e64d-904cc02fec4d",
        "colab": {
          "base_uri": "https://localhost:8080/",
          "height": 110
        }
      },
      "source": [
        "#train unfrozen\n",
        "learn_cls.freeze_to(-1)\n",
        "learn_cls.fit_one_cycle(2, 1e-1, moms=(0.8, 0.7))"
      ],
      "execution_count": 49,
      "outputs": [
        {
          "output_type": "display_data",
          "data": {
            "text/html": [
              "<table border=\"1\" class=\"dataframe\">\n",
              "  <thead>\n",
              "    <tr style=\"text-align: left;\">\n",
              "      <th>epoch</th>\n",
              "      <th>train_loss</th>\n",
              "      <th>valid_loss</th>\n",
              "      <th>time</th>\n",
              "    </tr>\n",
              "  </thead>\n",
              "  <tbody>\n",
              "    <tr>\n",
              "      <td>0</td>\n",
              "      <td>2.911773</td>\n",
              "      <td>2.103544</td>\n",
              "      <td>00:23</td>\n",
              "    </tr>\n",
              "    <tr>\n",
              "      <td>1</td>\n",
              "      <td>2.159261</td>\n",
              "      <td>1.517180</td>\n",
              "      <td>00:24</td>\n",
              "    </tr>\n",
              "  </tbody>\n",
              "</table>"
            ],
            "text/plain": [
              "<IPython.core.display.HTML object>"
            ]
          },
          "metadata": {
            "tags": []
          }
        }
      ]
    },
    {
      "cell_type": "code",
      "metadata": {
        "id": "hP7JbMh3mOjR",
        "colab_type": "code",
        "colab": {
          "base_uri": "https://localhost:8080/",
          "height": 110
        },
        "outputId": "87c86efd-56d8-45ff-90bf-38915d966471"
      },
      "source": [
        "#gradual unfreezing\n",
        "learn_cls.freeze_to(-2)\n",
        "learn_cls.fit_one_cycle(2, slice(1e-2 / (2.6 ** 4), 1e-2), moms=(0.8, 0.7))"
      ],
      "execution_count": 50,
      "outputs": [
        {
          "output_type": "display_data",
          "data": {
            "text/html": [
              "<table border=\"1\" class=\"dataframe\">\n",
              "  <thead>\n",
              "    <tr style=\"text-align: left;\">\n",
              "      <th>epoch</th>\n",
              "      <th>train_loss</th>\n",
              "      <th>valid_loss</th>\n",
              "      <th>time</th>\n",
              "    </tr>\n",
              "  </thead>\n",
              "  <tbody>\n",
              "    <tr>\n",
              "      <td>0</td>\n",
              "      <td>1.968759</td>\n",
              "      <td>1.443011</td>\n",
              "      <td>00:25</td>\n",
              "    </tr>\n",
              "    <tr>\n",
              "      <td>1</td>\n",
              "      <td>1.617098</td>\n",
              "      <td>1.272274</td>\n",
              "      <td>00:27</td>\n",
              "    </tr>\n",
              "  </tbody>\n",
              "</table>"
            ],
            "text/plain": [
              "<IPython.core.display.HTML object>"
            ]
          },
          "metadata": {
            "tags": []
          }
        }
      ]
    },
    {
      "cell_type": "code",
      "metadata": {
        "id": "Iv18lLh-mlzd",
        "colab_type": "code",
        "colab": {
          "base_uri": "https://localhost:8080/",
          "height": 110
        },
        "outputId": "9178c14a-10a2-46d5-9eac-b62c43f084d8"
      },
      "source": [
        "learn_cls.freeze_to(-3)\n",
        "learn_cls.fit_one_cycle(2, slice(5e-3 / (2.6 ** 4), 5e-3), moms=(0.8, 0.7))"
      ],
      "execution_count": 51,
      "outputs": [
        {
          "output_type": "display_data",
          "data": {
            "text/html": [
              "<table border=\"1\" class=\"dataframe\">\n",
              "  <thead>\n",
              "    <tr style=\"text-align: left;\">\n",
              "      <th>epoch</th>\n",
              "      <th>train_loss</th>\n",
              "      <th>valid_loss</th>\n",
              "      <th>time</th>\n",
              "    </tr>\n",
              "  </thead>\n",
              "  <tbody>\n",
              "    <tr>\n",
              "      <td>0</td>\n",
              "      <td>1.716395</td>\n",
              "      <td>1.446091</td>\n",
              "      <td>00:42</td>\n",
              "    </tr>\n",
              "    <tr>\n",
              "      <td>1</td>\n",
              "      <td>1.293700</td>\n",
              "      <td>1.193726</td>\n",
              "      <td>00:43</td>\n",
              "    </tr>\n",
              "  </tbody>\n",
              "</table>"
            ],
            "text/plain": [
              "<IPython.core.display.HTML object>"
            ]
          },
          "metadata": {
            "tags": []
          }
        }
      ]
    },
    {
      "cell_type": "code",
      "metadata": {
        "id": "0-AF5Hyrr5ss",
        "colab_type": "code",
        "outputId": "1b83373e-ae9d-4d4b-d37f-d2bc513b5c06",
        "colab": {
          "base_uri": "https://localhost:8080/",
          "height": 110
        }
      },
      "source": [
        "learn_cls.unfreeze()\n",
        "learn_cls.fit_one_cycle(2, slice(1e-3 / (2.6 ** 4), 1e-3), moms=(0.8, 0.7))"
      ],
      "execution_count": 52,
      "outputs": [
        {
          "output_type": "display_data",
          "data": {
            "text/html": [
              "<table border=\"1\" class=\"dataframe\">\n",
              "  <thead>\n",
              "    <tr style=\"text-align: left;\">\n",
              "      <th>epoch</th>\n",
              "      <th>train_loss</th>\n",
              "      <th>valid_loss</th>\n",
              "      <th>time</th>\n",
              "    </tr>\n",
              "  </thead>\n",
              "  <tbody>\n",
              "    <tr>\n",
              "      <td>0</td>\n",
              "      <td>1.210037</td>\n",
              "      <td>1.195668</td>\n",
              "      <td>01:06</td>\n",
              "    </tr>\n",
              "    <tr>\n",
              "      <td>1</td>\n",
              "      <td>1.088925</td>\n",
              "      <td>1.200883</td>\n",
              "      <td>01:10</td>\n",
              "    </tr>\n",
              "  </tbody>\n",
              "</table>"
            ],
            "text/plain": [
              "<IPython.core.display.HTML object>"
            ]
          },
          "metadata": {
            "tags": []
          }
        }
      ]
    },
    {
      "cell_type": "code",
      "metadata": {
        "id": "XB_TTDQy7w_C",
        "colab_type": "code",
        "colab": {}
      },
      "source": [
        "learn_cls.save('thaime_cls')"
      ],
      "execution_count": 0,
      "outputs": []
    },
    {
      "cell_type": "code",
      "metadata": {
        "id": "KmODLw7h5df0",
        "colab_type": "code",
        "outputId": "efa01ca1-e47e-4dcb-bc78-c7292add60c3",
        "colab": {
          "base_uri": "https://localhost:8080/",
          "height": 17
        }
      },
      "source": [
        "preds, y_true = learn_cls.get_preds(ds_type = DatasetType.Test, ordered=True)"
      ],
      "execution_count": 54,
      "outputs": [
        {
          "output_type": "display_data",
          "data": {
            "text/html": [
              ""
            ],
            "text/plain": [
              "<IPython.core.display.HTML object>"
            ]
          },
          "metadata": {
            "tags": []
          }
        }
      ]
    },
    {
      "cell_type": "code",
      "metadata": {
        "id": "5XDBL3vr6GMg",
        "colab_type": "code",
        "outputId": "27b6844b-35d5-422f-cf29-1cf7146ce2d3",
        "colab": {
          "base_uri": "https://localhost:8080/",
          "height": 87
        }
      },
      "source": [
        "pred = preds.squeeze().numpy()\n",
        "np.mean((pred-y_test)**2), np.mean((y_test-y_test.mean())**2),\\\n",
        "np.mean((np.exp(pred)-np.exp(y_test))**2), np.mean((np.exp(y_test)-np.exp(y_test.mean()))**2),"
      ],
      "execution_count": 55,
      "outputs": [
        {
          "output_type": "execute_result",
          "data": {
            "text/plain": [
              "(1.1707968105976048,\n",
              " 2.4554771615351085,\n",
              " 1.425968532841769e+16,\n",
              " 1.4623253764252518e+16)"
            ]
          },
          "metadata": {
            "tags": []
          },
          "execution_count": 55
        }
      ]
    },
    {
      "cell_type": "markdown",
      "metadata": {
        "id": "rgTAmOKM8KHc",
        "colab_type": "text"
      },
      "source": [
        "## Multilingual Universal Sentence Encoder"
      ]
    },
    {
      "cell_type": "code",
      "metadata": {
        "id": "jgm10GHV8NIa",
        "colab_type": "code",
        "colab": {}
      },
      "source": [
        "import tensorflow_hub as hub\n",
        "import tensorflow_text\n",
        "import tensorflow as tf #tensorflow 2.1.0\n",
        "\n",
        "enc = hub.load('https://tfhub.dev/google/universal-sentence-encoder-multilingual/3')"
      ],
      "execution_count": 0,
      "outputs": []
    },
    {
      "cell_type": "code",
      "metadata": {
        "id": "eF7G9tph9b-9",
        "colab_type": "code",
        "outputId": "410cbfda-2229-4eda-f741-7f9601822c44",
        "colab": {
          "base_uri": "https://localhost:8080/",
          "height": 35
        }
      },
      "source": [
        "bs = 5000\n",
        "X_trains = []\n",
        "for i in range(1+train_df.shape[0]//bs):\n",
        "    X_trains.append(enc(train_df.texts[i*bs:(i+1)*bs]).numpy())\n",
        "X_train = np.concatenate(X_trains)\n",
        "X_train.shape"
      ],
      "execution_count": 0,
      "outputs": [
        {
          "output_type": "execute_result",
          "data": {
            "text/plain": [
              "(26776, 512)"
            ]
          },
          "metadata": {
            "tags": []
          },
          "execution_count": 10
        }
      ]
    },
    {
      "cell_type": "code",
      "metadata": {
        "id": "kjp0gy4J8WXz",
        "colab_type": "code",
        "outputId": "282e09b9-1324-4df9-e9c5-5f645d914138",
        "colab": {
          "base_uri": "https://localhost:8080/",
          "height": 35
        }
      },
      "source": [
        "X_test = enc(test_df.texts).numpy()\n",
        "X_train.shape,  X_test.shape"
      ],
      "execution_count": 0,
      "outputs": [
        {
          "output_type": "execute_result",
          "data": {
            "text/plain": [
              "((26776, 512), (4725, 512))"
            ]
          },
          "metadata": {
            "tags": []
          },
          "execution_count": 11
        }
      ]
    },
    {
      "cell_type": "code",
      "metadata": {
        "id": "wwe42pDd8mjL",
        "colab_type": "code",
        "outputId": "0634d425-ce00-4407-ef62-b226ecee3e37",
        "colab": {
          "base_uri": "https://localhost:8080/",
          "height": 121
        }
      },
      "source": [
        "from sklearn.pipeline import Pipeline\n",
        "from sklearn.feature_extraction.text import TfidfVectorizer\n",
        "from sklearn.svm import SVR\n",
        "\n",
        "text_clf = Pipeline([\n",
        "    ('clf', SVR(kernel='linear')),\n",
        "])\n",
        "\n",
        "text_clf.fit(X_train, y_train)"
      ],
      "execution_count": 0,
      "outputs": [
        {
          "output_type": "execute_result",
          "data": {
            "text/plain": [
              "Pipeline(memory=None,\n",
              "         steps=[('clf',\n",
              "                 SVR(C=1.0, cache_size=200, coef0=0.0, degree=3, epsilon=0.1,\n",
              "                     gamma='scale', kernel='linear', max_iter=-1,\n",
              "                     shrinking=True, tol=0.001, verbose=False))],\n",
              "         verbose=False)"
            ]
          },
          "metadata": {
            "tags": []
          },
          "execution_count": 13
        }
      ]
    },
    {
      "cell_type": "code",
      "metadata": {
        "id": "-YVYT36_93Sk",
        "colab_type": "code",
        "outputId": "f67ad52b-855a-4293-de9c-520cf9d77d76",
        "colab": {
          "base_uri": "https://localhost:8080/",
          "height": 87
        }
      },
      "source": [
        "pred = text_clf.predict(X_test)\n",
        "np.mean((pred-y_test)**2), np.mean((y_test-y_test.mean())**2),\\\n",
        "np.mean((np.exp(pred)-np.exp(y_test))**2), np.mean((np.exp(y_test)-np.exp(y_test.mean()))**2),"
      ],
      "execution_count": 0,
      "outputs": [
        {
          "output_type": "execute_result",
          "data": {
            "text/plain": [
              "(1.7492904887374334,\n",
              " 2.4554771615351085,\n",
              " 1.4563651054847072e+16,\n",
              " 1.4623253764252518e+16)"
            ]
          },
          "metadata": {
            "tags": []
          },
          "execution_count": 14
        }
      ]
    },
    {
      "cell_type": "code",
      "metadata": {
        "id": "77ubzUax-Daq",
        "colab_type": "code",
        "colab": {}
      },
      "source": [
        ""
      ],
      "execution_count": 0,
      "outputs": []
    }
  ]
}